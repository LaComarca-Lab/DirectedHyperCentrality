{
 "cells": [
  {
   "cell_type": "markdown",
   "id": "3e8a175f-0db6-4534-8297-075de7cf2326",
   "metadata": {},
   "source": [
    "# Hypergraph processing and filtering"
   ]
  },
  {
   "cell_type": "code",
   "execution_count": 1,
   "id": "b892e729-7e71-4f40-bfb3-54436c4953f7",
   "metadata": {
    "tags": []
   },
   "outputs": [],
   "source": [
    "import pickle\n",
    "from copy import copy\n",
    "import numpy as np\n",
    "import networkx as nx\n",
    "import matplotlib.pyplot as plt\n",
    "from itertools import product, permutations\n",
    "from collections import defaultdict\n",
    "\n",
    "from useful_functions import *"
   ]
  },
  {
   "cell_type": "code",
   "execution_count": 2,
   "id": "407d0d6b-b4bc-4825-81e5-dde443251b3f",
   "metadata": {
    "tags": []
   },
   "outputs": [],
   "source": [
    "def filter_NF(dictionary, B, verbose=False):\n",
    "    \n",
    "    prev_dictionary = copy(dictionary)\n",
    "    \n",
    "    # Filtering: strongly connected component\n",
    "    G = standard_network(prev_dictionary)\n",
    "    if verbose:\n",
    "        print(len(G.nodes), len(G.edges))\n",
    "    \n",
    "    largest = max(nx.strongly_connected_components(G), key=len)\n",
    "    not_in_largest = set(G.nodes).difference(largest)\n",
    "    \n",
    "    if verbose:\n",
    "        print(\"Nodes originally in strongly connected projection\", len(largest))\n",
    "    \n",
    "    strong_conn = nx.is_strongly_connected(G)\n",
    "    while not strong_conn:\n",
    "\n",
    "        # Keep only LCC\n",
    "        next_dictionary = {}\n",
    "        for key, val in prev_dictionary.items():\n",
    "\n",
    "            include = True\n",
    "            for node in val[0] + val[1]:\n",
    "                if node in not_in_largest:\n",
    "                    include = False\n",
    "                    break\n",
    "\n",
    "            if len(val[0]) == B and include:\n",
    "                next_dictionary[key] = val\n",
    "                \n",
    "        prev_dictionary = copy(next_dictionary)\n",
    "        \n",
    "        # Filtering with the new subhypergraph\n",
    "        G = standard_network(prev_dictionary)\n",
    "        if verbose:\n",
    "            print(len(G.nodes), len(G.edges))\n",
    "        \n",
    "        try: \n",
    "            largest = max(nx.strongly_connected_components(G), key=len)\n",
    "            not_in_largest = set(G.nodes).difference(largest)\n",
    "        except ValueError:\n",
    "            print(f\"Error: A strongly connected hypergraph can't be constructed from this dataset with a restriction to {B} input nodes. Try with a different amount.\")\n",
    "            return None\n",
    "        \n",
    "        strong_conn = nx.is_strongly_connected(G)\n",
    "        \n",
    "    return next_dictionary"
   ]
  },
  {
   "cell_type": "markdown",
   "id": "dbb410e7-006a-4df9-9c8b-ef8438f0d19c",
   "metadata": {
    "jp-MarkdownHeadingCollapsed": true,
    "tags": []
   },
   "source": [
    "## Astrochem"
   ]
  },
  {
   "cell_type": "code",
   "execution_count": 4,
   "id": "fecb8b20-b875-46c1-88de-b1e51c62b283",
   "metadata": {},
   "outputs": [],
   "source": [
    "with open('ParsedHyperedges/astrochem.pkl', 'rb') as f:\n",
    "    astrochem_data = pickle.load(f)"
   ]
  },
  {
   "cell_type": "markdown",
   "id": "c53a5661-cdb3-4dc2-9c8a-5990ae2070fb",
   "metadata": {},
   "source": [
    "### 2-F hypergraph"
   ]
  },
  {
   "cell_type": "code",
   "execution_count": 5,
   "id": "36cc33b0-4a2d-4f5e-9f24-7bf75dc2dc13",
   "metadata": {
    "tags": []
   },
   "outputs": [
    {
     "data": {
      "text/plain": [
       "(439, 5123)"
      ]
     },
     "execution_count": 5,
     "metadata": {},
     "output_type": "execute_result"
    }
   ],
   "source": [
    "hyper2F = filter_NF(astrochem_data, 2)\n",
    "len(standard_network(hyper2F).nodes), len(hyper2F)"
   ]
  },
  {
   "cell_type": "code",
   "execution_count": 6,
   "id": "e1d59c55-7d7b-46f2-9135-d979bb9fe317",
   "metadata": {
    "tags": []
   },
   "outputs": [],
   "source": [
    "with open('ProcessedHypergraphs/astrochem2F.pkl', 'wb') as f:\n",
    "    pickle.dump(hyper2F, f)"
   ]
  },
  {
   "cell_type": "markdown",
   "id": "73914f18-e513-4011-9517-70038f015c11",
   "metadata": {
    "jp-MarkdownHeadingCollapsed": true,
    "tags": []
   },
   "source": [
    "## Pathways"
   ]
  },
  {
   "cell_type": "markdown",
   "id": "4702c508-642e-49ac-914f-36adafbc2b35",
   "metadata": {},
   "source": [
    "### PID"
   ]
  },
  {
   "cell_type": "code",
   "execution_count": 14,
   "id": "230df7c4-17b2-4a76-8be2-39c2cbb79201",
   "metadata": {},
   "outputs": [],
   "source": [
    "with open('ParsedHyperedges/pid.pkl', 'rb') as f:\n",
    "    pid_data = pickle.load(f)"
   ]
  },
  {
   "cell_type": "markdown",
   "id": "772aedc9-d8c4-477d-b241-c466f79869e4",
   "metadata": {},
   "source": [
    "#### 2-F hypergraph"
   ]
  },
  {
   "cell_type": "code",
   "execution_count": 15,
   "id": "92ea8dd2-997e-4810-9f4b-33960dbf8571",
   "metadata": {
    "tags": []
   },
   "outputs": [
    {
     "data": {
      "text/plain": [
       "(4, 2)"
      ]
     },
     "execution_count": 15,
     "metadata": {},
     "output_type": "execute_result"
    }
   ],
   "source": [
    "hyper2F = filter_NF(pid_data, 2)\n",
    "len(standard_network(hyper2F).nodes), len(hyper2F)"
   ]
  },
  {
   "cell_type": "code",
   "execution_count": 19,
   "id": "33962141-22e0-4268-85fb-7b6ca4bbf20a",
   "metadata": {
    "tags": []
   },
   "outputs": [
    {
     "data": {
      "text/plain": [
       "{'e992': (['SmallMolecule_21d1714b69eec47d13f1ee5f51c33ad7',\n",
       "   'SmallMolecule_632b165007a1a2082e2b24e2a4ff0719'],\n",
       "  ['SmallMolecule_e9bcb452fc7ee059dc684e53e596e6e6',\n",
       "   'SmallMolecule_183b1f102d3dea4f168192a09d3d97e3']),\n",
       " 'e1008': (['SmallMolecule_e9bcb452fc7ee059dc684e53e596e6e6',\n",
       "   'SmallMolecule_183b1f102d3dea4f168192a09d3d97e3'],\n",
       "  ['SmallMolecule_21d1714b69eec47d13f1ee5f51c33ad7',\n",
       "   'SmallMolecule_632b165007a1a2082e2b24e2a4ff0719'])}"
      ]
     },
     "execution_count": 19,
     "metadata": {},
     "output_type": "execute_result"
    }
   ],
   "source": [
    "hyper2F"
   ]
  },
  {
   "cell_type": "code",
   "execution_count": 11,
   "id": "a5a5424c-abe7-40f6-aa9a-d2473ea347b3",
   "metadata": {
    "tags": []
   },
   "outputs": [],
   "source": [
    "with open('ProcessedHypergraphs/pid2F.pkl', 'wb') as f:\n",
    "    pickle.dump(hyper2F, f)"
   ]
  },
  {
   "cell_type": "markdown",
   "id": "dc333f0b-0fd3-4bf8-b9ff-3d629b3ad9db",
   "metadata": {},
   "source": [
    "#### 3-F hypergraph"
   ]
  },
  {
   "cell_type": "code",
   "execution_count": 30,
   "id": "7ba6adac-fcb7-40ee-aa8a-029cc24ab7b0",
   "metadata": {
    "tags": []
   },
   "outputs": [
    {
     "name": "stdout",
     "output_type": "stream",
     "text": [
      "9009 15858\n",
      "Nodes originally in strongly connected projection 904\n",
      "126 220\n",
      "5 6\n",
      "0 0\n",
      "Error: A strongly connected hypergraph can't be constructed from this dataset with a restriction to 3 input nodes. Try with a different amount.\n"
     ]
    },
    {
     "ename": "AttributeError",
     "evalue": "'NoneType' object has no attribute 'values'",
     "output_type": "error",
     "traceback": [
      "\u001b[0;31m---------------------------------------------------------------------------\u001b[0m",
      "\u001b[0;31mAttributeError\u001b[0m                            Traceback (most recent call last)",
      "Cell \u001b[0;32mIn[30], line 2\u001b[0m\n\u001b[1;32m      1\u001b[0m hyper3F \u001b[38;5;241m=\u001b[39m filter_NF(pid_data, \u001b[38;5;241m3\u001b[39m, verbose\u001b[38;5;241m=\u001b[39m\u001b[38;5;28;01mTrue\u001b[39;00m)\n\u001b[0;32m----> 2\u001b[0m \u001b[38;5;28mlen\u001b[39m(\u001b[43mstandard_network\u001b[49m\u001b[43m(\u001b[49m\u001b[43mhyper3F\u001b[49m\u001b[43m)\u001b[49m\u001b[38;5;241m.\u001b[39mnodes), \u001b[38;5;28mlen\u001b[39m(hyper3F)\n",
      "File \u001b[0;32m~/Pruebas/ChemReactions/useful_functions.py:29\u001b[0m, in \u001b[0;36mstandard_network\u001b[0;34m(dictionary)\u001b[0m\n\u001b[1;32m     25\u001b[0m \u001b[38;5;28;01mdef\u001b[39;00m \u001b[38;5;21mstandard_network\u001b[39m(dictionary):\n\u001b[1;32m     27\u001b[0m     G \u001b[38;5;241m=\u001b[39m nx\u001b[38;5;241m.\u001b[39mDiGraph()\n\u001b[0;32m---> 29\u001b[0m     \u001b[38;5;28;01mfor\u001b[39;00m in_edge, out_edge \u001b[38;5;129;01min\u001b[39;00m \u001b[43mdictionary\u001b[49m\u001b[38;5;241;43m.\u001b[39;49m\u001b[43mvalues\u001b[49m():\n\u001b[1;32m     31\u001b[0m         \u001b[38;5;28;01mfor\u001b[39;00m edge \u001b[38;5;129;01min\u001b[39;00m product(in_edge, out_edge):\n\u001b[1;32m     32\u001b[0m             \u001b[38;5;28;01mif\u001b[39;00m edge \u001b[38;5;129;01min\u001b[39;00m G\u001b[38;5;241m.\u001b[39medges:\n",
      "\u001b[0;31mAttributeError\u001b[0m: 'NoneType' object has no attribute 'values'"
     ]
    }
   ],
   "source": [
    "hyper3F = filter_NF(pid_data, 3, verbose=True)\n",
    "len(standard_network(hyper3F).nodes), len(hyper3F)"
   ]
  },
  {
   "cell_type": "markdown",
   "id": "31f073ba-41ce-4dc7-8fad-714677f25709",
   "metadata": {},
   "source": [
    "### Reactome"
   ]
  },
  {
   "cell_type": "code",
   "execution_count": 6,
   "id": "e2e1641b-e389-4a7d-86b9-7d1c8e099dc2",
   "metadata": {},
   "outputs": [],
   "source": [
    "with open('ParsedHyperedges/reactome.pkl', 'rb') as f:\n",
    "    reactome_data = pickle.load(f)"
   ]
  },
  {
   "cell_type": "markdown",
   "id": "ac7c9b1d-f85e-478b-9738-e6d188041783",
   "metadata": {},
   "source": [
    "#### 2-F hypergraph"
   ]
  },
  {
   "cell_type": "code",
   "execution_count": 7,
   "id": "b2bc9495-5ea7-4be4-a60e-eee387026d8f",
   "metadata": {
    "tags": []
   },
   "outputs": [
    {
     "name": "stdout",
     "output_type": "stream",
     "text": [
      "Error: A strongly connected hypergraph can't be constructed from this dataset with a restriction to 2 input nodes. Try with a different amount.\n"
     ]
    },
    {
     "ename": "AttributeError",
     "evalue": "'NoneType' object has no attribute 'values'",
     "output_type": "error",
     "traceback": [
      "\u001b[0;31m---------------------------------------------------------------------------\u001b[0m",
      "\u001b[0;31mAttributeError\u001b[0m                            Traceback (most recent call last)",
      "Cell \u001b[0;32mIn[7], line 2\u001b[0m\n\u001b[1;32m      1\u001b[0m hyper2F \u001b[38;5;241m=\u001b[39m filter_NF(reactome_data, \u001b[38;5;241m2\u001b[39m)\n\u001b[0;32m----> 2\u001b[0m \u001b[38;5;28mlen\u001b[39m(\u001b[43mstandard_network\u001b[49m\u001b[43m(\u001b[49m\u001b[43mhyper2F\u001b[49m\u001b[43m)\u001b[49m\u001b[38;5;241m.\u001b[39mnodes), \u001b[38;5;28mlen\u001b[39m(hyper2F)\n",
      "File \u001b[0;32m~/Pruebas/ChemReactions/useful_functions.py:29\u001b[0m, in \u001b[0;36mstandard_network\u001b[0;34m(dictionary)\u001b[0m\n\u001b[1;32m     25\u001b[0m \u001b[38;5;28;01mdef\u001b[39;00m \u001b[38;5;21mstandard_network\u001b[39m(dictionary):\n\u001b[1;32m     27\u001b[0m     G \u001b[38;5;241m=\u001b[39m nx\u001b[38;5;241m.\u001b[39mDiGraph()\n\u001b[0;32m---> 29\u001b[0m     \u001b[38;5;28;01mfor\u001b[39;00m in_edge, out_edge \u001b[38;5;129;01min\u001b[39;00m \u001b[43mdictionary\u001b[49m\u001b[38;5;241;43m.\u001b[39;49m\u001b[43mvalues\u001b[49m():\n\u001b[1;32m     31\u001b[0m         \u001b[38;5;28;01mfor\u001b[39;00m edge \u001b[38;5;129;01min\u001b[39;00m product(in_edge, out_edge):\n\u001b[1;32m     32\u001b[0m             \u001b[38;5;28;01mif\u001b[39;00m edge \u001b[38;5;129;01min\u001b[39;00m G\u001b[38;5;241m.\u001b[39medges:\n",
      "\u001b[0;31mAttributeError\u001b[0m: 'NoneType' object has no attribute 'values'"
     ]
    }
   ],
   "source": [
    "hyper2F = filter_NF(reactome_data, 2)\n",
    "len(standard_network(hyper2F).nodes), len(hyper2F)"
   ]
  },
  {
   "cell_type": "markdown",
   "id": "56bf9f9c-4947-416b-ad6b-3f66a441e882",
   "metadata": {
    "jp-MarkdownHeadingCollapsed": true,
    "tags": []
   },
   "source": [
    "## KIDA"
   ]
  },
  {
   "cell_type": "code",
   "execution_count": 42,
   "id": "2ff7c728-1d4b-48af-953b-429214179afb",
   "metadata": {
    "tags": []
   },
   "outputs": [],
   "source": [
    "with open('ParsedHyperedges/KIDA_termolecular.pkl', 'rb') as f:\n",
    "    KIDA_dataT = pickle.load(f)\n",
    "    \n",
    "with open('ParsedHyperedges/KIDA_unibimolecular.pkl', 'rb') as f:\n",
    "    KIDA_dataU = pickle.load(f)\n",
    "    \n",
    "with open('ParsedHyperedges/KIDA_surface.pkl', 'rb') as f:\n",
    "    KIDA_dataS = pickle.load(f)\n",
    "    \n",
    "with open('ParsedHyperedges/KIDA_uva.pkl', 'rb') as f:\n",
    "    KIDA_dataV = pickle.load(f)"
   ]
  },
  {
   "cell_type": "markdown",
   "id": "fff6cf0b-a475-48ff-8610-bb6a7d5bc9ec",
   "metadata": {},
   "source": [
    "### 2-F hypergraph"
   ]
  },
  {
   "cell_type": "code",
   "execution_count": 37,
   "id": "b1ed0ebf-dbfc-4d8c-b559-4739c283b821",
   "metadata": {
    "tags": []
   },
   "outputs": [
    {
     "name": "stdout",
     "output_type": "stream",
     "text": [
      "Error: A strongly connected hypergraph can't be constructed from this dataset with a restriction to 2 input nodes. Try with a different amount.\n"
     ]
    },
    {
     "ename": "AttributeError",
     "evalue": "'NoneType' object has no attribute 'values'",
     "output_type": "error",
     "traceback": [
      "\u001b[0;31m---------------------------------------------------------------------------\u001b[0m",
      "\u001b[0;31mAttributeError\u001b[0m                            Traceback (most recent call last)",
      "Cell \u001b[0;32mIn[37], line 2\u001b[0m\n\u001b[1;32m      1\u001b[0m hyper2F \u001b[38;5;241m=\u001b[39m filter_NF(KIDA_dataT, \u001b[38;5;241m2\u001b[39m)\n\u001b[0;32m----> 2\u001b[0m \u001b[38;5;28mlen\u001b[39m(\u001b[43mstandard_network\u001b[49m\u001b[43m(\u001b[49m\u001b[43mhyper2F\u001b[49m\u001b[43m)\u001b[49m\u001b[38;5;241m.\u001b[39mnodes), \u001b[38;5;28mlen\u001b[39m(hyper2F)\n",
      "File \u001b[0;32m~/Pruebas/ChemReactions/useful_functions.py:29\u001b[0m, in \u001b[0;36mstandard_network\u001b[0;34m(dictionary)\u001b[0m\n\u001b[1;32m     25\u001b[0m \u001b[38;5;28;01mdef\u001b[39;00m \u001b[38;5;21mstandard_network\u001b[39m(dictionary):\n\u001b[1;32m     27\u001b[0m     G \u001b[38;5;241m=\u001b[39m nx\u001b[38;5;241m.\u001b[39mDiGraph()\n\u001b[0;32m---> 29\u001b[0m     \u001b[38;5;28;01mfor\u001b[39;00m in_edge, out_edge \u001b[38;5;129;01min\u001b[39;00m \u001b[43mdictionary\u001b[49m\u001b[38;5;241;43m.\u001b[39;49m\u001b[43mvalues\u001b[49m():\n\u001b[1;32m     31\u001b[0m         \u001b[38;5;28;01mfor\u001b[39;00m edge \u001b[38;5;129;01min\u001b[39;00m product(in_edge, out_edge):\n\u001b[1;32m     32\u001b[0m             \u001b[38;5;28;01mif\u001b[39;00m edge \u001b[38;5;129;01min\u001b[39;00m G\u001b[38;5;241m.\u001b[39medges:\n",
      "\u001b[0;31mAttributeError\u001b[0m: 'NoneType' object has no attribute 'values'"
     ]
    }
   ],
   "source": [
    "hyper2F = filter_NF(KIDA_dataT, 2)\n",
    "len(standard_network(hyper2F).nodes), len(hyper2F)"
   ]
  },
  {
   "cell_type": "code",
   "execution_count": 40,
   "id": "dbfc9cb0-845b-4808-9878-135b7ffeafbc",
   "metadata": {
    "tags": []
   },
   "outputs": [
    {
     "data": {
      "text/plain": [
       "(467, 7329)"
      ]
     },
     "execution_count": 40,
     "metadata": {},
     "output_type": "execute_result"
    }
   ],
   "source": [
    "hyper2F = filter_NF(KIDA_dataU, 2)\n",
    "len(standard_network(hyper2F).nodes), len(hyper2F)"
   ]
  },
  {
   "cell_type": "code",
   "execution_count": 41,
   "id": "c81d2e75-9252-4b90-8fd3-e2322eea613e",
   "metadata": {
    "tags": []
   },
   "outputs": [],
   "source": [
    "with open('ProcessedHypergraphs/KIDA_unibimolecular2F.pkl', 'wb') as f:\n",
    "    pickle.dump(hyper2F, f)"
   ]
  },
  {
   "cell_type": "code",
   "execution_count": 38,
   "id": "c09ae302-bcfc-400d-b1b0-ccdee352d043",
   "metadata": {
    "tags": []
   },
   "outputs": [
    {
     "data": {
      "text/plain": [
       "(20, 37)"
      ]
     },
     "execution_count": 38,
     "metadata": {},
     "output_type": "execute_result"
    }
   ],
   "source": [
    "hyper2F = filter_NF(KIDA_dataS, 2)\n",
    "len(standard_network(hyper2F).nodes), len(hyper2F)"
   ]
  },
  {
   "cell_type": "code",
   "execution_count": 39,
   "id": "ea68ca23-92a5-4736-bf57-925476c0b30f",
   "metadata": {
    "tags": []
   },
   "outputs": [],
   "source": [
    "with open('ProcessedHypergraphs/KIDA_surface2F.pkl', 'wb') as f:\n",
    "    pickle.dump(hyper2F, f)"
   ]
  },
  {
   "cell_type": "code",
   "execution_count": 43,
   "id": "d355bf31-3141-44d0-ab13-876bbbb211a8",
   "metadata": {
    "tags": []
   },
   "outputs": [
    {
     "data": {
      "text/plain": [
       "(489, 7275)"
      ]
     },
     "execution_count": 43,
     "metadata": {},
     "output_type": "execute_result"
    }
   ],
   "source": [
    "hyper2F = filter_NF(KIDA_dataV, 2)\n",
    "len(standard_network(hyper2F).nodes), len(hyper2F)"
   ]
  },
  {
   "cell_type": "code",
   "execution_count": 44,
   "id": "6257f102-ac99-4d26-b8b2-3e76a103428a",
   "metadata": {
    "tags": []
   },
   "outputs": [],
   "source": [
    "with open('ProcessedHypergraphs/KIDA_uva2F.pkl', 'wb') as f:\n",
    "    pickle.dump(hyper2F, f)"
   ]
  },
  {
   "cell_type": "markdown",
   "id": "5211e6db-f213-4363-a68f-b5c4db7d2f88",
   "metadata": {
    "tags": []
   },
   "source": [
    "## Reaction Template Generation"
   ]
  },
  {
   "cell_type": "code",
   "execution_count": 3,
   "id": "2d79287f-3a28-4a6c-9320-76499f15d5ce",
   "metadata": {},
   "outputs": [],
   "source": [
    "with open('ParsedHyperedges/ReactionTemplate.pkl', 'rb') as f:\n",
    "    RT_data = pickle.load(f)"
   ]
  },
  {
   "cell_type": "markdown",
   "id": "33782381-e5f4-4a0f-8beb-f0041f9c8b6b",
   "metadata": {},
   "source": [
    "### 2-F hypergraph"
   ]
  },
  {
   "cell_type": "code",
   "execution_count": 4,
   "id": "9fc78967-679d-4431-916e-b6303fe9ef98",
   "metadata": {
    "tags": []
   },
   "outputs": [
    {
     "data": {
      "text/plain": [
       "(55, 275)"
      ]
     },
     "execution_count": 4,
     "metadata": {},
     "output_type": "execute_result"
    }
   ],
   "source": [
    "hyper2F = filter_NF(RT_data, 2)\n",
    "len(standard_network(hyper2F).nodes), len(hyper2F)"
   ]
  },
  {
   "cell_type": "code",
   "execution_count": 5,
   "id": "714f0771-a481-4d82-9342-c37b5beef66e",
   "metadata": {
    "tags": []
   },
   "outputs": [],
   "source": [
    "with open('ProcessedHypergraphs/ReactionTemplate2F.pkl', 'wb') as f:\n",
    "    pickle.dump(hyper2F, f)"
   ]
  },
  {
   "cell_type": "code",
   "execution_count": null,
   "id": "d2fe6663-b220-4640-845b-a8f84ce3902b",
   "metadata": {},
   "outputs": [],
   "source": []
  }
 ],
 "metadata": {
  "kernelspec": {
   "display_name": "Python 3 (ipykernel)",
   "language": "python",
   "name": "python3"
  },
  "language_info": {
   "codemirror_mode": {
    "name": "ipython",
    "version": 3
   },
   "file_extension": ".py",
   "mimetype": "text/x-python",
   "name": "python",
   "nbconvert_exporter": "python",
   "pygments_lexer": "ipython3",
   "version": "3.10.12"
  }
 },
 "nbformat": 4,
 "nbformat_minor": 5
}
