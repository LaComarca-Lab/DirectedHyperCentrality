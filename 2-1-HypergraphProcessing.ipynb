{
 "cells": [
  {
   "cell_type": "markdown",
   "id": "3e8a175f-0db6-4534-8297-075de7cf2326",
   "metadata": {},
   "source": [
    "# Hypergraph processing and filtering"
   ]
  },
  {
   "cell_type": "code",
   "execution_count": 1,
   "id": "b892e729-7e71-4f40-bfb3-54436c4953f7",
   "metadata": {
    "tags": []
   },
   "outputs": [],
   "source": [
    "import pickle\n",
    "from copy import copy\n",
    "import numpy as np\n",
    "import networkx as nx\n",
    "import os\n",
    "import matplotlib.pyplot as plt\n",
    "from itertools import product, permutations\n",
    "from collections import defaultdict\n",
    "\n",
    "from useful_functions import *"
   ]
  },
  {
   "cell_type": "code",
   "execution_count": 2,
   "id": "407d0d6b-b4bc-4825-81e5-dde443251b3f",
   "metadata": {
    "tags": []
   },
   "outputs": [],
   "source": [
    "def filter_NF(dictionary, B, verbose=False, verbose_err=True):\n",
    "    \n",
    "    prev_dictionary = copy(dictionary)\n",
    "    \n",
    "    # Filtering: strongly connected component\n",
    "    G = standard_network(prev_dictionary)\n",
    "    if verbose:\n",
    "        print(len(G.nodes), len(G.edges))\n",
    "    \n",
    "    largest = max(nx.strongly_connected_components(G), key=len)\n",
    "    not_in_largest = set(G.nodes).difference(largest)\n",
    "    \n",
    "    if verbose:\n",
    "        print(\"Nodes originally in strongly connected projection\", len(largest))\n",
    "    \n",
    "    strong_conn = nx.is_strongly_connected(G)\n",
    "    while not strong_conn:\n",
    "\n",
    "        # Keep only LCC\n",
    "        next_dictionary = {}\n",
    "        for key, val in prev_dictionary.items():\n",
    "\n",
    "            include = True\n",
    "            for node in val[0] + val[1]:\n",
    "                if node in not_in_largest:\n",
    "                    include = False\n",
    "                    break\n",
    "\n",
    "            if len(val[0]) == B and include:\n",
    "                next_dictionary[key] = val\n",
    "                \n",
    "        prev_dictionary = copy(next_dictionary)\n",
    "        \n",
    "        # Filtering with the new subhypergraph\n",
    "        G = standard_network(prev_dictionary)\n",
    "        if verbose:\n",
    "            print(len(G.nodes), len(G.edges))\n",
    "        AttributeError\n",
    "        try: \n",
    "            largest = max(nx.strongly_connected_components(G), key=len)\n",
    "            not_in_largest = set(G.nodes).difference(largest)\n",
    "        except ValueError:\n",
    "            if verbose_err:\n",
    "                print(f\"Error: A strongly connected hypergraph can't be constructed from this dataset with a restriction to {B} input nodes. Try with a different amount.\")\n",
    "            return None\n",
    "        \n",
    "        strong_conn = nx.is_strongly_connected(G)\n",
    "        \n",
    "    return next_dictionary"
   ]
  },
  {
   "cell_type": "markdown",
   "id": "e06fe5cf-4ea3-4f51-8489-02c7947bad67",
   "metadata": {
    "tags": []
   },
   "source": [
    "## Chemical reactions"
   ]
  },
  {
   "cell_type": "markdown",
   "id": "dbb410e7-006a-4df9-9c8b-ef8438f0d19c",
   "metadata": {
    "tags": []
   },
   "source": [
    "### Astrochem"
   ]
  },
  {
   "cell_type": "code",
   "execution_count": 3,
   "id": "fecb8b20-b875-46c1-88de-b1e51c62b283",
   "metadata": {},
   "outputs": [],
   "source": [
    "with open('ParsedHyperedges/Chemical/astrochem.pkl', 'rb') as f:\n",
    "    astrochem_data = pickle.load(f)"
   ]
  },
  {
   "cell_type": "markdown",
   "id": "c53a5661-cdb3-4dc2-9c8a-5990ae2070fb",
   "metadata": {},
   "source": [
    "#### 2-F hypergraph"
   ]
  },
  {
   "cell_type": "code",
   "execution_count": 4,
   "id": "36cc33b0-4a2d-4f5e-9f24-7bf75dc2dc13",
   "metadata": {
    "tags": []
   },
   "outputs": [
    {
     "data": {
      "text/plain": [
       "(439, 5123)"
      ]
     },
     "execution_count": 4,
     "metadata": {},
     "output_type": "execute_result"
    }
   ],
   "source": [
    "hyper2F = filter_NF(astrochem_data, 2)\n",
    "len(standard_network(hyper2F).nodes), len(hyper2F)"
   ]
  },
  {
   "cell_type": "code",
   "execution_count": 5,
   "id": "e1d59c55-7d7b-46f2-9135-d979bb9fe317",
   "metadata": {
    "tags": []
   },
   "outputs": [],
   "source": [
    "with open('ProcessedHypergraphs/Chemical/astrochem2F.pkl', 'wb') as f:\n",
    "    pickle.dump(hyper2F, f)"
   ]
  },
  {
   "cell_type": "markdown",
   "id": "73914f18-e513-4011-9517-70038f015c11",
   "metadata": {
    "tags": []
   },
   "source": [
    "### Pathways"
   ]
  },
  {
   "cell_type": "markdown",
   "id": "4702c508-642e-49ac-914f-36adafbc2b35",
   "metadata": {
    "jp-MarkdownHeadingCollapsed": true,
    "tags": []
   },
   "source": [
    "#### PID"
   ]
  },
  {
   "cell_type": "code",
   "execution_count": 6,
   "id": "230df7c4-17b2-4a76-8be2-39c2cbb79201",
   "metadata": {},
   "outputs": [],
   "source": [
    "with open('ParsedHyperedges/Chemical/pid.pkl', 'rb') as f:\n",
    "    pid_data = pickle.load(f)"
   ]
  },
  {
   "cell_type": "markdown",
   "id": "772aedc9-d8c4-477d-b241-c466f79869e4",
   "metadata": {},
   "source": [
    "##### 2-F hypergraph"
   ]
  },
  {
   "cell_type": "code",
   "execution_count": 7,
   "id": "92ea8dd2-997e-4810-9f4b-33960dbf8571",
   "metadata": {
    "tags": []
   },
   "outputs": [
    {
     "data": {
      "text/plain": [
       "(4, 2)"
      ]
     },
     "execution_count": 7,
     "metadata": {},
     "output_type": "execute_result"
    }
   ],
   "source": [
    "hyper2F = filter_NF(pid_data, 2)\n",
    "len(standard_network(hyper2F).nodes), len(hyper2F)"
   ]
  },
  {
   "cell_type": "code",
   "execution_count": 8,
   "id": "33962141-22e0-4268-85fb-7b6ca4bbf20a",
   "metadata": {
    "tags": []
   },
   "outputs": [
    {
     "data": {
      "text/plain": [
       "{'e1008': (['SmallMolecule_183b1f102d3dea4f168192a09d3d97e3',\n",
       "   'SmallMolecule_e9bcb452fc7ee059dc684e53e596e6e6'],\n",
       "  ['SmallMolecule_632b165007a1a2082e2b24e2a4ff0719',\n",
       "   'SmallMolecule_21d1714b69eec47d13f1ee5f51c33ad7']),\n",
       " 'e992': (['SmallMolecule_632b165007a1a2082e2b24e2a4ff0719',\n",
       "   'SmallMolecule_21d1714b69eec47d13f1ee5f51c33ad7'],\n",
       "  ['SmallMolecule_183b1f102d3dea4f168192a09d3d97e3',\n",
       "   'SmallMolecule_e9bcb452fc7ee059dc684e53e596e6e6'])}"
      ]
     },
     "execution_count": 8,
     "metadata": {},
     "output_type": "execute_result"
    }
   ],
   "source": [
    "hyper2F"
   ]
  },
  {
   "cell_type": "code",
   "execution_count": 9,
   "id": "a5a5424c-abe7-40f6-aa9a-d2473ea347b3",
   "metadata": {
    "tags": []
   },
   "outputs": [],
   "source": [
    "with open('ProcessedHypergraphs/Chemical/pid2F.pkl', 'wb') as f:\n",
    "    pickle.dump(hyper2F, f)"
   ]
  },
  {
   "cell_type": "markdown",
   "id": "dc333f0b-0fd3-4bf8-b9ff-3d629b3ad9db",
   "metadata": {},
   "source": [
    "##### 3-F hypergraph"
   ]
  },
  {
   "cell_type": "code",
   "execution_count": 10,
   "id": "7ba6adac-fcb7-40ee-aa8a-029cc24ab7b0",
   "metadata": {
    "tags": []
   },
   "outputs": [
    {
     "name": "stdout",
     "output_type": "stream",
     "text": [
      "9009 15858\n",
      "Nodes originally in strongly connected projection 904\n",
      "126 220\n",
      "5 6\n",
      "0 0\n",
      "Error: A strongly connected hypergraph can't be constructed from this dataset with a restriction to 3 input nodes. Try with a different amount.\n"
     ]
    },
    {
     "ename": "AttributeError",
     "evalue": "'NoneType' object has no attribute 'values'",
     "output_type": "error",
     "traceback": [
      "\u001b[0;31m---------------------------------------------------------------------------\u001b[0m",
      "\u001b[0;31mAttributeError\u001b[0m                            Traceback (most recent call last)",
      "Cell \u001b[0;32mIn[10], line 2\u001b[0m\n\u001b[1;32m      1\u001b[0m hyper3F \u001b[38;5;241m=\u001b[39m filter_NF(pid_data, \u001b[38;5;241m3\u001b[39m, verbose\u001b[38;5;241m=\u001b[39m\u001b[38;5;28;01mTrue\u001b[39;00m)\n\u001b[0;32m----> 2\u001b[0m \u001b[38;5;28mlen\u001b[39m(\u001b[43mstandard_network\u001b[49m\u001b[43m(\u001b[49m\u001b[43mhyper3F\u001b[49m\u001b[43m)\u001b[49m\u001b[38;5;241m.\u001b[39mnodes), \u001b[38;5;28mlen\u001b[39m(hyper3F)\n",
      "File \u001b[0;32m~/Documents/Universidades/URJC/Projects/DirectedHypergraphs/useful_functions.py:82\u001b[0m, in \u001b[0;36mstandard_network\u001b[0;34m(dictionary)\u001b[0m\n\u001b[1;32m     78\u001b[0m \u001b[38;5;28;01mdef\u001b[39;00m \u001b[38;5;21mstandard_network\u001b[39m(dictionary):\n\u001b[1;32m     80\u001b[0m     G \u001b[38;5;241m=\u001b[39m nx\u001b[38;5;241m.\u001b[39mDiGraph()\n\u001b[0;32m---> 82\u001b[0m     \u001b[38;5;28;01mfor\u001b[39;00m in_edge, out_edge \u001b[38;5;129;01min\u001b[39;00m \u001b[43mdictionary\u001b[49m\u001b[38;5;241;43m.\u001b[39;49m\u001b[43mvalues\u001b[49m():\n\u001b[1;32m     84\u001b[0m         \u001b[38;5;28;01mfor\u001b[39;00m edge \u001b[38;5;129;01min\u001b[39;00m product(in_edge, out_edge):\n\u001b[1;32m     85\u001b[0m             \u001b[38;5;28;01mif\u001b[39;00m edge \u001b[38;5;129;01min\u001b[39;00m G\u001b[38;5;241m.\u001b[39medges:\n",
      "\u001b[0;31mAttributeError\u001b[0m: 'NoneType' object has no attribute 'values'"
     ]
    }
   ],
   "source": [
    "hyper3F = filter_NF(pid_data, 3, verbose=True)\n",
    "len(standard_network(hyper3F).nodes), len(hyper3F)"
   ]
  },
  {
   "cell_type": "markdown",
   "id": "31f073ba-41ce-4dc7-8fad-714677f25709",
   "metadata": {
    "jp-MarkdownHeadingCollapsed": true,
    "tags": []
   },
   "source": [
    "#### Reactome"
   ]
  },
  {
   "cell_type": "code",
   "execution_count": 11,
   "id": "e2e1641b-e389-4a7d-86b9-7d1c8e099dc2",
   "metadata": {},
   "outputs": [],
   "source": [
    "with open('ParsedHyperedges/Chemical/reactome.pkl', 'rb') as f:\n",
    "    reactome_data = pickle.load(f)"
   ]
  },
  {
   "cell_type": "markdown",
   "id": "ac7c9b1d-f85e-478b-9738-e6d188041783",
   "metadata": {
    "tags": []
   },
   "source": [
    "##### 2-F hypergraph"
   ]
  },
  {
   "cell_type": "code",
   "execution_count": 12,
   "id": "b2bc9495-5ea7-4be4-a60e-eee387026d8f",
   "metadata": {
    "tags": []
   },
   "outputs": [
    {
     "name": "stdout",
     "output_type": "stream",
     "text": [
      "Error: A strongly connected hypergraph can't be constructed from this dataset with a restriction to 2 input nodes. Try with a different amount.\n"
     ]
    },
    {
     "ename": "AttributeError",
     "evalue": "'NoneType' object has no attribute 'values'",
     "output_type": "error",
     "traceback": [
      "\u001b[0;31m---------------------------------------------------------------------------\u001b[0m",
      "\u001b[0;31mAttributeError\u001b[0m                            Traceback (most recent call last)",
      "Cell \u001b[0;32mIn[12], line 2\u001b[0m\n\u001b[1;32m      1\u001b[0m hyper2F \u001b[38;5;241m=\u001b[39m filter_NF(reactome_data, \u001b[38;5;241m2\u001b[39m)\n\u001b[0;32m----> 2\u001b[0m \u001b[38;5;28mlen\u001b[39m(\u001b[43mstandard_network\u001b[49m\u001b[43m(\u001b[49m\u001b[43mhyper2F\u001b[49m\u001b[43m)\u001b[49m\u001b[38;5;241m.\u001b[39mnodes), \u001b[38;5;28mlen\u001b[39m(hyper2F)\n",
      "File \u001b[0;32m~/Documents/Universidades/URJC/Projects/DirectedHypergraphs/useful_functions.py:82\u001b[0m, in \u001b[0;36mstandard_network\u001b[0;34m(dictionary)\u001b[0m\n\u001b[1;32m     78\u001b[0m \u001b[38;5;28;01mdef\u001b[39;00m \u001b[38;5;21mstandard_network\u001b[39m(dictionary):\n\u001b[1;32m     80\u001b[0m     G \u001b[38;5;241m=\u001b[39m nx\u001b[38;5;241m.\u001b[39mDiGraph()\n\u001b[0;32m---> 82\u001b[0m     \u001b[38;5;28;01mfor\u001b[39;00m in_edge, out_edge \u001b[38;5;129;01min\u001b[39;00m \u001b[43mdictionary\u001b[49m\u001b[38;5;241;43m.\u001b[39;49m\u001b[43mvalues\u001b[49m():\n\u001b[1;32m     84\u001b[0m         \u001b[38;5;28;01mfor\u001b[39;00m edge \u001b[38;5;129;01min\u001b[39;00m product(in_edge, out_edge):\n\u001b[1;32m     85\u001b[0m             \u001b[38;5;28;01mif\u001b[39;00m edge \u001b[38;5;129;01min\u001b[39;00m G\u001b[38;5;241m.\u001b[39medges:\n",
      "\u001b[0;31mAttributeError\u001b[0m: 'NoneType' object has no attribute 'values'"
     ]
    }
   ],
   "source": [
    "hyper2F = filter_NF(reactome_data, 2)\n",
    "len(standard_network(hyper2F).nodes), len(hyper2F)"
   ]
  },
  {
   "cell_type": "markdown",
   "id": "07f8f4da-ddb4-424a-b448-46d5fd1a1d2d",
   "metadata": {},
   "source": [
    "##### 3-F hypergraph"
   ]
  },
  {
   "cell_type": "code",
   "execution_count": 13,
   "id": "d9fb5676-46fd-4473-9e21-0e4164579de7",
   "metadata": {
    "tags": []
   },
   "outputs": [
    {
     "name": "stdout",
     "output_type": "stream",
     "text": [
      "Error: A strongly connected hypergraph can't be constructed from this dataset with a restriction to 3 input nodes. Try with a different amount.\n"
     ]
    },
    {
     "ename": "AttributeError",
     "evalue": "'NoneType' object has no attribute 'values'",
     "output_type": "error",
     "traceback": [
      "\u001b[0;31m---------------------------------------------------------------------------\u001b[0m",
      "\u001b[0;31mAttributeError\u001b[0m                            Traceback (most recent call last)",
      "Cell \u001b[0;32mIn[13], line 2\u001b[0m\n\u001b[1;32m      1\u001b[0m hyper3F \u001b[38;5;241m=\u001b[39m filter_NF(reactome_data, \u001b[38;5;241m3\u001b[39m)\n\u001b[0;32m----> 2\u001b[0m \u001b[38;5;28mlen\u001b[39m(\u001b[43mstandard_network\u001b[49m\u001b[43m(\u001b[49m\u001b[43mhyper3F\u001b[49m\u001b[43m)\u001b[49m\u001b[38;5;241m.\u001b[39mnodes), \u001b[38;5;28mlen\u001b[39m(hyper3F)\n",
      "File \u001b[0;32m~/Documents/Universidades/URJC/Projects/DirectedHypergraphs/useful_functions.py:82\u001b[0m, in \u001b[0;36mstandard_network\u001b[0;34m(dictionary)\u001b[0m\n\u001b[1;32m     78\u001b[0m \u001b[38;5;28;01mdef\u001b[39;00m \u001b[38;5;21mstandard_network\u001b[39m(dictionary):\n\u001b[1;32m     80\u001b[0m     G \u001b[38;5;241m=\u001b[39m nx\u001b[38;5;241m.\u001b[39mDiGraph()\n\u001b[0;32m---> 82\u001b[0m     \u001b[38;5;28;01mfor\u001b[39;00m in_edge, out_edge \u001b[38;5;129;01min\u001b[39;00m \u001b[43mdictionary\u001b[49m\u001b[38;5;241;43m.\u001b[39;49m\u001b[43mvalues\u001b[49m():\n\u001b[1;32m     84\u001b[0m         \u001b[38;5;28;01mfor\u001b[39;00m edge \u001b[38;5;129;01min\u001b[39;00m product(in_edge, out_edge):\n\u001b[1;32m     85\u001b[0m             \u001b[38;5;28;01mif\u001b[39;00m edge \u001b[38;5;129;01min\u001b[39;00m G\u001b[38;5;241m.\u001b[39medges:\n",
      "\u001b[0;31mAttributeError\u001b[0m: 'NoneType' object has no attribute 'values'"
     ]
    }
   ],
   "source": [
    "hyper3F = filter_NF(reactome_data, 3)\n",
    "len(standard_network(hyper3F).nodes), len(hyper3F)"
   ]
  },
  {
   "cell_type": "markdown",
   "id": "56bf9f9c-4947-416b-ad6b-3f66a441e882",
   "metadata": {
    "jp-MarkdownHeadingCollapsed": true,
    "tags": []
   },
   "source": [
    "### KIDA"
   ]
  },
  {
   "cell_type": "code",
   "execution_count": 14,
   "id": "2ff7c728-1d4b-48af-953b-429214179afb",
   "metadata": {
    "tags": []
   },
   "outputs": [],
   "source": [
    "with open('ParsedHyperedges/Chemical/KIDA_termolecular.pkl', 'rb') as f:\n",
    "    KIDA_dataT = pickle.load(f)\n",
    "    \n",
    "with open('ParsedHyperedges/Chemical/KIDA_unibimolecular.pkl', 'rb') as f:\n",
    "    KIDA_dataU = pickle.load(f)\n",
    "    \n",
    "with open('ParsedHyperedges/Chemical/KIDA_surface.pkl', 'rb') as f:\n",
    "    KIDA_dataS = pickle.load(f)\n",
    "    \n",
    "with open('ParsedHyperedges/Chemical/KIDA_uva.pkl', 'rb') as f:\n",
    "    KIDA_dataV = pickle.load(f)"
   ]
  },
  {
   "cell_type": "markdown",
   "id": "fff6cf0b-a475-48ff-8610-bb6a7d5bc9ec",
   "metadata": {},
   "source": [
    "#### 2-F hypergraph"
   ]
  },
  {
   "cell_type": "code",
   "execution_count": 15,
   "id": "b1ed0ebf-dbfc-4d8c-b559-4739c283b821",
   "metadata": {
    "tags": []
   },
   "outputs": [
    {
     "name": "stdout",
     "output_type": "stream",
     "text": [
      "Error: A strongly connected hypergraph can't be constructed from this dataset with a restriction to 2 input nodes. Try with a different amount.\n"
     ]
    },
    {
     "ename": "AttributeError",
     "evalue": "'NoneType' object has no attribute 'values'",
     "output_type": "error",
     "traceback": [
      "\u001b[0;31m---------------------------------------------------------------------------\u001b[0m",
      "\u001b[0;31mAttributeError\u001b[0m                            Traceback (most recent call last)",
      "Cell \u001b[0;32mIn[15], line 2\u001b[0m\n\u001b[1;32m      1\u001b[0m hyper2F \u001b[38;5;241m=\u001b[39m filter_NF(KIDA_dataT, \u001b[38;5;241m2\u001b[39m)\n\u001b[0;32m----> 2\u001b[0m \u001b[38;5;28mlen\u001b[39m(\u001b[43mstandard_network\u001b[49m\u001b[43m(\u001b[49m\u001b[43mhyper2F\u001b[49m\u001b[43m)\u001b[49m\u001b[38;5;241m.\u001b[39mnodes), \u001b[38;5;28mlen\u001b[39m(hyper2F)\n",
      "File \u001b[0;32m~/Documents/Universidades/URJC/Projects/DirectedHypergraphs/useful_functions.py:82\u001b[0m, in \u001b[0;36mstandard_network\u001b[0;34m(dictionary)\u001b[0m\n\u001b[1;32m     78\u001b[0m \u001b[38;5;28;01mdef\u001b[39;00m \u001b[38;5;21mstandard_network\u001b[39m(dictionary):\n\u001b[1;32m     80\u001b[0m     G \u001b[38;5;241m=\u001b[39m nx\u001b[38;5;241m.\u001b[39mDiGraph()\n\u001b[0;32m---> 82\u001b[0m     \u001b[38;5;28;01mfor\u001b[39;00m in_edge, out_edge \u001b[38;5;129;01min\u001b[39;00m \u001b[43mdictionary\u001b[49m\u001b[38;5;241;43m.\u001b[39;49m\u001b[43mvalues\u001b[49m():\n\u001b[1;32m     84\u001b[0m         \u001b[38;5;28;01mfor\u001b[39;00m edge \u001b[38;5;129;01min\u001b[39;00m product(in_edge, out_edge):\n\u001b[1;32m     85\u001b[0m             \u001b[38;5;28;01mif\u001b[39;00m edge \u001b[38;5;129;01min\u001b[39;00m G\u001b[38;5;241m.\u001b[39medges:\n",
      "\u001b[0;31mAttributeError\u001b[0m: 'NoneType' object has no attribute 'values'"
     ]
    }
   ],
   "source": [
    "hyper2F = filter_NF(KIDA_dataT, 2)\n",
    "len(standard_network(hyper2F).nodes), len(hyper2F)"
   ]
  },
  {
   "cell_type": "code",
   "execution_count": 16,
   "id": "dbfc9cb0-845b-4808-9878-135b7ffeafbc",
   "metadata": {
    "tags": []
   },
   "outputs": [
    {
     "data": {
      "text/plain": [
       "(467, 7329)"
      ]
     },
     "execution_count": 16,
     "metadata": {},
     "output_type": "execute_result"
    }
   ],
   "source": [
    "hyper2F = filter_NF(KIDA_dataU, 2)\n",
    "len(standard_network(hyper2F).nodes), len(hyper2F)"
   ]
  },
  {
   "cell_type": "code",
   "execution_count": 17,
   "id": "c81d2e75-9252-4b90-8fd3-e2322eea613e",
   "metadata": {
    "tags": []
   },
   "outputs": [],
   "source": [
    "with open('ProcessedHypergraphs/Chemical/KIDA_unibimolecular2F.pkl', 'wb') as f:\n",
    "    pickle.dump(hyper2F, f)"
   ]
  },
  {
   "cell_type": "code",
   "execution_count": 18,
   "id": "c09ae302-bcfc-400d-b1b0-ccdee352d043",
   "metadata": {
    "tags": []
   },
   "outputs": [
    {
     "data": {
      "text/plain": [
       "(20, 37)"
      ]
     },
     "execution_count": 18,
     "metadata": {},
     "output_type": "execute_result"
    }
   ],
   "source": [
    "hyper2F = filter_NF(KIDA_dataS, 2)\n",
    "len(standard_network(hyper2F).nodes), len(hyper2F)"
   ]
  },
  {
   "cell_type": "code",
   "execution_count": 19,
   "id": "ea68ca23-92a5-4736-bf57-925476c0b30f",
   "metadata": {
    "tags": []
   },
   "outputs": [],
   "source": [
    "with open('ProcessedHypergraphs/Chemical/KIDA_surface2F.pkl', 'wb') as f:\n",
    "    pickle.dump(hyper2F, f)"
   ]
  },
  {
   "cell_type": "code",
   "execution_count": 20,
   "id": "d355bf31-3141-44d0-ab13-876bbbb211a8",
   "metadata": {
    "tags": []
   },
   "outputs": [
    {
     "data": {
      "text/plain": [
       "(489, 7275)"
      ]
     },
     "execution_count": 20,
     "metadata": {},
     "output_type": "execute_result"
    }
   ],
   "source": [
    "hyper2F = filter_NF(KIDA_dataV, 2)\n",
    "len(standard_network(hyper2F).nodes), len(hyper2F)"
   ]
  },
  {
   "cell_type": "code",
   "execution_count": 21,
   "id": "6257f102-ac99-4d26-b8b2-3e76a103428a",
   "metadata": {
    "tags": []
   },
   "outputs": [],
   "source": [
    "with open('ProcessedHypergraphs/Chemical/KIDA_uva2F.pkl', 'wb') as f:\n",
    "    pickle.dump(hyper2F, f)"
   ]
  },
  {
   "cell_type": "markdown",
   "id": "5211e6db-f213-4363-a68f-b5c4db7d2f88",
   "metadata": {
    "jp-MarkdownHeadingCollapsed": true,
    "tags": []
   },
   "source": [
    "### Reaction Template Generation"
   ]
  },
  {
   "cell_type": "code",
   "execution_count": 22,
   "id": "2d79287f-3a28-4a6c-9320-76499f15d5ce",
   "metadata": {},
   "outputs": [],
   "source": [
    "with open('ParsedHyperedges/Chemical/ReactionTemplate.pkl', 'rb') as f:\n",
    "    RT_data = pickle.load(f)"
   ]
  },
  {
   "cell_type": "markdown",
   "id": "33782381-e5f4-4a0f-8beb-f0041f9c8b6b",
   "metadata": {},
   "source": [
    "#### 2-F hypergraph"
   ]
  },
  {
   "cell_type": "code",
   "execution_count": 23,
   "id": "9fc78967-679d-4431-916e-b6303fe9ef98",
   "metadata": {
    "tags": []
   },
   "outputs": [
    {
     "data": {
      "text/plain": [
       "(55, 275)"
      ]
     },
     "execution_count": 23,
     "metadata": {},
     "output_type": "execute_result"
    }
   ],
   "source": [
    "hyper2F = filter_NF(RT_data, 2)\n",
    "len(standard_network(hyper2F).nodes), len(hyper2F)"
   ]
  },
  {
   "cell_type": "code",
   "execution_count": 24,
   "id": "714f0771-a481-4d82-9342-c37b5beef66e",
   "metadata": {
    "tags": []
   },
   "outputs": [],
   "source": [
    "with open('ProcessedHypergraphs/Chemical/ReactionTemplate2F.pkl', 'wb') as f:\n",
    "    pickle.dump(hyper2F, f)"
   ]
  },
  {
   "cell_type": "markdown",
   "id": "d3c7f223-1f67-4960-8415-629821422376",
   "metadata": {},
   "source": [
    "#### 3-F hypergraph"
   ]
  },
  {
   "cell_type": "code",
   "execution_count": 25,
   "id": "9ea22766-9e81-4cb5-adcc-81dd9a0e6d57",
   "metadata": {
    "tags": []
   },
   "outputs": [
    {
     "name": "stdout",
     "output_type": "stream",
     "text": [
      "Error: A strongly connected hypergraph can't be constructed from this dataset with a restriction to 3 input nodes. Try with a different amount.\n"
     ]
    },
    {
     "ename": "AttributeError",
     "evalue": "'NoneType' object has no attribute 'values'",
     "output_type": "error",
     "traceback": [
      "\u001b[0;31m---------------------------------------------------------------------------\u001b[0m",
      "\u001b[0;31mAttributeError\u001b[0m                            Traceback (most recent call last)",
      "Cell \u001b[0;32mIn[25], line 2\u001b[0m\n\u001b[1;32m      1\u001b[0m hyper3F \u001b[38;5;241m=\u001b[39m filter_NF(RT_data, \u001b[38;5;241m3\u001b[39m)\n\u001b[0;32m----> 2\u001b[0m \u001b[38;5;28mlen\u001b[39m(\u001b[43mstandard_network\u001b[49m\u001b[43m(\u001b[49m\u001b[43mhyper3F\u001b[49m\u001b[43m)\u001b[49m\u001b[38;5;241m.\u001b[39mnodes), \u001b[38;5;28mlen\u001b[39m(hyper3F)\n",
      "File \u001b[0;32m~/Documents/Universidades/URJC/Projects/DirectedHypergraphs/useful_functions.py:82\u001b[0m, in \u001b[0;36mstandard_network\u001b[0;34m(dictionary)\u001b[0m\n\u001b[1;32m     78\u001b[0m \u001b[38;5;28;01mdef\u001b[39;00m \u001b[38;5;21mstandard_network\u001b[39m(dictionary):\n\u001b[1;32m     80\u001b[0m     G \u001b[38;5;241m=\u001b[39m nx\u001b[38;5;241m.\u001b[39mDiGraph()\n\u001b[0;32m---> 82\u001b[0m     \u001b[38;5;28;01mfor\u001b[39;00m in_edge, out_edge \u001b[38;5;129;01min\u001b[39;00m \u001b[43mdictionary\u001b[49m\u001b[38;5;241;43m.\u001b[39;49m\u001b[43mvalues\u001b[49m():\n\u001b[1;32m     84\u001b[0m         \u001b[38;5;28;01mfor\u001b[39;00m edge \u001b[38;5;129;01min\u001b[39;00m product(in_edge, out_edge):\n\u001b[1;32m     85\u001b[0m             \u001b[38;5;28;01mif\u001b[39;00m edge \u001b[38;5;129;01min\u001b[39;00m G\u001b[38;5;241m.\u001b[39medges:\n",
      "\u001b[0;31mAttributeError\u001b[0m: 'NoneType' object has no attribute 'values'"
     ]
    }
   ],
   "source": [
    "hyper3F = filter_NF(RT_data, 3)\n",
    "len(standard_network(hyper3F).nodes), len(hyper3F)"
   ]
  },
  {
   "cell_type": "markdown",
   "id": "1049a6d6-fc31-45d9-b562-097e0b2ddb1b",
   "metadata": {
    "tags": []
   },
   "source": [
    "## Metabolical reactions"
   ]
  },
  {
   "cell_type": "markdown",
   "id": "dbd5f73c-28b5-4922-ab6b-c18e4f7d25fc",
   "metadata": {},
   "source": [
    "### BiGG"
   ]
  },
  {
   "cell_type": "code",
   "execution_count": 27,
   "id": "328e4f30-7e13-46be-998c-e72788145850",
   "metadata": {},
   "outputs": [
    {
     "name": "stdout",
     "output_type": "stream",
     "text": [
      "iECBD_1354.pkl\n",
      "--- 2: OK --- 3: Fail\n",
      "iYL1228.pkl\n",
      "--- 2: OK --- 3: Fail\n",
      "iNF517.pkl\n",
      "--- 2: Fail --- 3: Fail\n",
      "iETEC_1333.pkl\n",
      "--- 2: OK --- 3: Fail\n",
      "iEC1368_DH5a.pkl\n",
      "--- 2: OK --- 3: Fail\n",
      "iECO26_1355.pkl\n",
      "--- 2: OK --- 3: Fail\n",
      "iAB_RBC_283.pkl\n",
      "--- 2: OK --- 3: Fail\n",
      "iAF1260b.pkl\n",
      "--- 2: OK --- 3: Fail\n",
      "iPC815.pkl\n",
      "--- 2: Fail --- 3: Fail\n",
      "iEcolC_1368.pkl\n",
      "--- 2: OK --- 3: Fail\n",
      "iECO103_1326.pkl\n",
      "--- 2: OK --- 3: Fail\n",
      "iSSON_1240.pkl\n",
      "--- 2: OK --- 3: Fail\n",
      "iRC1080.pkl\n",
      "--- 2: OK --- 3: Fail\n",
      "iJB785.pkl\n",
      "--- 2: Fail --- 3: Fail\n",
      "iCHOv1_DG44.pkl\n",
      "--- 2: Fail --- 3: Fail\n",
      "iECUMN_1333.pkl\n",
      "--- 2: OK --- 3: Fail\n",
      "iECDH1ME8569_1439.pkl\n",
      "--- 2: OK --- 3: Fail\n",
      "iECABU_c1320.pkl\n",
      "--- 2: OK --- 3: Fail\n",
      "iAPECO1_1312.pkl\n",
      "--- 2: OK --- 3: Fail\n",
      "iG2583_1286.pkl\n",
      "--- 2: OK --- 3: Fail\n",
      "iSynCJ816.pkl\n",
      "--- 2: Fail --- 3: Fail\n",
      "iECOK1_1307.pkl\n",
      "--- 2: OK --- 3: Fail\n",
      "iJN678.pkl\n",
      "--- 2: OK --- 3: Fail\n",
      "iNJ661.pkl\n",
      "--- 2: OK --- 3: OK\n",
      "iECSF_1327.pkl\n",
      "--- 2: OK --- 3: Fail\n",
      "iECs_1301.pkl\n",
      "--- 2: OK --- 3: Fail\n",
      "iAT_PLT_636.pkl\n",
      "--- 2: Fail --- 3: Fail\n",
      "iBWG_1329.pkl\n",
      "--- 2: OK --- 3: Fail\n",
      "iCN718.pkl\n",
      "--- 2: Fail --- 3: Fail\n",
      "iIS312_Amastigote.pkl\n",
      "--- 2: Fail --- 3: Fail\n",
      "iECNA114_1301.pkl\n",
      "--- 2: OK --- 3: Fail\n",
      "iND750.pkl\n",
      "--- 2: OK --- 3: Fail\n",
      "iECH74115_1262.pkl\n",
      "--- 2: OK --- 3: Fail\n",
      "iSFV_1184.pkl\n",
      "--- 2: OK --- 3: Fail\n",
      "iEC1349_Crooks.pkl\n",
      "--- 2: OK --- 3: Fail\n",
      "iECSP_1301.pkl\n",
      "--- 2: OK --- 3: Fail\n",
      "iEC1372_W3110.pkl\n",
      "--- 2: OK --- 3: Fail\n",
      "iEcHS_1320.pkl\n",
      "--- 2: OK --- 3: Fail\n",
      "iJN746.pkl\n",
      "--- 2: OK --- 3: Fail\n",
      "iLB1027_lipid.pkl\n",
      "--- 2: Fail --- 3: Fail\n",
      "iB21_1397.pkl\n",
      "--- 2: OK --- 3: Fail\n",
      "iCN900.pkl\n",
      "--- 2: Fail --- 3: OK\n",
      "iECW_1372.pkl\n",
      "--- 2: OK --- 3: Fail\n",
      "iAM_Pb448.pkl\n",
      "--- 2: Fail --- 3: Fail\n",
      "iJN1463.pkl\n",
      "--- 2: OK --- 3: Fail\n",
      "iEcE24377_1341.pkl\n",
      "--- 2: OK --- 3: Fail\n",
      "iIS312_Trypomastigote.pkl\n",
      "--- 2: Fail --- 3: Fail\n",
      "iAM_Pc455.pkl\n",
      "--- 2: Fail --- 3: Fail\n",
      "iLJ478.pkl\n",
      "--- 2: Fail --- 3: OK\n",
      "iSFxv_1172.pkl\n",
      "--- 2: OK --- 3: Fail\n",
      "iUTI89_1310.pkl\n",
      "--- 2: OK --- 3: Fail\n",
      "iS_1188.pkl\n",
      "--- 2: OK --- 3: Fail\n",
      "iECIAI39_1322.pkl\n",
      "--- 2: OK --- 3: Fail\n",
      "iAF1260.pkl\n",
      "--- 2: OK --- 3: Fail\n",
      "e_coli_core.pkl\n",
      "--- 2: OK --- 3: Fail\n",
      "iJR904.pkl\n",
      "--- 2: Fail --- 3: Fail\n",
      "iECSE_1348.pkl\n",
      "--- 2: OK --- 3: Fail\n",
      "RECON1.pkl\n",
      "--- 2: OK --- 3: Fail\n",
      "iSDY_1059.pkl\n",
      "--- 2: OK --- 3: Fail\n",
      "iZ_1308.pkl\n",
      "--- 2: OK --- 3: Fail\n",
      "iAF692.pkl\n",
      "--- 2: Fail --- 3: OK\n",
      "iNRG857_1313.pkl\n",
      "--- 2: OK --- 3: Fail\n",
      "iAM_Pv461.pkl\n",
      "--- 2: Fail --- 3: Fail\n",
      "iAF987.pkl\n",
      "--- 2: OK --- 3: Fail\n",
      "iIT341.pkl\n",
      "--- 2: Fail --- 3: Fail\n",
      "iMM1415.pkl\n",
      "--- 2: OK --- 3: Fail\n",
      "Recon3D.pkl\n",
      "--- 2: OK --- 3: Fail\n",
      "iEC1344_C.pkl\n",
      "--- 2: OK --- 3: Fail\n",
      "iSB619.pkl\n",
      "--- 2: Fail --- 3: Fail\n",
      "iYS854.pkl\n",
      "--- 2: Fail --- 3: Fail\n",
      "iUMN146_1321.pkl\n",
      "--- 2: OK --- 3: Fail\n",
      "iAM_Pf480.pkl\n",
      "--- 2: Fail --- 3: Fail\n",
      "ic_1306.pkl\n",
      "--- 2: OK --- 3: Fail\n",
      "iEK1008.pkl\n",
      "--- 2: OK --- 3: Fail\n",
      "iEC042_1314.pkl\n",
      "--- 2: OK --- 3: Fail\n",
      "iIS312_Epimastigote.pkl\n",
      "--- 2: Fail --- 3: Fail\n",
      "iECDH10B_1368.pkl\n",
      "--- 2: OK --- 3: Fail\n",
      "iE2348C_1286.pkl\n",
      "--- 2: OK --- 3: Fail\n",
      "iUMNK88_1353.pkl\n",
      "--- 2: OK --- 3: Fail\n",
      "iECS88_1305.pkl\n",
      "--- 2: OK --- 3: Fail\n"
     ]
    }
   ],
   "source": [
    "folder = 'ParsedHyperedges/Metabolical-BiGG/'\n",
    "for file in os.listdir(folder):\n",
    "    \n",
    "    print(file)\n",
    "    \n",
    "    with open(folder + file, 'rb') as f:\n",
    "        BiGG_data = pickle.load(f)\n",
    "    \n",
    "    ## 3F\n",
    "    \n",
    "    hyper2F = filter_NF(BiGG_data, 2, verbose_err=False)\n",
    "    \n",
    "    if hyper2F:\n",
    "        twoF = 'OK'\n",
    "        with open(f'ProcessedHypergraphs/Metabolical-BiGG/{file.split(\".pkl\")[0]}-2F.pkl', 'wb') as f:\n",
    "            pickle.dump(hyper2F, f)\n",
    "    else:\n",
    "        twoF = 'Fail'\n",
    "    \n",
    "            \n",
    "    ## 3F\n",
    "    \n",
    "    hyper3F = filter_NF(BiGG_data, 3, verbose_err=False)            \n",
    "    \n",
    "    if hyper3F:\n",
    "        threeF = 'OK'\n",
    "        with open(f'ProcessedHypergraphs/Metabolical-BiGG/{file.split(\".pkl\")[0]}-3F.pkl', 'wb') as f:\n",
    "            pickle.dump(hyper3F, f)\n",
    "    else:\n",
    "        threeF = 'Fail'\n",
    "        \n",
    "    print('--- 2:', twoF, '--- 3:', threeF)\n",
    "        "
   ]
  },
  {
   "cell_type": "code",
   "execution_count": null,
   "id": "196d8d58-01e8-4b4c-b77c-35835c139a1d",
   "metadata": {},
   "outputs": [],
   "source": []
  }
 ],
 "metadata": {
  "kernelspec": {
   "display_name": "Python 3 (ipykernel)",
   "language": "python",
   "name": "python3"
  },
  "language_info": {
   "codemirror_mode": {
    "name": "ipython",
    "version": 3
   },
   "file_extension": ".py",
   "mimetype": "text/x-python",
   "name": "python",
   "nbconvert_exporter": "python",
   "pygments_lexer": "ipython3",
   "version": "3.10.12"
  }
 },
 "nbformat": 4,
 "nbformat_minor": 5
}
