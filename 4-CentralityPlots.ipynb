{
 "cells": [
  {
   "cell_type": "markdown",
   "id": "f4c3f57a-02f8-4981-bf32-c3540d345e33",
   "metadata": {},
   "source": [
    "# Centrality plots and stats"
   ]
  },
  {
   "cell_type": "code",
   "execution_count": 2,
   "id": "58d2eb67-12e4-42b4-a94e-9417f258140f",
   "metadata": {
    "tags": []
   },
   "outputs": [],
   "source": [
    "import pickle\n",
    "import numpy as np\n",
    "import networkx as nx\n",
    "import scipy\n",
    "import matplotlib.pyplot as plt\n",
    "from itertools import product, permutations\n",
    "from collections import defaultdict\n",
    "from copy import copy\n",
    "import os\n",
    "\n",
    "import scienceplots\n",
    "\n",
    "plt.style.use(['science'])\n",
    "\n",
    "from useful_functions import *"
   ]
  },
  {
   "cell_type": "markdown",
   "id": "b47c4576-374c-4619-8ba3-b1076a21f2d4",
   "metadata": {},
   "source": [
    "## Load data and transform node indices into labels"
   ]
  },
  {
   "cell_type": "code",
   "execution_count": 6,
   "id": "ab727337-82b1-4760-8ec8-9670ae221061",
   "metadata": {
    "tags": []
   },
   "outputs": [],
   "source": [
    "all_centralities = {}\n",
    "\n",
    "for file in os.listdir('CentralityData'):\n",
    "    \n",
    "    if 'cent' not in file:\n",
    "        continue\n",
    "    \n",
    "    with open(f'CentralityData/{file}', 'rb') as f:\n",
    "        \n",
    "        name = file.split('_')[1].split('.')[0]\n",
    "        all_centralities[name] = pickle.load(f)"
   ]
  },
  {
   "cell_type": "code",
   "execution_count": 9,
   "id": "aca7bebd-7c90-4eb7-b925-42a37eba98f8",
   "metadata": {
    "tags": []
   },
   "outputs": [],
   "source": [
    "all_centralities_names = {}\n",
    "\n",
    "for name, rankings in all_centralities.items():\n",
    "    \n",
    "    labels = rankings['labels']\n",
    "    inv_labels = {index: molec for molec, index in labels.items()}\n",
    "    \n",
    "    EC = {inv_labels[index]:cent for index, cent in rankings['EC'].items()} \n",
    "    HEC = {inv_labels[index]:cent for index, cent in rankings['HEC'].items()} \n",
    "    \n",
    "    all_centralities_names[name] = (EC, HEC)"
   ]
  },
  {
   "cell_type": "markdown",
   "id": "3911ebdf-825b-40cd-a5bd-d5f8a69ab387",
   "metadata": {},
   "source": [
    "## Relation with in/out-degree"
   ]
  },
  {
   "cell_type": "code",
   "execution_count": null,
   "id": "cb4dcaa5-7fde-42a2-8e0e-e13473bb54ee",
   "metadata": {},
   "outputs": [],
   "source": []
  },
  {
   "cell_type": "markdown",
   "id": "a46c700b-c89b-4601-b20c-ceccdbb42e24",
   "metadata": {
    "tags": []
   },
   "source": [
    "## Top nodes table"
   ]
  },
  {
   "cell_type": "code",
   "execution_count": 16,
   "id": "90667544-1a7b-44a7-9a3d-e85cb24a30a8",
   "metadata": {
    "tags": []
   },
   "outputs": [
    {
     "name": "stdout",
     "output_type": "stream",
     "text": [
      "dict_keys(['H', 'H2', 'CO', 'C', 'CN']) dict_keys(['E', 'C', 'C+', 'O', 'H+'])\n",
      "dict_keys(['H', 'H2', 'CO', 'C', 'He']) dict_keys(['e-', 'He+', 'Photon', 'O', 'C'])\n",
      "dict_keys(['H', 'H2', 'C', 'CO', 'CN']) dict_keys(['e-', 'He+', 'Photon', 'C+', 'H+'])\n",
      "dict_keys(['H', 'OH', 'O', 'CH3', 'HCO']) dict_keys(['OH', 'H', 'O', 'CH3', 'O2'])\n",
      "dict_keys(['H2', 'CH4', 'H', 'CH3', 'NO']) dict_keys(['H', 'CH3SH', 'CH3', 'H2CS', 'HNO'])\n"
     ]
    }
   ],
   "source": [
    "K = 5 \n",
    "for name, (EC, HEC) in all_centralities_names.items(): \n",
    "    print(topN(EC, K).keys(), topN(HEC, K).keys())"
   ]
  },
  {
   "cell_type": "markdown",
   "id": "c0af1e9e-712d-49b5-bb57-78925f3fb7ac",
   "metadata": {},
   "source": [
    "$$\n",
    "\\begin{table}{ccc}\n",
    "a & b & c\\\\\n",
    "\\end{table}\n",
    "$$"
   ]
  },
  {
   "cell_type": "markdown",
   "id": "a7a9579a-4b51-4c6e-9a34-6740fa8cf990",
   "metadata": {},
   "source": [
    "$$\n",
    "x = 2\n",
    "$$"
   ]
  },
  {
   "cell_type": "markdown",
   "id": "a2914f37-3659-4979-9562-20b20fd1e88b",
   "metadata": {},
   "source": [
    "## Network centrality visualization"
   ]
  },
  {
   "cell_type": "markdown",
   "id": "712e7ad4-bb93-4923-97dc-f0ffb5c1ebd4",
   "metadata": {},
   "source": []
  }
 ],
 "metadata": {
  "kernelspec": {
   "display_name": "Python 3 (ipykernel)",
   "language": "python",
   "name": "python3"
  },
  "language_info": {
   "codemirror_mode": {
    "name": "ipython",
    "version": 3
   },
   "file_extension": ".py",
   "mimetype": "text/x-python",
   "name": "python",
   "nbconvert_exporter": "python",
   "pygments_lexer": "ipython3",
   "version": "3.10.12"
  }
 },
 "nbformat": 4,
 "nbformat_minor": 5
}
