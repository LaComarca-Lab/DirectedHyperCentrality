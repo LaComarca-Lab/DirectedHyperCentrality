{
 "cells": [
  {
   "cell_type": "code",
   "execution_count": 1,
   "id": "c5d3e410-27d2-4061-beb9-e90c483f8d41",
   "metadata": {
    "tags": []
   },
   "outputs": [],
   "source": [
    "import sys\n",
    "from optparse import OptionParser\n",
    "import pickle as pkl\n",
    "\n",
    "#from ilp import find_shortest_hyperpath_parallel \n",
    "#from pathheuristic import get_doubly_reachable_graph, tail_path_heuristic\n",
    "#from cutfinder import convert_vertex_cuts_to_edge_cuts\n",
    "\n",
    "from halp.directed_hypergraph import DirectedHypergraph"
   ]
  },
  {
   "cell_type": "code",
   "execution_count": 2,
   "id": "e988cbf4-669d-41fe-82c1-93ae510cc913",
   "metadata": {
    "tags": []
   },
   "outputs": [],
   "source": [
    "def make_hypergraph(file_prefix,delim=';',sep='\\t',keep_singleton_nodes=False,target=None,select_edges=[]):\n",
    "    hypernodes = {}\n",
    "    with open(file_prefix+'-hypernodes.txt') as fin:\n",
    "        for line in fin:\n",
    "            if line[0] == '#':\n",
    "                continue\n",
    "            row = line.strip().split(sep)\n",
    "            if len(row) == 1:\n",
    "                hypernodes[row[0]] = ['OtherComplexes-FIX']\n",
    "            else:\n",
    "                hypernodes[row[0]] = row[1].split(delim)\n",
    "    print(('%d hypernodes from hypernodes file' % (len(hypernodes))))\n",
    "    identifier2id = {}\n",
    "    id2identifier = {}\n",
    "    H = DirectedHypergraph()\n",
    "    if keep_singleton_nodes:\n",
    "        for n in hypernodes:\n",
    "            H.add_node(n)\n",
    "\n",
    "    skipped1 = 0\n",
    "    skipped2 = 0\n",
    "    tailsizes = []\n",
    "    headsizes = []\n",
    "    selfloops = []\n",
    "    noinselfloops = 0\n",
    "    indegree = []\n",
    "    outdegree = []\n",
    "    numtargets = 0\n",
    "    numsources = 0\n",
    "\n",
    "    with open(file_prefix+'-hyperedges.txt') as fin:\n",
    "        for line in fin:\n",
    "            if line[0] == '#':\n",
    "                continue\n",
    "            #row = line.strip().split(sep)\n",
    "            row = line.strip().split()\n",
    "            tail = set()\n",
    "            head = set()\n",
    "\n",
    "            ## Tail includes tail and regulators.\n",
    "            ## Head includes head.\n",
    "            if row[0] != 'None' and row[0] != '':\n",
    "                tail.update(row[0].split(delim))\n",
    "            if row[1] != 'None' and row[1] != '':\n",
    "                head.update(row[1].split(delim))\n",
    "            if row[2] != 'None' and row[2] != '':\n",
    "                tail.update(row[2].split(delim))\n",
    "            #These are the negative regulators!\n",
    "            #if row[3] != 'None':\n",
    "                #tail.update(row[3].split(delim))\n",
    "            hedge_id = row[4]\n",
    "\n",
    "            ## THIS IS A HACK FOR NOW ( should be incorporated in the make-hypergraph.py code)\n",
    "            ## IGnore any reactions that have a Reactome Identifier (e.g. has \"HSA\") instead of\n",
    "            ## a PAthway Commons identifier.\n",
    "            if any(['HSA' in s for s in tail]+['HSA' in s for s in head]):\n",
    "                skipped1+=1\n",
    "            elif len(tail)==0 or len(head)==0:\n",
    "                skipped2+=1\n",
    "            elif select_edges == [] or hedge_id in select_edges:\n",
    "                hid = H.add_hyperedge(tail,head,identifier=hedge_id)\n",
    "                tailsizes.append(len(tail))\n",
    "                headsizes.append(len(head))\n",
    "                intersection = tail.intersection(head)\n",
    "                if len(intersection) > 0:\n",
    "                    selfloops.append([v for v in intersection])\n",
    "\n",
    "                identifier2id[hedge_id] = hid\n",
    "                id2identifier[hid] = hedge_id\n",
    "\n",
    "    print(('%d reactions skipped because of Reactome identifier' % (skipped1)))\n",
    "    print(('%d reactions skipped because of an empty tail or head' % (skipped2)))\n",
    "    ## annotate nodes\n",
    "    num_hypernodes = 0\n",
    "    for node in H.get_node_set():\n",
    "        if node in hypernodes and hypernodes[node] != [node]:\n",
    "            H.add_node(node,hypernode_members=hypernodes[node],is_hypernode=True)\n",
    "            num_hypernodes+=1\n",
    "        else:\n",
    "            H.add_node(node,is_hypernode=False,hypernode_members=[])\n",
    "\n",
    "        H.add_node(node)\n",
    "\n",
    "    return H, identifier2id, id2identifier"
   ]
  },
  {
   "cell_type": "code",
   "execution_count": 3,
   "id": "72385865-f3af-496a-a129-59c619412dbd",
   "metadata": {
    "tags": []
   },
   "outputs": [
    {
     "name": "stdout",
     "output_type": "stream",
     "text": [
      "11451 hypernodes from hypernodes file\n",
      "0 reactions skipped because of Reactome identifier\n",
      "313 reactions skipped because of an empty tail or head\n"
     ]
    }
   ],
   "source": [
    "H,_,__ = make_hypergraph('hypergraphs/allpid')"
   ]
  },
  {
   "cell_type": "code",
   "execution_count": 4,
   "id": "616e2bba-9e7c-490e-82a3-ea33e23c74b1",
   "metadata": {
    "tags": []
   },
   "outputs": [],
   "source": [
    "with open(\"allpid-halpHypergraph.pkl\", 'wb') as f:\n",
    "    pkl.dump(H, f)"
   ]
  },
  {
   "cell_type": "code",
   "execution_count": 5,
   "id": "0917afbf-bc23-4e88-88f0-5ac65a2f943e",
   "metadata": {
    "tags": []
   },
   "outputs": [
    {
     "name": "stdout",
     "output_type": "stream",
     "text": [
      "48425 hypernodes from hypernodes file\n",
      "60 reactions skipped because of Reactome identifier\n",
      "0 reactions skipped because of an empty tail or head\n"
     ]
    }
   ],
   "source": [
    "H,_,__ = make_hypergraph('hypergraphs/allreactome')"
   ]
  },
  {
   "cell_type": "code",
   "execution_count": 6,
   "id": "f8898489-a3d6-492c-91f4-abcd99474ba3",
   "metadata": {
    "tags": []
   },
   "outputs": [],
   "source": [
    "with open(\"allreactome-halpHypergraph.pkl\", 'wb') as f:\n",
    "    pkl.dump(H, f)"
   ]
  },
  {
   "cell_type": "code",
   "execution_count": null,
   "id": "9454d936-f9f9-4eff-b2bb-d2c1da26bbc4",
   "metadata": {},
   "outputs": [],
   "source": []
  }
 ],
 "metadata": {
  "kernelspec": {
   "display_name": "Python 3 (ipykernel)",
   "language": "python",
   "name": "python3"
  },
  "language_info": {
   "codemirror_mode": {
    "name": "ipython",
    "version": 3
   },
   "file_extension": ".py",
   "mimetype": "text/x-python",
   "name": "python",
   "nbconvert_exporter": "python",
   "pygments_lexer": "ipython3",
   "version": "3.10.12"
  }
 },
 "nbformat": 4,
 "nbformat_minor": 5
}
