{
 "cells": [
  {
   "cell_type": "markdown",
   "id": "fd80290e-0fdb-4693-8ea0-dffb907d8c10",
   "metadata": {},
   "source": [
    "# Standard network measures"
   ]
  },
  {
   "cell_type": "code",
   "execution_count": 1,
   "id": "67ec7e63-463d-4543-9631-82cf5c585211",
   "metadata": {
    "tags": []
   },
   "outputs": [],
   "source": [
    "import pickle\n",
    "import numpy as np\n",
    "import networkx as nx\n",
    "import matplotlib.pyplot as plt\n",
    "from itertools import product\n",
    "\n",
    "from useful_functions import *"
   ]
  },
  {
   "cell_type": "markdown",
   "id": "9e09b954-97b3-4a34-81c9-6deb67c69e84",
   "metadata": {
    "jp-MarkdownHeadingCollapsed": true,
    "tags": []
   },
   "source": [
    "## Astrochem"
   ]
  },
  {
   "cell_type": "code",
   "execution_count": 2,
   "id": "d4dc2a53-7e10-4106-8900-bd5251d54bb1",
   "metadata": {},
   "outputs": [],
   "source": [
    "with open('ParsedHyperedges/astrochem.pkl', 'rb') as f:\n",
    "    astrochem_data = pickle.load(f)"
   ]
  },
  {
   "cell_type": "code",
   "execution_count": 3,
   "id": "5751e934-ded7-4276-b666-7d28d2b54161",
   "metadata": {
    "tags": []
   },
   "outputs": [
    {
     "data": {
      "text/plain": [
       "(482, 10187)"
      ]
     },
     "execution_count": 3,
     "metadata": {},
     "output_type": "execute_result"
    }
   ],
   "source": [
    "G = standard_network(astrochem_data)\n",
    "len(G.nodes), len(G.edges)"
   ]
  },
  {
   "cell_type": "code",
   "execution_count": 4,
   "id": "90a96802-b48d-4ff7-87de-91cd0bf11609",
   "metadata": {
    "tags": []
   },
   "outputs": [
    {
     "data": {
      "text/plain": [
       "(False, True)"
      ]
     },
     "execution_count": 4,
     "metadata": {},
     "output_type": "execute_result"
    }
   ],
   "source": [
    "nx.is_strongly_connected(G), nx.is_weakly_connected(G) "
   ]
  },
  {
   "cell_type": "code",
   "execution_count": 5,
   "id": "0b355b94-0373-46fc-9cb9-5ae69a32caa7",
   "metadata": {
    "tags": []
   },
   "outputs": [],
   "source": [
    "PR = nx.pagerank(G)"
   ]
  },
  {
   "cell_type": "code",
   "execution_count": 6,
   "id": "721e45d8-dee7-41e2-b152-e6da58e28454",
   "metadata": {
    "tags": []
   },
   "outputs": [
    {
     "data": {
      "text/plain": [
       "(462, 10092)"
      ]
     },
     "execution_count": 6,
     "metadata": {},
     "output_type": "execute_result"
    }
   ],
   "source": [
    "largest = max(nx.strongly_connected_components(G), key=len)\n",
    "SG = G.subgraph(largest)\n",
    "len(SG.nodes), len(SG.edges)"
   ]
  },
  {
   "cell_type": "code",
   "execution_count": 7,
   "id": "96c759bc-8a48-4599-8e48-def4190d04af",
   "metadata": {
    "tags": []
   },
   "outputs": [
    {
     "data": {
      "text/plain": [
       "({'H': 0.3191707259829062,\n",
       "  'H2': 0.2764477604649446,\n",
       "  'CO': 0.2257840292519943,\n",
       "  'C': 0.22060421923318219,\n",
       "  'CN': 0.1883861814908124,\n",
       "  'O': 0.16891679934490278,\n",
       "  'HE': 0.1685135394116318,\n",
       "  'OH': 0.15949577826489109,\n",
       "  'HCO+': 0.13178134835754268,\n",
       "  'S': 0.12489256324235244},\n",
       " {'H': 0.12434921749223578,\n",
       "  'H2': 0.06347139545584239,\n",
       "  'CO': 0.03104133712762658,\n",
       "  'E': 0.03054367227393886,\n",
       "  'C': 0.01969543149396311,\n",
       "  'O': 0.01932825812572036,\n",
       "  'HE': 0.018652743562381172,\n",
       "  'CN': 0.017957374350907638,\n",
       "  'OH': 0.01643764585659259,\n",
       "  'HCO+': 0.013948873395727033})"
      ]
     },
     "execution_count": 7,
     "metadata": {},
     "output_type": "execute_result"
    }
   ],
   "source": [
    "topN(nx.eigenvector_centrality_numpy(SG), N=10), topN(nx.pagerank(G), N=10)"
   ]
  },
  {
   "cell_type": "code",
   "execution_count": null,
   "id": "2bcfc6e2-a802-4208-b79b-50d26e2baeb2",
   "metadata": {},
   "outputs": [],
   "source": []
  }
 ],
 "metadata": {
  "kernelspec": {
   "display_name": "Python 3 (ipykernel)",
   "language": "python",
   "name": "python3"
  },
  "language_info": {
   "codemirror_mode": {
    "name": "ipython",
    "version": 3
   },
   "file_extension": ".py",
   "mimetype": "text/x-python",
   "name": "python",
   "nbconvert_exporter": "python",
   "pygments_lexer": "ipython3",
   "version": "3.10.12"
  }
 },
 "nbformat": 4,
 "nbformat_minor": 5
}
