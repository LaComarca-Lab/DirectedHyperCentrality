{
 "cells": [
  {
   "cell_type": "markdown",
   "id": "e62a0bef-f1f7-408a-94a7-939e989ad4e7",
   "metadata": {},
   "source": [
    "## k-step hypergraphs"
   ]
  },
  {
   "cell_type": "code",
   "execution_count": 2,
   "id": "ce59723b-0b2b-447a-8043-4f2f633683fd",
   "metadata": {
    "tags": []
   },
   "outputs": [],
   "source": [
    "import pickle\n",
    "import numpy as np\n",
    "import networkx as nx\n",
    "import scipy\n",
    "import matplotlib.pyplot as plt\n",
    "from itertools import product, permutations\n",
    "from collections import defaultdict\n",
    "from copy import copy\n",
    "\n",
    "import scienceplots\n",
    "\n",
    "plt.style.use(['science'])\n",
    "\n",
    "from useful_functions import *"
   ]
  },
  {
   "cell_type": "code",
   "execution_count": 3,
   "id": "4c57984f-ebc8-42ee-b02c-4621a26c56a3",
   "metadata": {
    "tags": []
   },
   "outputs": [],
   "source": [
    "def findPaths(G,u,k):\n",
    "    if k == 0:\n",
    "        return [[u]]\n",
    "    paths = [[u]+path for neighbor in G.neighbors(u) for path in findPaths(G,neighbor,k-1)]\n",
    "    return paths\n"
   ]
  },
  {
   "cell_type": "code",
   "execution_count": 4,
   "id": "b099fbd4-a432-4061-abbc-4c75dfc5d8fa",
   "metadata": {
    "tags": []
   },
   "outputs": [],
   "source": [
    "def to_step_tensor(G, k):\n",
    "    \n",
    "    tensor_dict = defaultdict(lambda: 0)\n",
    "    \n",
    "    for node in G.nodes:\n",
    "        \n",
    "        for hyperedge in findPaths(G,node,k-1):\n",
    "            \n",
    "            tensor_dict[tuple(hyperedge)] += 1\n",
    "        \n",
    "    return dict(tensor_dict), tuple([len(G.nodes)]*k)"
   ]
  },
  {
   "cell_type": "markdown",
   "id": "966e8f97-137b-4bbd-94a8-7361c2e51973",
   "metadata": {
    "jp-MarkdownHeadingCollapsed": true,
    "tags": []
   },
   "source": [
    "## Test"
   ]
  },
  {
   "cell_type": "code",
   "execution_count": 4,
   "id": "4055138e-b04a-4a54-b80f-de03c202d7dd",
   "metadata": {
    "tags": []
   },
   "outputs": [
    {
     "data": {
      "image/png": "[encoded data removed]",
      "text/plain": [
       "<Figure size 350x262.5 with 1 Axes>"
      ]
     },
     "metadata": {},
     "output_type": "display_data"
    }
   ],
   "source": [
    "G = nx.cycle_graph(4,create_using=nx.DiGraph)\n",
    "G.add_edge(3,1)\n",
    "nx.draw(G, with_labels=True)"
   ]
  },
  {
   "cell_type": "code",
   "execution_count": 89,
   "id": "4701b2ae-626a-4c7d-aabc-a48d71b70539",
   "metadata": {
    "tags": []
   },
   "outputs": [
    {
     "data": {
      "text/plain": [
       "([[0, 1, 2]], [[1, 2, 3]], [[2, 3, 0], [2, 3, 1]], [[3, 0, 1], [3, 1, 2]])"
      ]
     },
     "execution_count": 89,
     "metadata": {},
     "output_type": "execute_result"
    }
   ],
   "source": [
    "findPaths(G, 0, 2), findPaths(G, 1, 2), findPaths(G, 2, 2), findPaths(G, 3, 2)"
   ]
  },
  {
   "cell_type": "code",
   "execution_count": 91,
   "id": "2a4ddbd6-2f83-45f3-b33c-99abf2a52d0b",
   "metadata": {
    "tags": []
   },
   "outputs": [
    {
     "data": {
      "text/plain": [
       "({(0, 1, 2): 1,\n",
       "  (1, 2, 3): 1,\n",
       "  (2, 3, 0): 1,\n",
       "  (2, 3, 1): 1,\n",
       "  (3, 0, 1): 1,\n",
       "  (3, 1, 2): 1},\n",
       " (4, 4, 4))"
      ]
     },
     "execution_count": 91,
     "metadata": {},
     "output_type": "execute_result"
    }
   ],
   "source": [
    "T = to_step_tensor(G,3)\n",
    "T"
   ]
  },
  {
   "cell_type": "code",
   "execution_count": 92,
   "id": "5f704ff1-2975-449f-aafc-2b37772f2463",
   "metadata": {
    "tags": []
   },
   "outputs": [
    {
     "name": "stdout",
     "output_type": "stream",
     "text": [
      "Finished in 12 iterations.\n"
     ]
    }
   ],
   "source": [
    "cent, converged = HEC_ours(T, m=3, niter=100000, tol=1e-6, verbose=True)"
   ]
  },
  {
   "cell_type": "code",
   "execution_count": 94,
   "id": "f4ec143d-511a-47e5-b57e-9b1392af47ac",
   "metadata": {
    "tags": []
   },
   "outputs": [
    {
     "data": {
      "text/plain": [
       "{0: 0.35310459653175785,\n",
       " 1: 0.6423581763644165,\n",
       " 2: 0.5262021618330159,\n",
       " 3: 0.4310503474632474}"
      ]
     },
     "execution_count": 94,
     "metadata": {},
     "output_type": "execute_result"
    }
   ],
   "source": [
    "nx.eigenvector_centrality_numpy(G)"
   ]
  },
  {
   "cell_type": "code",
   "execution_count": 93,
   "id": "a087967b-522f-430e-9e17-df9cb52ceb8a",
   "metadata": {
    "tags": []
   },
   "outputs": [
    {
     "data": {
      "text/plain": [
       "array([0.22174117, 0.23293085, 0.27532452, 0.27000346])"
      ]
     },
     "execution_count": 93,
     "metadata": {},
     "output_type": "execute_result"
    }
   ],
   "source": [
    "cent"
   ]
  },
  {
   "cell_type": "code",
   "execution_count": 95,
   "id": "1b6931a3-4c06-4ac5-9e95-2871323d5dda",
   "metadata": {
    "tags": []
   },
   "outputs": [
    {
     "data": {
      "text/plain": [
       "True"
      ]
     },
     "execution_count": 95,
     "metadata": {},
     "output_type": "execute_result"
    }
   ],
   "source": [
    "converged"
   ]
  },
  {
   "cell_type": "markdown",
   "id": "453f0d2d-dd60-42d2-825d-e38a269c4693",
   "metadata": {
    "tags": []
   },
   "source": [
    "## Some datasets"
   ]
  },
  {
   "cell_type": "code",
   "execution_count": 22,
   "id": "87f2ccd2-ce38-460c-9598-8b1cdb141300",
   "metadata": {
    "tags": []
   },
   "outputs": [],
   "source": [
    "with open(\"DirectedNets/moreno_blogs.pkl\", 'rb') as f:\n",
    "    G = pickle.load(f)\n",
    "\n",
    "largest = max(nx.strongly_connected_components(G), key=len)\n",
    "G = nx.subgraph(G,largest)\n",
    "\n",
    "G = nx.convert_node_labels_to_integers(G, ordering=\"sorted\")"
   ]
  },
  {
   "cell_type": "code",
   "execution_count": 33,
   "id": "32d9b323-eb6a-497f-93c0-d70d3fd2479d",
   "metadata": {
    "tags": []
   },
   "outputs": [
    {
     "data": {
      "text/plain": [
       "True"
      ]
     },
     "execution_count": 33,
     "metadata": {},
     "output_type": "execute_result"
    }
   ],
   "source": [
    "nx.is_strongly_connected(G)"
   ]
  },
  {
   "cell_type": "code",
   "execution_count": 60,
   "id": "8909a76a-8af1-4c24-95fd-3b99537197e6",
   "metadata": {
    "scrolled": true,
    "tags": []
   },
   "outputs": [],
   "source": [
    "T = to_step_tensor(G,3)"
   ]
  },
  {
   "cell_type": "code",
   "execution_count": 61,
   "id": "b41a8008-eae8-4de6-9593-7046d8d551bf",
   "metadata": {
    "tags": []
   },
   "outputs": [
    {
     "name": "stdout",
     "output_type": "stream",
     "text": [
      "Finished in 21 iterations.\n"
     ]
    },
    {
     "data": {
      "text/plain": [
       "True"
      ]
     },
     "execution_count": 61,
     "metadata": {},
     "output_type": "execute_result"
    }
   ],
   "source": [
    "cent3, converged = HEC_ours(T, m=3, niter=100000, tol=1e-6, verbose=True)\n",
    "\n",
    "HEC3 = {}\n",
    "for i, c in enumerate(cent3):\n",
    "    HEC3[i] = c \n",
    "    \n",
    "converged"
   ]
  },
  {
   "cell_type": "code",
   "execution_count": 62,
   "id": "04999784-0aef-4720-b086-b0c166d1d12b",
   "metadata": {
    "scrolled": true,
    "tags": []
   },
   "outputs": [],
   "source": [
    "T = to_step_tensor(G,4)"
   ]
  },
  {
   "cell_type": "code",
   "execution_count": 63,
   "id": "f792d7bb-8d0e-4bea-9b77-05eb2dde2f28",
   "metadata": {
    "tags": []
   },
   "outputs": [
    {
     "name": "stdout",
     "output_type": "stream",
     "text": [
      "Finished in 22 iterations.\n"
     ]
    },
    {
     "data": {
      "text/plain": [
       "True"
      ]
     },
     "execution_count": 63,
     "metadata": {},
     "output_type": "execute_result"
    }
   ],
   "source": [
    "cent4, converged = HEC_ours(T, m=4, niter=100000, tol=1e-6, verbose=True)\n",
    "\n",
    "HEC4 = {}\n",
    "for i, c in enumerate(cent4):\n",
    "    HEC4[i] = c \n",
    "    \n",
    "converged"
   ]
  },
  {
   "cell_type": "code",
   "execution_count": 64,
   "id": "dfa12a39-4bb0-4f02-be79-9aff66d9861d",
   "metadata": {
    "tags": []
   },
   "outputs": [
    {
     "data": {
      "text/plain": [
       "0.37594435380216823"
      ]
     },
     "execution_count": 64,
     "metadata": {},
     "output_type": "execute_result"
    }
   ],
   "source": [
    "EC = nx.eigenvector_centrality_numpy(G)\n",
    "scipy.stats.kendalltau(list(EC.values()), list(HEC3.values())).statistic, \n",
    "scipy.stats.kendalltau(list(EC.values()), list(HEC4.values())).statistic"
   ]
  },
  {
   "cell_type": "code",
   "execution_count": 65,
   "id": "b45d7376-a44a-4eb9-9447-c75dc5dd7155",
   "metadata": {
    "tags": []
   },
   "outputs": [],
   "source": [
    "KendalltopK_H3E = []\n",
    "for k in range(1, len(HEC3)):\n",
    "                        \n",
    "    topk1 = topN(HEC3, N=k)\n",
    "    centrals2 = [EC[node] for node in topk1.keys()]\n",
    "    \n",
    "    coeff = scipy.stats.kendalltau(list(topk1.values()), centrals2).statistic\n",
    "    \n",
    "    KendalltopK_H3E.append(coeff)\n",
    "\n",
    "KendalltopK_EH3 = []\n",
    "for k in range(1, len(HEC3)):\n",
    "                        \n",
    "    topk1 = topN(EC, N=k)\n",
    "    centrals2 = [HEC3[node] for node in topk1.keys()]\n",
    "    \n",
    "    coeff = scipy.stats.kendalltau(list(topk1.values()), centrals2).statistic\n",
    "    \n",
    "    KendalltopK_EH3.append(coeff)\n",
    "\n",
    "KendalltopK_H4E = []\n",
    "for k in range(1, len(HEC4)):\n",
    "                        \n",
    "    topk1 = topN(HEC4, N=k)\n",
    "    centrals2 = [EC[node] for node in topk1.keys()]\n",
    "    \n",
    "    coeff = scipy.stats.kendalltau(list(topk1.values()), centrals2).statistic\n",
    "    \n",
    "    KendalltopK_H4E.append(coeff)\n",
    "    \n",
    "\n",
    "KendalltopK_EH4 = []\n",
    "for k in range(1, len(HEC4)):\n",
    "                        \n",
    "    topk1 = topN(EC, N=k)\n",
    "    centrals2 = [HEC4[node] for node in topk1.keys()]\n",
    "    \n",
    "    coeff = scipy.stats.kendalltau(list(topk1.values()), centrals2).statistic\n",
    "    \n",
    "    KendalltopK_EH4.append(coeff)\n"
   ]
  },
  {
   "cell_type": "code",
   "execution_count": 66,
   "id": "bd82e27a-5fef-4378-8018-b78c7952f48c",
   "metadata": {
    "tags": []
   },
   "outputs": [
    {
     "data": {
      "text/plain": [
       "<matplotlib.legend.Legend at 0x7941ae1f1c60>"
      ]
     },
     "execution_count": 66,
     "metadata": {},
     "output_type": "execute_result"
    },
    {
     "data": {
      "image/png": "[encoded data removed]",
      "text/plain": [
       "<Figure size 350x262.5 with 1 Axes>"
      ]
     },
     "metadata": {},
     "output_type": "display_data"
    }
   ],
   "source": [
    "plt.plot(KendalltopK_H3E, label=\"H3E\")\n",
    "plt.plot(KendalltopK_EH3, label=\"HE4\")\n",
    "plt.plot(KendalltopK_H4E, label=\"H4E\")\n",
    "plt.plot(KendalltopK_EH4, label=\"HE4\")\n",
    "\n",
    "plt.legend()"
   ]
  },
  {
   "cell_type": "code",
   "execution_count": 67,
   "id": "59fb13bf-4103-45e9-ad10-484897b31cc1",
   "metadata": {},
   "outputs": [],
   "source": [
    "KendalltopK_H43 = []\n",
    "for k in range(1, len(HEC4)):\n",
    "                        \n",
    "    topk1 = topN(HEC4, N=k)\n",
    "    centrals2 = [HEC3[node] for node in topk1.keys()]\n",
    "    \n",
    "    coeff = scipy.stats.kendalltau(list(topk1.values()), centrals2).statistic\n",
    "    \n",
    "    KendalltopK_H43.append(coeff)\n",
    "    \n",
    "\n",
    "KendalltopK_H34 = []\n",
    "for k in range(1, len(HEC4)):\n",
    "                        \n",
    "    topk1 = topN(HEC3, N=k)\n",
    "    centrals2 = [HEC4[node] for node in topk1.keys()]\n",
    "    \n",
    "    coeff = scipy.stats.kendalltau(list(topk1.values()), centrals2).statistic\n",
    "    \n",
    "    KendalltopK_H34.append(coeff)"
   ]
  },
  {
   "cell_type": "code",
   "execution_count": 68,
   "id": "34bd7bf9-2678-445d-ba26-8e775259887f",
   "metadata": {
    "tags": []
   },
   "outputs": [
    {
     "data": {
      "text/plain": [
       "<matplotlib.legend.Legend at 0x7941adc2c310>"
      ]
     },
     "execution_count": 68,
     "metadata": {},
     "output_type": "execute_result"
    },
    {
     "data": {
      "image/png": "[encoded data removed]",
      "text/plain": [
       "<Figure size 350x262.5 with 1 Axes>"
      ]
     },
     "metadata": {},
     "output_type": "display_data"
    }
   ],
   "source": [
    "plt.plot(KendalltopK_H34, label=\"H3E\")\n",
    "plt.plot(KendalltopK_H43, label=\"HE4\")\n",
    "\n",
    "plt.legend()"
   ]
  },
  {
   "cell_type": "code",
   "execution_count": null,
   "id": "a2a423e5-ce1a-46ff-a2fa-fcc7eb420fdf",
   "metadata": {},
   "outputs": [],
   "source": []
  },
  {
   "cell_type": "code",
   "execution_count": 69,
   "id": "2d1afd8b-386d-42e1-84f7-b4016602ddb0",
   "metadata": {
    "scrolled": true,
    "tags": []
   },
   "outputs": [],
   "source": [
    "T = to_step_tensor(G,2)"
   ]
  },
  {
   "cell_type": "code",
   "execution_count": 70,
   "id": "470da8a7-8235-41a2-aea1-ec6175b372d9",
   "metadata": {
    "tags": []
   },
   "outputs": [
    {
     "name": "stdout",
     "output_type": "stream",
     "text": [
      "Finished in 15 iterations.\n"
     ]
    },
    {
     "data": {
      "text/plain": [
       "True"
      ]
     },
     "execution_count": 70,
     "metadata": {},
     "output_type": "execute_result"
    }
   ],
   "source": [
    "cent2, converged = HEC_ours(T, m=2, niter=100000, tol=1e-6, verbose=True)\n",
    "\n",
    "HEC2 = {}\n",
    "for i, c in enumerate(cent2):\n",
    "    HEC2[i] = c \n",
    "    \n",
    "converged"
   ]
  },
  {
   "cell_type": "code",
   "execution_count": 71,
   "id": "9fb46a1c-21ce-4ae8-9873-ed028406080c",
   "metadata": {
    "tags": []
   },
   "outputs": [
    {
     "data": {
      "text/plain": [
       "0.32767321823705214"
      ]
     },
     "execution_count": 71,
     "metadata": {},
     "output_type": "execute_result"
    }
   ],
   "source": [
    "EC = nx.eigenvector_centrality_numpy(G)\n",
    "scipy.stats.kendalltau(list(EC.values()), list(HEC2.values())).statistic"
   ]
  },
  {
   "cell_type": "code",
   "execution_count": null,
   "id": "31cf5469-9086-497d-b0e8-eb766fd0a9d5",
   "metadata": {},
   "outputs": [],
   "source": []
  }
 ],
 "metadata": {
  "kernelspec": {
   "display_name": "Python 3 (ipykernel)",
   "language": "python",
   "name": "python3"
  },
  "language_info": {
   "codemirror_mode": {
    "name": "ipython",
    "version": 3
   },
   "file_extension": ".py",
   "mimetype": "text/x-python",
   "name": "python",
   "nbconvert_exporter": "python",
   "pygments_lexer": "ipython3",
   "version": "3.10.12"
  }
 },
 "nbformat": 4,
 "nbformat_minor": 5
}
