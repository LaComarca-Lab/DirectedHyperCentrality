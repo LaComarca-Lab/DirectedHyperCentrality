{
 "cells": [
  {
   "cell_type": "markdown",
   "id": "e62a0bef-f1f7-408a-94a7-939e989ad4e7",
   "metadata": {},
   "source": [
    "## k-step hypergraphs"
   ]
  },
  {
   "cell_type": "code",
   "execution_count": 1,
   "id": "ce59723b-0b2b-447a-8043-4f2f633683fd",
   "metadata": {
    "tags": []
   },
   "outputs": [],
   "source": [
    "import pickle\n",
    "import numpy as np\n",
    "import networkx as nx\n",
    "import scipy\n",
    "import matplotlib.pyplot as plt\n",
    "from itertools import product, permutations\n",
    "from collections import defaultdict\n",
    "from copy import copy\n",
    "\n",
    "import scienceplots\n",
    "\n",
    "plt.style.use(['science'])\n",
    "plt.rcParams['svg.fonttype'] = 'none'\n",
    "\n",
    "from useful_functions import *\n",
    "from tensor_functions import *"
   ]
  },
  {
   "cell_type": "code",
   "execution_count": 2,
   "id": "9821d469-c467-4aa0-94a4-38e593aacbde",
   "metadata": {
    "tags": []
   },
   "outputs": [],
   "source": [
    "corr = \"spearman\""
   ]
  },
  {
   "cell_type": "code",
   "execution_count": 3,
   "id": "4c57984f-ebc8-42ee-b02c-4621a26c56a3",
   "metadata": {
    "tags": []
   },
   "outputs": [],
   "source": [
    "def findPaths(G,u,k):\n",
    "    if k == 0:\n",
    "        return [[u]]\n",
    "    paths = [[u]+path for neighbor in G.neighbors(u) for path in findPaths(G,neighbor,k-1)]\n",
    "    return paths\n"
   ]
  },
  {
   "cell_type": "code",
   "execution_count": 4,
   "id": "b099fbd4-a432-4061-abbc-4c75dfc5d8fa",
   "metadata": {
    "tags": []
   },
   "outputs": [],
   "source": [
    "def to_step_tensor(G, k):\n",
    "    \n",
    "    tensor_dict = defaultdict(lambda: 0)\n",
    "    \n",
    "    for node in G.nodes:\n",
    "        \n",
    "        for hyperedge in findPaths(G,node,k-1):\n",
    "            \n",
    "            tensor_dict[tuple(hyperedge)] += 1\n",
    "        \n",
    "    return dict(tensor_dict), tuple([len(G.nodes)]*k)"
   ]
  },
  {
   "cell_type": "code",
   "execution_count": 5,
   "id": "219c02bd-0e74-4978-a856-824d1a4b5853",
   "metadata": {
    "tags": []
   },
   "outputs": [],
   "source": [
    "if corr == \"kendall\":\n",
    "    correlation = scipy.stats.kendalltau\n",
    "elif corr == \"spearman\":\n",
    "    correlation = scipy.stats.spearmanr"
   ]
  },
  {
   "cell_type": "markdown",
   "id": "966e8f97-137b-4bbd-94a8-7361c2e51973",
   "metadata": {
    "jp-MarkdownHeadingCollapsed": true,
    "tags": []
   },
   "source": [
    "## Test"
   ]
  },
  {
   "cell_type": "code",
   "execution_count": 7,
   "id": "4055138e-b04a-4a54-b80f-de03c202d7dd",
   "metadata": {
    "tags": []
   },
   "outputs": [
    {
     "data": {
      "image/png": "[encoded data removed]",
      "text/plain": [
       "<Figure size 350x262.5 with 1 Axes>"
      ]
     },
     "metadata": {},
     "output_type": "display_data"
    }
   ],
   "source": [
    "G = nx.cycle_graph(4,create_using=nx.DiGraph)\n",
    "G.add_edge(3,1)\n",
    "nx.draw(G, with_labels=True)"
   ]
  },
  {
   "cell_type": "code",
   "execution_count": 8,
   "id": "4701b2ae-626a-4c7d-aabc-a48d71b70539",
   "metadata": {
    "tags": []
   },
   "outputs": [
    {
     "data": {
      "text/plain": [
       "([[0, 1, 2]], [[1, 2, 3]], [[2, 3, 0], [2, 3, 1]], [[3, 0, 1], [3, 1, 2]])"
      ]
     },
     "execution_count": 8,
     "metadata": {},
     "output_type": "execute_result"
    }
   ],
   "source": [
    "findPaths(G, 0, 2), findPaths(G, 1, 2), findPaths(G, 2, 2), findPaths(G, 3, 2)"
   ]
  },
  {
   "cell_type": "code",
   "execution_count": 8,
   "id": "2a4ddbd6-2f83-45f3-b33c-99abf2a52d0b",
   "metadata": {
    "tags": []
   },
   "outputs": [
    {
     "data": {
      "text/plain": [
       "({(0, 1): 1, (1, 2): 1, (2, 3): 1, (3, 0): 1, (3, 1): 1}, (4, 4))"
      ]
     },
     "execution_count": 8,
     "metadata": {},
     "output_type": "execute_result"
    }
   ],
   "source": [
    "T2 = to_step_tensor(G,2)\n",
    "T2"
   ]
  },
  {
   "cell_type": "code",
   "execution_count": 9,
   "id": "f4ec143d-511a-47e5-b57e-9b1392af47ac",
   "metadata": {
    "tags": []
   },
   "outputs": [],
   "source": [
    "EC = nx.eigenvector_centrality_numpy(G)"
   ]
  },
  {
   "cell_type": "code",
   "execution_count": 10,
   "id": "db20e964-e87c-47de-8f08-7947cf6113c9",
   "metadata": {
    "tags": []
   },
   "outputs": [
    {
     "name": "stdout",
     "output_type": "stream",
     "text": [
      "Finished in 16 iterations.\n",
      "0.0\n"
     ]
    }
   ],
   "source": [
    "cent, converged = HEC_ours(T2, m=2, niter=100000, tol=1e-6, verbose=True)\n",
    "\n",
    "HEC2 = {}\n",
    "for i, c in enumerate(cent):\n",
    "    HEC2[i] = c \n",
    "\n",
    "tau = correlation(list(EC.values()), list(HEC2.values())).statistic\n",
    "print(tau)"
   ]
  },
  {
   "cell_type": "code",
   "execution_count": 11,
   "id": "3d7a77f9-41c6-4e62-b815-2e70a1197ff8",
   "metadata": {
    "tags": []
   },
   "outputs": [
    {
     "data": {
      "text/plain": [
       "({(0, 1, 2): 1,\n",
       "  (1, 2, 3): 1,\n",
       "  (2, 3, 0): 1,\n",
       "  (2, 3, 1): 1,\n",
       "  (3, 0, 1): 1,\n",
       "  (3, 1, 2): 1},\n",
       " (4, 4, 4))"
      ]
     },
     "execution_count": 11,
     "metadata": {},
     "output_type": "execute_result"
    }
   ],
   "source": [
    "T3 = to_step_tensor(G,3)\n",
    "T3"
   ]
  },
  {
   "cell_type": "code",
   "execution_count": 12,
   "id": "a087967b-522f-430e-9e17-df9cb52ceb8a",
   "metadata": {
    "tags": []
   },
   "outputs": [
    {
     "name": "stdout",
     "output_type": "stream",
     "text": [
      "Finished in 12 iterations.\n",
      "0.3333333333333334\n"
     ]
    }
   ],
   "source": [
    "cent, converged = HEC_ours(T3, m=3, niter=100000, tol=1e-6, verbose=True)\n",
    "\n",
    "HEC3 = {}\n",
    "for i, c in enumerate(cent):\n",
    "    HEC3[i] = c \n",
    "    \n",
    "tau = correlation(list(EC.values()), list(HEC3.values())).statistic\n",
    "print(tau)"
   ]
  },
  {
   "cell_type": "code",
   "execution_count": 13,
   "id": "1b6931a3-4c06-4ac5-9e95-2871323d5dda",
   "metadata": {
    "tags": []
   },
   "outputs": [
    {
     "data": {
      "image/png": "[encoded data removed]",
      "text/plain": [
       "<Figure size 350x262.5 with 1 Axes>"
      ]
     },
     "metadata": {},
     "output_type": "display_data"
    }
   ],
   "source": [
    "EC = {i:EC[i]/np.sum(list(EC.values())) for i in range(len(EC))}\n",
    "HEC2 = {i:HEC2[i]/np.sum(list(HEC2.values())) for i in range(len(HEC2))}\n",
    "HEC3 = {i:HEC3[i]/np.sum(list(HEC3.values())) for i in range(len(HEC3))}\n",
    "for i in range(len(EC)):\n",
    "    plt.plot([EC[i],HEC2[i],HEC3[i]])"
   ]
  },
  {
   "cell_type": "markdown",
   "id": "453f0d2d-dd60-42d2-825d-e38a269c4693",
   "metadata": {
    "jp-MarkdownHeadingCollapsed": true,
    "tags": []
   },
   "source": [
    "## Some datasets"
   ]
  },
  {
   "cell_type": "code",
   "execution_count": 46,
   "id": "87f2ccd2-ce38-460c-9598-8b1cdb141300",
   "metadata": {
    "tags": []
   },
   "outputs": [
    {
     "name": "stdout",
     "output_type": "stream",
     "text": [
      "2868 30404 True\n"
     ]
    }
   ],
   "source": [
    "name = \"opsahl-openflights\"\n",
    "with open(f\"DirectedNets/{name}.pkl\", 'rb') as f:\n",
    "    G = pickle.load(f)\n",
    "    \n",
    "largest = max(nx.strongly_connected_components(G), key=len)\n",
    "G = nx.subgraph(G,largest)\n",
    "\n",
    "print(len(G), len(G.edges), nx.is_directed(G))\n",
    "\n",
    "G = nx.convert_node_labels_to_integers(G, ordering=\"sorted\")"
   ]
  },
  {
   "cell_type": "code",
   "execution_count": 47,
   "id": "e631c6c4-7770-4be1-a263-a7d2d42bde1d",
   "metadata": {
    "tags": []
   },
   "outputs": [],
   "source": [
    "# name = \"opsahl-powergrid\"\n",
    "# with open(f\"DirectedNets/{name}.pkl\", 'rb') as f:\n",
    "#     G = pickle.load(f)\n",
    "    \n",
    "# largest = max(nx.connected_components(G), key=len)\n",
    "# G = nx.subgraph(G,largest)\n",
    "\n",
    "# print(len(G), len(G.edges), nx.is_directed(G))\n",
    "\n",
    "# G = nx.convert_node_labels_to_integers(G, ordering=\"sorted\")"
   ]
  },
  {
   "cell_type": "code",
   "execution_count": 48,
   "id": "32d9b323-eb6a-497f-93c0-d70d3fd2479d",
   "metadata": {
    "tags": []
   },
   "outputs": [
    {
     "data": {
      "text/plain": [
       "True"
      ]
     },
     "execution_count": 48,
     "metadata": {},
     "output_type": "execute_result"
    }
   ],
   "source": [
    "nx.is_strongly_connected(G)"
   ]
  },
  {
   "cell_type": "code",
   "execution_count": 49,
   "id": "8909a76a-8af1-4c24-95fd-3b99537197e6",
   "metadata": {
    "scrolled": true,
    "tags": []
   },
   "outputs": [],
   "source": [
    "T = to_step_tensor(G,3)"
   ]
  },
  {
   "cell_type": "code",
   "execution_count": 50,
   "id": "b41a8008-eae8-4de6-9593-7046d8d551bf",
   "metadata": {
    "tags": []
   },
   "outputs": [
    {
     "name": "stdout",
     "output_type": "stream",
     "text": [
      "Finished in 17 iterations.\n"
     ]
    },
    {
     "data": {
      "text/plain": [
       "True"
      ]
     },
     "execution_count": 50,
     "metadata": {},
     "output_type": "execute_result"
    }
   ],
   "source": [
    "cent3, converged = HEC_ours(T, m=3, niter=100000, tol=1e-6, verbose=True)\n",
    "\n",
    "HEC3 = {}\n",
    "for i, c in enumerate(cent3):\n",
    "    HEC3[i] = c \n",
    "    \n",
    "converged"
   ]
  },
  {
   "cell_type": "code",
   "execution_count": 51,
   "id": "04999784-0aef-4720-b086-b0c166d1d12b",
   "metadata": {
    "scrolled": true,
    "tags": []
   },
   "outputs": [
    {
     "ename": "KeyboardInterrupt",
     "evalue": "",
     "output_type": "error",
     "traceback": [
      "\u001b[0;31m---------------------------------------------------------------------------\u001b[0m",
      "\u001b[0;31mKeyboardInterrupt\u001b[0m                         Traceback (most recent call last)",
      "Cell \u001b[0;32mIn[51], line 1\u001b[0m\n\u001b[0;32m----> 1\u001b[0m T \u001b[38;5;241m=\u001b[39m \u001b[43mto_step_tensor\u001b[49m\u001b[43m(\u001b[49m\u001b[43mG\u001b[49m\u001b[43m,\u001b[49m\u001b[38;5;241;43m4\u001b[39;49m\u001b[43m)\u001b[49m\n",
      "Cell \u001b[0;32mIn[4], line 7\u001b[0m, in \u001b[0;36mto_step_tensor\u001b[0;34m(G, k)\u001b[0m\n\u001b[1;32m      3\u001b[0m tensor_dict \u001b[38;5;241m=\u001b[39m defaultdict(\u001b[38;5;28;01mlambda\u001b[39;00m: \u001b[38;5;241m0\u001b[39m)\n\u001b[1;32m      5\u001b[0m \u001b[38;5;28;01mfor\u001b[39;00m node \u001b[38;5;129;01min\u001b[39;00m G\u001b[38;5;241m.\u001b[39mnodes:\n\u001b[0;32m----> 7\u001b[0m     \u001b[38;5;28;01mfor\u001b[39;00m hyperedge \u001b[38;5;129;01min\u001b[39;00m \u001b[43mfindPaths\u001b[49m\u001b[43m(\u001b[49m\u001b[43mG\u001b[49m\u001b[43m,\u001b[49m\u001b[43mnode\u001b[49m\u001b[43m,\u001b[49m\u001b[43mk\u001b[49m\u001b[38;5;241;43m-\u001b[39;49m\u001b[38;5;241;43m1\u001b[39;49m\u001b[43m)\u001b[49m:\n\u001b[1;32m      9\u001b[0m         tensor_dict[\u001b[38;5;28mtuple\u001b[39m(hyperedge)] \u001b[38;5;241m+\u001b[39m\u001b[38;5;241m=\u001b[39m \u001b[38;5;241m1\u001b[39m\n\u001b[1;32m     11\u001b[0m \u001b[38;5;28;01mreturn\u001b[39;00m \u001b[38;5;28mdict\u001b[39m(tensor_dict), \u001b[38;5;28mtuple\u001b[39m([\u001b[38;5;28mlen\u001b[39m(G\u001b[38;5;241m.\u001b[39mnodes)]\u001b[38;5;241m*\u001b[39mk)\n",
      "Cell \u001b[0;32mIn[3], line 4\u001b[0m, in \u001b[0;36mfindPaths\u001b[0;34m(G, u, k)\u001b[0m\n\u001b[1;32m      2\u001b[0m \u001b[38;5;28;01mif\u001b[39;00m k \u001b[38;5;241m==\u001b[39m \u001b[38;5;241m0\u001b[39m:\n\u001b[1;32m      3\u001b[0m     \u001b[38;5;28;01mreturn\u001b[39;00m [[u]]\n\u001b[0;32m----> 4\u001b[0m paths \u001b[38;5;241m=\u001b[39m [[u]\u001b[38;5;241m+\u001b[39mpath \u001b[38;5;28;01mfor\u001b[39;00m neighbor \u001b[38;5;129;01min\u001b[39;00m G\u001b[38;5;241m.\u001b[39mneighbors(u) \u001b[38;5;28;01mfor\u001b[39;00m path \u001b[38;5;129;01min\u001b[39;00m findPaths(G,neighbor,k\u001b[38;5;241m-\u001b[39m\u001b[38;5;241m1\u001b[39m)]\n\u001b[1;32m      5\u001b[0m \u001b[38;5;28;01mreturn\u001b[39;00m paths\n",
      "Cell \u001b[0;32mIn[3], line 4\u001b[0m, in \u001b[0;36m<listcomp>\u001b[0;34m(.0)\u001b[0m\n\u001b[1;32m      2\u001b[0m \u001b[38;5;28;01mif\u001b[39;00m k \u001b[38;5;241m==\u001b[39m \u001b[38;5;241m0\u001b[39m:\n\u001b[1;32m      3\u001b[0m     \u001b[38;5;28;01mreturn\u001b[39;00m [[u]]\n\u001b[0;32m----> 4\u001b[0m paths \u001b[38;5;241m=\u001b[39m [[u]\u001b[38;5;241m+\u001b[39mpath \u001b[38;5;28;01mfor\u001b[39;00m neighbor \u001b[38;5;129;01min\u001b[39;00m G\u001b[38;5;241m.\u001b[39mneighbors(u) \u001b[38;5;28;01mfor\u001b[39;00m path \u001b[38;5;129;01min\u001b[39;00m \u001b[43mfindPaths\u001b[49m\u001b[43m(\u001b[49m\u001b[43mG\u001b[49m\u001b[43m,\u001b[49m\u001b[43mneighbor\u001b[49m\u001b[43m,\u001b[49m\u001b[43mk\u001b[49m\u001b[38;5;241;43m-\u001b[39;49m\u001b[38;5;241;43m1\u001b[39;49m\u001b[43m)\u001b[49m]\n\u001b[1;32m      5\u001b[0m \u001b[38;5;28;01mreturn\u001b[39;00m paths\n",
      "Cell \u001b[0;32mIn[3], line 4\u001b[0m, in \u001b[0;36mfindPaths\u001b[0;34m(G, u, k)\u001b[0m\n\u001b[1;32m      2\u001b[0m \u001b[38;5;28;01mif\u001b[39;00m k \u001b[38;5;241m==\u001b[39m \u001b[38;5;241m0\u001b[39m:\n\u001b[1;32m      3\u001b[0m     \u001b[38;5;28;01mreturn\u001b[39;00m [[u]]\n\u001b[0;32m----> 4\u001b[0m paths \u001b[38;5;241m=\u001b[39m [[u]\u001b[38;5;241m+\u001b[39mpath \u001b[38;5;28;01mfor\u001b[39;00m neighbor \u001b[38;5;129;01min\u001b[39;00m G\u001b[38;5;241m.\u001b[39mneighbors(u) \u001b[38;5;28;01mfor\u001b[39;00m path \u001b[38;5;129;01min\u001b[39;00m findPaths(G,neighbor,k\u001b[38;5;241m-\u001b[39m\u001b[38;5;241m1\u001b[39m)]\n\u001b[1;32m      5\u001b[0m \u001b[38;5;28;01mreturn\u001b[39;00m paths\n",
      "Cell \u001b[0;32mIn[3], line 4\u001b[0m, in \u001b[0;36m<listcomp>\u001b[0;34m(.0)\u001b[0m\n\u001b[1;32m      2\u001b[0m \u001b[38;5;28;01mif\u001b[39;00m k \u001b[38;5;241m==\u001b[39m \u001b[38;5;241m0\u001b[39m:\n\u001b[1;32m      3\u001b[0m     \u001b[38;5;28;01mreturn\u001b[39;00m [[u]]\n\u001b[0;32m----> 4\u001b[0m paths \u001b[38;5;241m=\u001b[39m [[u]\u001b[38;5;241m+\u001b[39mpath \u001b[38;5;28;01mfor\u001b[39;00m neighbor \u001b[38;5;129;01min\u001b[39;00m G\u001b[38;5;241m.\u001b[39mneighbors(u) \u001b[38;5;28;01mfor\u001b[39;00m path \u001b[38;5;129;01min\u001b[39;00m \u001b[43mfindPaths\u001b[49m\u001b[43m(\u001b[49m\u001b[43mG\u001b[49m\u001b[43m,\u001b[49m\u001b[43mneighbor\u001b[49m\u001b[43m,\u001b[49m\u001b[43mk\u001b[49m\u001b[38;5;241;43m-\u001b[39;49m\u001b[38;5;241;43m1\u001b[39;49m\u001b[43m)\u001b[49m]\n\u001b[1;32m      5\u001b[0m \u001b[38;5;28;01mreturn\u001b[39;00m paths\n",
      "Cell \u001b[0;32mIn[3], line 4\u001b[0m, in \u001b[0;36mfindPaths\u001b[0;34m(G, u, k)\u001b[0m\n\u001b[1;32m      2\u001b[0m \u001b[38;5;28;01mif\u001b[39;00m k \u001b[38;5;241m==\u001b[39m \u001b[38;5;241m0\u001b[39m:\n\u001b[1;32m      3\u001b[0m     \u001b[38;5;28;01mreturn\u001b[39;00m [[u]]\n\u001b[0;32m----> 4\u001b[0m paths \u001b[38;5;241m=\u001b[39m [[u]\u001b[38;5;241m+\u001b[39mpath \u001b[38;5;28;01mfor\u001b[39;00m neighbor \u001b[38;5;129;01min\u001b[39;00m G\u001b[38;5;241m.\u001b[39mneighbors(u) \u001b[38;5;28;01mfor\u001b[39;00m path \u001b[38;5;129;01min\u001b[39;00m findPaths(G,neighbor,k\u001b[38;5;241m-\u001b[39m\u001b[38;5;241m1\u001b[39m)]\n\u001b[1;32m      5\u001b[0m \u001b[38;5;28;01mreturn\u001b[39;00m paths\n",
      "Cell \u001b[0;32mIn[3], line 4\u001b[0m, in \u001b[0;36m<listcomp>\u001b[0;34m(.0)\u001b[0m\n\u001b[1;32m      2\u001b[0m \u001b[38;5;28;01mif\u001b[39;00m k \u001b[38;5;241m==\u001b[39m \u001b[38;5;241m0\u001b[39m:\n\u001b[1;32m      3\u001b[0m     \u001b[38;5;28;01mreturn\u001b[39;00m [[u]]\n\u001b[0;32m----> 4\u001b[0m paths \u001b[38;5;241m=\u001b[39m [[u]\u001b[38;5;241m+\u001b[39mpath \u001b[38;5;28;01mfor\u001b[39;00m neighbor \u001b[38;5;129;01min\u001b[39;00m G\u001b[38;5;241m.\u001b[39mneighbors(u) \u001b[38;5;28;01mfor\u001b[39;00m path \u001b[38;5;129;01min\u001b[39;00m \u001b[43mfindPaths\u001b[49m\u001b[43m(\u001b[49m\u001b[43mG\u001b[49m\u001b[43m,\u001b[49m\u001b[43mneighbor\u001b[49m\u001b[43m,\u001b[49m\u001b[43mk\u001b[49m\u001b[38;5;241;43m-\u001b[39;49m\u001b[38;5;241;43m1\u001b[39;49m\u001b[43m)\u001b[49m]\n\u001b[1;32m      5\u001b[0m \u001b[38;5;28;01mreturn\u001b[39;00m paths\n",
      "Cell \u001b[0;32mIn[3], line 1\u001b[0m, in \u001b[0;36mfindPaths\u001b[0;34m(G, u, k)\u001b[0m\n\u001b[0;32m----> 1\u001b[0m \u001b[38;5;28;01mdef\u001b[39;00m \u001b[38;5;21mfindPaths\u001b[39m(G,u,k):\n\u001b[1;32m      2\u001b[0m     \u001b[38;5;28;01mif\u001b[39;00m k \u001b[38;5;241m==\u001b[39m \u001b[38;5;241m0\u001b[39m:\n\u001b[1;32m      3\u001b[0m         \u001b[38;5;28;01mreturn\u001b[39;00m [[u]]\n",
      "\u001b[0;31mKeyboardInterrupt\u001b[0m: "
     ]
    }
   ],
   "source": [
    "T = to_step_tensor(G,4)"
   ]
  },
  {
   "cell_type": "code",
   "execution_count": null,
   "id": "f792d7bb-8d0e-4bea-9b77-05eb2dde2f28",
   "metadata": {
    "tags": []
   },
   "outputs": [],
   "source": [
    "cent4, converged = HEC_ours(T, m=4, niter=100000, tol=1e-6, verbose=True)\n",
    "\n",
    "HEC4 = {}\n",
    "for i, c in enumerate(cent4):\n",
    "    HEC4[i] = c \n",
    "    \n",
    "converged"
   ]
  },
  {
   "cell_type": "code",
   "execution_count": null,
   "id": "dfa12a39-4bb0-4f02-be79-9aff66d9861d",
   "metadata": {
    "tags": []
   },
   "outputs": [],
   "source": [
    "EC = nx.eigenvector_centrality_numpy(G)\n",
    "correlation(list(EC.values()), list(HEC3.values())).statistic, correlation(list(EC.values()), list(HEC4.values())).statistic"
   ]
  },
  {
   "cell_type": "code",
   "execution_count": 44,
   "id": "b45d7376-a44a-4eb9-9447-c75dc5dd7155",
   "metadata": {
    "tags": []
   },
   "outputs": [],
   "source": [
    "KendalltopK_H3E = []\n",
    "for k in range(1, len(HEC3)):\n",
    "                        \n",
    "    topk1 = topN(HEC3, N=k)\n",
    "    centrals2 = [EC[node] for node in topk1.keys()]\n",
    "    \n",
    "    coeff = correlation(list(topk1.values()), centrals2).statistic\n",
    "    \n",
    "    KendalltopK_H3E.append(coeff)\n",
    "\n",
    "KendalltopK_EH3 = []\n",
    "for k in range(1, len(HEC3)):\n",
    "                        \n",
    "    topk1 = topN(EC, N=k)\n",
    "    centrals2 = [HEC3[node] for node in topk1.keys()]\n",
    "    \n",
    "    coeff = correlation(list(topk1.values()), centrals2).statistic\n",
    "    \n",
    "    KendalltopK_EH3.append(coeff)\n",
    "\n",
    "KendalltopK_H4E = []\n",
    "for k in range(1, len(HEC4)):\n",
    "                        \n",
    "    topk1 = topN(HEC4, N=k)\n",
    "    centrals2 = [EC[node] for node in topk1.keys()]\n",
    "    \n",
    "    coeff = correlation(list(topk1.values()), centrals2).statistic\n",
    "    \n",
    "    KendalltopK_H4E.append(coeff)\n",
    "    \n",
    "\n",
    "KendalltopK_EH4 = []\n",
    "for k in range(1, len(HEC4)):\n",
    "                        \n",
    "    topk1 = topN(EC, N=k)\n",
    "    centrals2 = [HEC4[node] for node in topk1.keys()]\n",
    "    \n",
    "    coeff = correlation(list(topk1.values()), centrals2).statistic\n",
    "    \n",
    "    KendalltopK_EH4.append(coeff)\n"
   ]
  },
  {
   "cell_type": "code",
   "execution_count": 45,
   "id": "bd82e27a-5fef-4378-8018-b78c7952f48c",
   "metadata": {
    "tags": []
   },
   "outputs": [
    {
     "data": {
      "text/plain": [
       "<matplotlib.legend.Legend at 0x7881c94a4d30>"
      ]
     },
     "execution_count": 45,
     "metadata": {},
     "output_type": "execute_result"
    },
    {
     "data": {
      "image/png": "[encoded data removed]",
      "text/plain": [
       "<Figure size 350x262.5 with 1 Axes>"
      ]
     },
     "metadata": {},
     "output_type": "display_data"
    }
   ],
   "source": [
    "plt.plot(KendalltopK_H3E, label=\"H3-E\")\n",
    "plt.plot(KendalltopK_EH3, label=\"E-H3\")\n",
    "plt.plot(KendalltopK_H4E, label=\"H4-E\")\n",
    "plt.plot(KendalltopK_EH4, label=\"E-H4\")\n",
    "\n",
    "plt.legend()\n",
    "\n",
    "#plt.savefig(\"Figures/k-step-comparison.png\")"
   ]
  },
  {
   "cell_type": "code",
   "execution_count": 52,
   "id": "59fb13bf-4103-45e9-ad10-484897b31cc1",
   "metadata": {},
   "outputs": [],
   "source": [
    "KendalltopK_H43 = []\n",
    "for k in range(1, len(HEC4)):\n",
    "                        \n",
    "    topk1 = topN(HEC4, N=k)\n",
    "    centrals2 = [HEC3[node] for node in topk1.keys()]\n",
    "    \n",
    "    coeff = correlation(list(topk1.values()), centrals2).statistic\n",
    "    \n",
    "    KendalltopK_H43.append(coeff)\n",
    "    \n",
    "\n",
    "KendalltopK_H34 = []\n",
    "for k in range(1, len(HEC4)):\n",
    "                        \n",
    "    topk1 = topN(HEC3, N=k)\n",
    "    centrals2 = [HEC4[node] for node in topk1.keys()]\n",
    "    \n",
    "    coeff = correlation(list(topk1.values()), centrals2).statistic\n",
    "    \n",
    "    KendalltopK_H34.append(coeff)"
   ]
  },
  {
   "cell_type": "code",
   "execution_count": 53,
   "id": "34bd7bf9-2678-445d-ba26-8e775259887f",
   "metadata": {
    "tags": []
   },
   "outputs": [
    {
     "data": {
      "text/plain": [
       "<matplotlib.legend.Legend at 0x7d940c4ee2f0>"
      ]
     },
     "execution_count": 53,
     "metadata": {},
     "output_type": "execute_result"
    },
    {
     "data": {
      "image/png": "[encoded data removed]",
      "text/plain": [
       "<Figure size 350x262.5 with 1 Axes>"
      ]
     },
     "metadata": {},
     "output_type": "display_data"
    }
   ],
   "source": [
    "plt.plot(KendalltopK_H34, label=\"H3E\")\n",
    "plt.plot(KendalltopK_H43, label=\"HE4\")\n",
    "\n",
    "plt.legend()"
   ]
  },
  {
   "cell_type": "code",
   "execution_count": null,
   "id": "6b0a9c62-001d-4e40-842c-9c37ffc512e1",
   "metadata": {},
   "outputs": [],
   "source": [
    "print(name)\n",
    "ranking = {'HEC3':HEC3, 'HEC4':HEC4, 'EC':EC}\n",
    "\n",
    "with open(f'CentralityData/Directed/cent_{name}.pkl', 'wb') as f:\n",
    "    #pickle.dump(ranking, f)"
   ]
  },
  {
   "cell_type": "markdown",
   "id": "6ea786fb-76ea-4862-9be0-b6f44aca95fb",
   "metadata": {},
   "source": [
    "## Final figures"
   ]
  },
  {
   "cell_type": "markdown",
   "id": "a08ec297-c335-48ad-81ea-cc40923031bd",
   "metadata": {
    "jp-MarkdownHeadingCollapsed": true,
    "tags": []
   },
   "source": [
    "### Load and recompute correlations"
   ]
  },
  {
   "cell_type": "code",
   "execution_count": 73,
   "id": "e9ce3345-4a75-4457-bd35-4c61c427aa80",
   "metadata": {
    "tags": []
   },
   "outputs": [],
   "source": [
    "name1 = \"tntp-ChicagoRegional\"\n",
    "with open(f'CentralityData/Directed/cent_{name}.pkl', 'rb') as f:\n",
    "    ranking = pickle.load(f)\n",
    "    \n",
    "    HEC3_1 = ranking[\"HEC3\"]\n",
    "    HEC4_1 = ranking[\"HEC4\"]\n",
    "    EC_1 = ranking[\"EC\"]\n",
    "    \n",
    "name2 = \"subelj_euroroad\"\n",
    "with open(f'CentralityData/Directed/cent_{name}.pkl', 'rb') as f:\n",
    "    ranking = pickle.load(f)\n",
    "    \n",
    "    HEC3_2 = ranking[\"HEC3\"]\n",
    "    HEC4_2 = ranking[\"HEC4\"]\n",
    "    EC_2 = ranking[\"EC\"]\n",
    "    \n",
    "name3 = \"opsahl-openflights\"\n",
    "with open(f'CentralityData/Directed/cent_{name}.pkl', 'rb') as f:\n",
    "    ranking = pickle.load(f)\n",
    "    \n",
    "    HEC3_3 = ranking[\"HEC3\"]\n",
    "    HEC4_3 = ranking[\"HEC4\"]\n",
    "    EC_3 = ranking[\"EC\"]\n",
    "    "
   ]
  },
  {
   "cell_type": "code",
   "execution_count": 28,
   "id": "9d1e2798-9250-42f3-aa29-e6af98499f75",
   "metadata": {
    "tags": []
   },
   "outputs": [],
   "source": [
    "def compute_correlations(rank1, rank2, correlation=correlation):\n",
    "    \n",
    "    corr12 = []\n",
    "    corr21 = []\n",
    "    \n",
    "    for k in range(1, len(rank1)):\n",
    "\n",
    "        # 1->2\n",
    "        topk1 = topN(rank1, N=k)\n",
    "        centrals2 = [rank2[node] for node in topk1.keys()]\n",
    "\n",
    "        coeff = correlation(list(topk1.values()), centrals2).statistic\n",
    "\n",
    "        corr12.append(coeff)\n",
    "        \n",
    "        # 2->1        \n",
    "        topk2 = topN(rank2, N=k)\n",
    "        centrals1 = [rank1[node] for node in topk2.keys()]\n",
    "\n",
    "        coeff = correlation(list(topk2.values()), centrals1).statistic\n",
    "\n",
    "        corr21.append(coeff)\n",
    "        \n",
    "    return corr12, corr21"
   ]
  },
  {
   "cell_type": "code",
   "execution_count": 68,
   "id": "062170fe-bb8c-408e-9315-f18253a2f6df",
   "metadata": {
    "tags": []
   },
   "outputs": [],
   "source": [
    "corrEH3_1, corrH3E_1 = compute_correlations(EC_1, HEC3_1)\n",
    "corrEH4_1, corrH4E_1 = compute_correlations(EC_1, HEC4_1)\n",
    "corrH3H4_1, corrH4H3_1 = compute_correlations(HEC3_1, HEC4_1)\n",
    "\n",
    "corrEH3_2, corrH3E_2 = compute_correlations(EC_2, HEC3_2)\n",
    "corrEH4_2, corrH4E_2 = compute_correlations(EC_2, HEC4_2)\n",
    "corrH3H4_2, corrH4H3_2 = compute_correlations(HEC3_2, HEC4_2)\n",
    "\n",
    "corrEH3_3, corrH3E_3 = compute_correlations(EC_3, HEC3_3)\n",
    "corrEH4_3, corrH4E_3 = compute_correlations(EC_3, HEC4_3)\n",
    "corrH3H4_3, corrH4H3_3 = compute_correlations(HEC3_3, HEC4_3)"
   ]
  },
  {
   "cell_type": "code",
   "execution_count": 74,
   "id": "b8781d71-db15-4ef6-aa10-cb0915426eb3",
   "metadata": {
    "tags": []
   },
   "outputs": [],
   "source": [
    "all_corrs = {'names': {1:name1, 2:name2, 3:name3},\n",
    "            'corrEH3_1':corrEH3_1, 'corrH3E_1':corrH3E_1, 'corrEH4_1':corrEH4_1,\n",
    "            'corrH4E_1':corrH4E_1, 'corrH3H4_1':corrH3H4_1, 'corrH4H3_1':corrH4H3_1,\n",
    "            'corrEH3_2':corrEH3_2, 'corrH3E_2':corrH3E_2, 'corrEH4_2':corrEH4_2,\n",
    "            'corrH4E_2':corrH4E_2, 'corrH3H4_2':corrH3H4_2, 'corrH4H3_2':corrH4H3_2,\n",
    "            'corrEH3_3':corrEH3_3, 'corrH3E_3':corrH3E_3, 'corrEH4_3':corrEH4_3,\n",
    "            'corrH4E_3':corrH4E_3, 'corrH3H4_3':corrH3H4_3, 'corrH4H3_3':corrH4H3_3}\n",
    "\n",
    "with open(f'CentralityData/Directed/all_correlations.pkl', 'wb') as f:\n",
    "    #pickle.dump(all_corrs, f)"
   ]
  },
  {
   "cell_type": "markdown",
   "id": "b388e2ca-6981-492d-8837-cd278d31a8bb",
   "metadata": {},
   "source": [
    "### Plot correlations"
   ]
  },
  {
   "cell_type": "code",
   "execution_count": 6,
   "id": "b9daadf5-1eca-4f4a-aa38-deb8e0faaadf",
   "metadata": {
    "tags": []
   },
   "outputs": [],
   "source": [
    "with open(f'CentralityData/Directed/all_correlations.pkl', 'rb') as f:\n",
    "    all_corrs = pickle.load(f)\n",
    "    \n",
    "for key, val in all_corrs.items():\n",
    "    globals()[key] = val"
   ]
  },
  {
   "cell_type": "code",
   "execution_count": 10,
   "id": "58af67c6-790a-4fc1-82f4-f15dd65ffc99",
   "metadata": {
    "tags": []
   },
   "outputs": [
    {
     "data": {
      "text/plain": [
       "{1: 'tntp-ChicagoRegional', 2: 'subelj_euroroad', 3: 'opsahl-openflights'}"
      ]
     },
     "execution_count": 10,
     "metadata": {},
     "output_type": "execute_result"
    }
   ],
   "source": [
    "names"
   ]
  },
  {
   "cell_type": "code",
   "execution_count": 7,
   "id": "88da705a-9394-4707-ab58-276677273017",
   "metadata": {
    "tags": []
   },
   "outputs": [],
   "source": [
    "plt.rcParams['pdf.use14corefonts'] = True"
   ]
  },
  {
   "cell_type": "code",
   "execution_count": 8,
   "id": "2464861c-516d-4639-a88e-f445f44e3840",
   "metadata": {
    "tags": []
   },
   "outputs": [
    {
     "data": {
      "image/png": "[encoded data removed]",
      "text/plain": [
       "<Figure size 900x300 with 3 Axes>"
      ]
     },
     "metadata": {},
     "output_type": "display_data"
    }
   ],
   "source": [
    "fig, ax = plt.subplots(1,3, figsize=(9,3), sharey=True)\n",
    "\n",
    "fig.supylabel(r\"$ \\rho $\")\n",
    "\n",
    "ax[0].plot(corrH3H4_1, label=\"H3-H4\", linewidth=1.5)\n",
    "ax[0].plot(corrH4H3_1, label=\"H4-H3\", linewidth=1.5)\n",
    "ax[0].plot(corrH3E_1, label=\"H3-E\", linewidth=1.5)\n",
    "ax[0].plot(corrEH3_1, label=\"E-H3\", linewidth=1.5)\n",
    "ax[0].plot(corrH4E_1, label=\"H4-E\", linewidth=1.5)\n",
    "ax[0].plot(corrEH4_1, label=\"E-H4\", linewidth=1.5)\n",
    "\n",
    "ax[0].set_xlabel(\"Top K\", fontsize=11)\n",
    "\n",
    "ax[1].plot(corrH3H4_2, label=\"H3-H4\", linewidth=1.5)\n",
    "ax[1].plot(corrH4H3_2, label=\"H4-H3\", linewidth=1.5)\n",
    "ax[1].plot(corrH3E_2, label=\"H3-E\", linewidth=1.5)\n",
    "ax[1].plot(corrEH3_2, label=\"E-H3\", linewidth=1.5)\n",
    "ax[1].plot(corrH4E_2, label=\"H4-E\", linewidth=1.5)\n",
    "ax[1].plot(corrEH4_2, label=\"E-H4\", linewidth=1.5)\n",
    "\n",
    "ax[1].set_xlabel(\"Top K\", fontsize=11)\n",
    "\n",
    "ax[2].plot(corrH3H4_3, label=\"H3-H4\", linewidth=1.5)\n",
    "ax[2].plot(corrH4H3_3, label=\"H4-H3\", linewidth=1.5)\n",
    "ax[2].plot(corrH3E_3, label=\"H3-E\", linewidth=1.5)\n",
    "ax[2].plot(corrEH3_3, label=\"E-H3\", linewidth=1.5)\n",
    "ax[2].plot(corrH4E_3, label=\"H4-E\", linewidth=1.5)\n",
    "ax[2].plot(corrEH4_3, label=\"E-H4\", linewidth=1.5)\n",
    "\n",
    "ax[2].set_xlabel(\"Top K\", fontsize=11)\n",
    "\n",
    "plt.tight_layout()\n",
    "\n",
    "ax[1].legend(loc='upper center', bbox_to_anchor=(0.5, 1.15),fancybox=False, shadow=False, ncol=6)\n",
    "\n",
    "\n",
    "plt.savefig(\"Figures/k-step-comparison.svg\")\n",
    "plt.savefig(\"Figures/k-step-comparison.png\")"
   ]
  },
  {
   "cell_type": "code",
   "execution_count": 55,
   "id": "e4b45bb7-46d8-4112-8279-5efa4e795b22",
   "metadata": {
    "tags": []
   },
   "outputs": [],
   "source": []
  },
  {
   "cell_type": "code",
   "execution_count": 56,
   "id": "fb5a7729-e4db-4ded-ba5c-cf5e1b534d45",
   "metadata": {
    "tags": []
   },
   "outputs": [
    {
     "data": {
      "text/plain": [
       "'opsahl-openflights'"
      ]
     },
     "execution_count": 56,
     "metadata": {},
     "output_type": "execute_result"
    }
   ],
   "source": [
    "name"
   ]
  },
  {
   "cell_type": "markdown",
   "id": "16778c21-6af4-4a86-902e-2120908063dd",
   "metadata": {},
   "source": [
    "### "
   ]
  },
  {
   "cell_type": "code",
   "execution_count": null,
   "id": "a2a423e5-ce1a-46ff-a2fa-fcc7eb420fdf",
   "metadata": {},
   "outputs": [],
   "source": []
  },
  {
   "cell_type": "code",
   "execution_count": null,
   "id": "b1d4a702-9277-408a-8d79-180ac75fc97a",
   "metadata": {},
   "outputs": [],
   "source": []
  },
  {
   "cell_type": "markdown",
   "id": "c74d7998-273b-4e71-8bd7-aafc90074f1d",
   "metadata": {
    "tags": []
   },
   "source": [
    "## Test (undirected)"
   ]
  },
  {
   "cell_type": "code",
   "execution_count": 35,
   "id": "c211c12e-37ab-46a7-8e55-07a4d58d8a2c",
   "metadata": {
    "tags": []
   },
   "outputs": [
    {
     "name": "stdout",
     "output_type": "stream",
     "text": [
      "4941 6594 False\n"
     ]
    }
   ],
   "source": [
    "name = \"opsahl-powergrid\"\n",
    "with open(f\"DirectedNets/{name}.pkl\", 'rb') as f:\n",
    "    G = pickle.load(f)\n",
    "    \n",
    "largest = max(nx.connected_components(G), key=len)\n",
    "G = nx.subgraph(G,largest)\n",
    "\n",
    "print(len(G), len(G.edges), nx.is_directed(G))\n",
    "\n",
    "G = nx.convert_node_labels_to_integers(G, ordering=\"sorted\")"
   ]
  },
  {
   "cell_type": "code",
   "execution_count": 37,
   "id": "91e00c70-e418-403e-960d-31b5061a590f",
   "metadata": {
    "tags": []
   },
   "outputs": [],
   "source": [
    "#nx.is_strongly_connected(G)"
   ]
  },
  {
   "cell_type": "code",
   "execution_count": 38,
   "id": "82b9cade-2e31-42d5-93fd-0bd37d8e1004",
   "metadata": {
    "scrolled": true,
    "tags": []
   },
   "outputs": [],
   "source": [
    "T = to_step_tensor(G,3)"
   ]
  },
  {
   "cell_type": "code",
   "execution_count": 39,
   "id": "25ea8e7e-de68-4860-8375-cfab158ef5f2",
   "metadata": {
    "tags": []
   },
   "outputs": [
    {
     "name": "stdout",
     "output_type": "stream",
     "text": [
      "Finished in 35 iterations.\n"
     ]
    },
    {
     "data": {
      "text/plain": [
       "True"
      ]
     },
     "execution_count": 39,
     "metadata": {},
     "output_type": "execute_result"
    }
   ],
   "source": [
    "cent3, converged = HEC_ours(T, m=3, niter=100000, tol=1e-6, verbose=True)\n",
    "\n",
    "HEC3 = {}\n",
    "for i, c in enumerate(cent3):\n",
    "    HEC3[i] = c \n",
    "    \n",
    "converged"
   ]
  },
  {
   "cell_type": "code",
   "execution_count": 40,
   "id": "6e59c655-0e2b-480a-8118-469cb9631e3d",
   "metadata": {
    "scrolled": true,
    "tags": []
   },
   "outputs": [],
   "source": [
    "T = to_step_tensor(G,4)"
   ]
  },
  {
   "cell_type": "code",
   "execution_count": 41,
   "id": "e02cbc9d-1b66-49a5-bee4-9ff0f7430f8f",
   "metadata": {
    "tags": []
   },
   "outputs": [
    {
     "name": "stdout",
     "output_type": "stream",
     "text": [
      "Finished in 50 iterations.\n"
     ]
    },
    {
     "data": {
      "text/plain": [
       "True"
      ]
     },
     "execution_count": 41,
     "metadata": {},
     "output_type": "execute_result"
    }
   ],
   "source": [
    "cent4, converged = HEC_ours(T, m=4, niter=100000, tol=1e-6, verbose=True)\n",
    "\n",
    "HEC4 = {}\n",
    "for i, c in enumerate(cent4):\n",
    "    HEC4[i] = c \n",
    "    \n",
    "converged"
   ]
  },
  {
   "cell_type": "code",
   "execution_count": 42,
   "id": "abbe793c-14d9-4831-b813-92eb3c37690e",
   "metadata": {
    "tags": []
   },
   "outputs": [
    {
     "data": {
      "text/plain": [
       "(0.11496140966985845, 0.14956756156046694)"
      ]
     },
     "execution_count": 42,
     "metadata": {},
     "output_type": "execute_result"
    }
   ],
   "source": [
    "EC = nx.eigenvector_centrality_numpy(G)\n",
    "correlation(list(EC.values()), list(HEC3.values())).statistic, correlation(list(EC.values()), list(HEC4.values())).statistic"
   ]
  },
  {
   "cell_type": "code",
   "execution_count": 44,
   "id": "14573f09-2b0a-412e-bd13-e10fa1a743b3",
   "metadata": {
    "tags": []
   },
   "outputs": [],
   "source": [
    "KendalltopK_H3E = []\n",
    "for k in range(1, len(HEC3)):\n",
    "                        \n",
    "    topk1 = topN(HEC3, N=k)\n",
    "    centrals2 = [EC[node] for node in topk1.keys()]\n",
    "    \n",
    "    coeff = correlation(list(topk1.values()), centrals2).statistic\n",
    "    \n",
    "    KendalltopK_H3E.append(coeff)\n",
    "\n",
    "KendalltopK_EH3 = []\n",
    "for k in range(1, len(HEC3)):\n",
    "                        \n",
    "    topk1 = topN(EC, N=k)\n",
    "    centrals2 = [HEC3[node] for node in topk1.keys()]\n",
    "    \n",
    "    coeff = correlation(list(topk1.values()), centrals2).statistic\n",
    "    \n",
    "    KendalltopK_EH3.append(coeff)\n",
    "\n",
    "KendalltopK_H4E = []\n",
    "for k in range(1, len(HEC4)):\n",
    "                        \n",
    "    topk1 = topN(HEC4, N=k)\n",
    "    centrals2 = [EC[node] for node in topk1.keys()]\n",
    "    \n",
    "    coeff = correlation(list(topk1.values()), centrals2).statistic\n",
    "    \n",
    "    KendalltopK_H4E.append(coeff)\n",
    "    \n",
    "\n",
    "KendalltopK_EH4 = []\n",
    "for k in range(1, len(HEC4)):\n",
    "                        \n",
    "    topk1 = topN(EC, N=k)\n",
    "    centrals2 = [HEC4[node] for node in topk1.keys()]\n",
    "    \n",
    "    coeff = correlation(list(topk1.values()), centrals2).statistic\n",
    "    \n",
    "    KendalltopK_EH4.append(coeff)\n"
   ]
  },
  {
   "cell_type": "code",
   "execution_count": 45,
   "id": "4dd086e9-94d3-4821-b434-32461d54c640",
   "metadata": {
    "tags": []
   },
   "outputs": [
    {
     "data": {
      "text/plain": [
       "<matplotlib.legend.Legend at 0x7881c94a4d30>"
      ]
     },
     "execution_count": 45,
     "metadata": {},
     "output_type": "execute_result"
    },
    {
     "data": {
      "image/png": "[encoded data removed]",
      "text/plain": [
       "<Figure size 350x262.5 with 1 Axes>"
      ]
     },
     "metadata": {},
     "output_type": "display_data"
    }
   ],
   "source": [
    "plt.plot(KendalltopK_H3E, label=\"H3-E\")\n",
    "plt.plot(KendalltopK_EH3, label=\"E-H3\")\n",
    "plt.plot(KendalltopK_H4E, label=\"H4-E\")\n",
    "plt.plot(KendalltopK_EH4, label=\"E-H4\")\n",
    "\n",
    "plt.legend()\n",
    "\n",
    "#plt.savefig(\"Figures/k-step-comparison.png\")"
   ]
  },
  {
   "cell_type": "code",
   "execution_count": null,
   "id": "31cf5469-9086-497d-b0e8-eb766fd0a9d5",
   "metadata": {},
   "outputs": [],
   "source": []
  }
 ],
 "metadata": {
  "kernelspec": {
   "display_name": "Python 3 (ipykernel)",
   "language": "python",
   "name": "python3"
  },
  "language_info": {
   "codemirror_mode": {
    "name": "ipython",
    "version": 3
   },
   "file_extension": ".py",
   "mimetype": "text/x-python",
   "name": "python",
   "nbconvert_exporter": "python",
   "pygments_lexer": "ipython3",
   "version": "3.10.12"
  }
 },
 "nbformat": 4,
 "nbformat_minor": 5
}
