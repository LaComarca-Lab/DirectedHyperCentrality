{
 "cells": [
  {
   "cell_type": "markdown",
   "id": "e62a0bef-f1f7-408a-94a7-939e989ad4e7",
   "metadata": {},
   "source": [
    "## k-step hypergraphs"
   ]
  },
  {
   "cell_type": "code",
   "execution_count": 1,
   "id": "ce59723b-0b2b-447a-8043-4f2f633683fd",
   "metadata": {
    "tags": []
   },
   "outputs": [],
   "source": [
    "import pickle\n",
    "import numpy as np\n",
    "import networkx as nx\n",
    "import scipy\n",
    "import matplotlib.pyplot as plt\n",
    "from itertools import product, permutations\n",
    "from collections import defaultdict\n",
    "from copy import copy\n",
    "\n",
    "import scienceplots\n",
    "\n",
    "plt.style.use(['science'])\n",
    "\n",
    "from useful_functions import *\n",
    "from tensor_functions import *"
   ]
  },
  {
   "cell_type": "code",
   "execution_count": 2,
   "id": "9821d469-c467-4aa0-94a4-38e593aacbde",
   "metadata": {
    "tags": []
   },
   "outputs": [],
   "source": [
    "corr = \"spearman\""
   ]
  },
  {
   "cell_type": "code",
   "execution_count": 3,
   "id": "4c57984f-ebc8-42ee-b02c-4621a26c56a3",
   "metadata": {
    "tags": []
   },
   "outputs": [],
   "source": [
    "def findPaths(G,u,k):\n",
    "    if k == 0:\n",
    "        return [[u]]\n",
    "    paths = [[u]+path for neighbor in G.neighbors(u) for path in findPaths(G,neighbor,k-1)]\n",
    "    return paths\n"
   ]
  },
  {
   "cell_type": "code",
   "execution_count": 4,
   "id": "b099fbd4-a432-4061-abbc-4c75dfc5d8fa",
   "metadata": {
    "tags": []
   },
   "outputs": [],
   "source": [
    "def to_step_tensor(G, k):\n",
    "    \n",
    "    tensor_dict = defaultdict(lambda: 0)\n",
    "    \n",
    "    for node in G.nodes:\n",
    "        \n",
    "        for hyperedge in findPaths(G,node,k-1):\n",
    "            \n",
    "            tensor_dict[tuple(hyperedge)] += 1\n",
    "        \n",
    "    return dict(tensor_dict), tuple([len(G.nodes)]*k)"
   ]
  },
  {
   "cell_type": "code",
   "execution_count": 5,
   "id": "219c02bd-0e74-4978-a856-824d1a4b5853",
   "metadata": {
    "tags": []
   },
   "outputs": [],
   "source": [
    "if corr == \"kendall\":\n",
    "    correlation = scipy.stats.kendalltau\n",
    "elif corr == \"spearman\":\n",
    "    correlation = scipy.stats.spearmanr"
   ]
  },
  {
   "cell_type": "markdown",
   "id": "966e8f97-137b-4bbd-94a8-7361c2e51973",
   "metadata": {
    "jp-MarkdownHeadingCollapsed": true,
    "tags": []
   },
   "source": [
    "## Test"
   ]
  },
  {
   "cell_type": "code",
   "execution_count": 7,
   "id": "4055138e-b04a-4a54-b80f-de03c202d7dd",
   "metadata": {
    "tags": []
   },
   "outputs": [
    {
     "data": {
      "image/png": "[encoded data removed]",
      "text/plain": [
       "<Figure size 350x262.5 with 1 Axes>"
      ]
     },
     "metadata": {},
     "output_type": "display_data"
    }
   ],
   "source": [
    "G = nx.cycle_graph(4,create_using=nx.DiGraph)\n",
    "G.add_edge(3,1)\n",
    "nx.draw(G, with_labels=True)"
   ]
  },
  {
   "cell_type": "code",
   "execution_count": 8,
   "id": "4701b2ae-626a-4c7d-aabc-a48d71b70539",
   "metadata": {
    "tags": []
   },
   "outputs": [
    {
     "data": {
      "text/plain": [
       "([[0, 1, 2]], [[1, 2, 3]], [[2, 3, 0], [2, 3, 1]], [[3, 0, 1], [3, 1, 2]])"
      ]
     },
     "execution_count": 8,
     "metadata": {},
     "output_type": "execute_result"
    }
   ],
   "source": [
    "findPaths(G, 0, 2), findPaths(G, 1, 2), findPaths(G, 2, 2), findPaths(G, 3, 2)"
   ]
  },
  {
   "cell_type": "code",
   "execution_count": 8,
   "id": "2a4ddbd6-2f83-45f3-b33c-99abf2a52d0b",
   "metadata": {
    "tags": []
   },
   "outputs": [
    {
     "data": {
      "text/plain": [
       "({(0, 1): 1, (1, 2): 1, (2, 3): 1, (3, 0): 1, (3, 1): 1}, (4, 4))"
      ]
     },
     "execution_count": 8,
     "metadata": {},
     "output_type": "execute_result"
    }
   ],
   "source": [
    "T2 = to_step_tensor(G,2)\n",
    "T2"
   ]
  },
  {
   "cell_type": "code",
   "execution_count": 9,
   "id": "f4ec143d-511a-47e5-b57e-9b1392af47ac",
   "metadata": {
    "tags": []
   },
   "outputs": [],
   "source": [
    "EC = nx.eigenvector_centrality_numpy(G)"
   ]
  },
  {
   "cell_type": "code",
   "execution_count": 10,
   "id": "db20e964-e87c-47de-8f08-7947cf6113c9",
   "metadata": {
    "tags": []
   },
   "outputs": [
    {
     "name": "stdout",
     "output_type": "stream",
     "text": [
      "Finished in 16 iterations.\n",
      "0.0\n"
     ]
    }
   ],
   "source": [
    "cent, converged = HEC_ours(T2, m=2, niter=100000, tol=1e-6, verbose=True)\n",
    "\n",
    "HEC2 = {}\n",
    "for i, c in enumerate(cent):\n",
    "    HEC2[i] = c \n",
    "\n",
    "tau = correlation(list(EC.values()), list(HEC2.values())).statistic\n",
    "print(tau)"
   ]
  },
  {
   "cell_type": "code",
   "execution_count": 11,
   "id": "3d7a77f9-41c6-4e62-b815-2e70a1197ff8",
   "metadata": {
    "tags": []
   },
   "outputs": [
    {
     "data": {
      "text/plain": [
       "({(0, 1, 2): 1,\n",
       "  (1, 2, 3): 1,\n",
       "  (2, 3, 0): 1,\n",
       "  (2, 3, 1): 1,\n",
       "  (3, 0, 1): 1,\n",
       "  (3, 1, 2): 1},\n",
       " (4, 4, 4))"
      ]
     },
     "execution_count": 11,
     "metadata": {},
     "output_type": "execute_result"
    }
   ],
   "source": [
    "T3 = to_step_tensor(G,3)\n",
    "T3"
   ]
  },
  {
   "cell_type": "code",
   "execution_count": 12,
   "id": "a087967b-522f-430e-9e17-df9cb52ceb8a",
   "metadata": {
    "tags": []
   },
   "outputs": [
    {
     "name": "stdout",
     "output_type": "stream",
     "text": [
      "Finished in 12 iterations.\n",
      "0.3333333333333334\n"
     ]
    }
   ],
   "source": [
    "cent, converged = HEC_ours(T3, m=3, niter=100000, tol=1e-6, verbose=True)\n",
    "\n",
    "HEC3 = {}\n",
    "for i, c in enumerate(cent):\n",
    "    HEC3[i] = c \n",
    "    \n",
    "tau = correlation(list(EC.values()), list(HEC3.values())).statistic\n",
    "print(tau)"
   ]
  },
  {
   "cell_type": "code",
   "execution_count": 13,
   "id": "1b6931a3-4c06-4ac5-9e95-2871323d5dda",
   "metadata": {
    "tags": []
   },
   "outputs": [
    {
     "data": {
      "image/png": "[encoded data removed]",
      "text/plain": [
       "<Figure size 350x262.5 with 1 Axes>"
      ]
     },
     "metadata": {},
     "output_type": "display_data"
    }
   ],
   "source": [
    "EC = {i:EC[i]/np.sum(list(EC.values())) for i in range(len(EC))}\n",
    "HEC2 = {i:HEC2[i]/np.sum(list(HEC2.values())) for i in range(len(HEC2))}\n",
    "HEC3 = {i:HEC3[i]/np.sum(list(HEC3.values())) for i in range(len(HEC3))}\n",
    "for i in range(len(EC)):\n",
    "    plt.plot([EC[i],HEC2[i],HEC3[i]])"
   ]
  },
  {
   "cell_type": "markdown",
   "id": "453f0d2d-dd60-42d2-825d-e38a269c4693",
   "metadata": {
    "tags": []
   },
   "source": [
    "## Some datasets"
   ]
  },
  {
   "cell_type": "code",
   "execution_count": 42,
   "id": "87f2ccd2-ce38-460c-9598-8b1cdb141300",
   "metadata": {
    "tags": []
   },
   "outputs": [
    {
     "name": "stdout",
     "output_type": "stream",
     "text": [
      "2868 30404 True\n"
     ]
    }
   ],
   "source": [
    "name = \"opsahl-openflights\"\n",
    "with open(f\"DirectedNets/{name}.pkl\", 'rb') as f:\n",
    "    G = pickle.load(f)\n",
    "    \n",
    "largest = max(nx.strongly_connected_components(G), key=len)\n",
    "G = nx.subgraph(G,largest)\n",
    "\n",
    "print(len(G), len(G.edges), nx.is_directed(G))\n",
    "\n",
    "G = nx.convert_node_labels_to_integers(G, ordering=\"sorted\")"
   ]
  },
  {
   "cell_type": "code",
   "execution_count": 43,
   "id": "e631c6c4-7770-4be1-a263-a7d2d42bde1d",
   "metadata": {
    "tags": []
   },
   "outputs": [],
   "source": [
    "# name = \"subelj_euroroad\"\n",
    "# with open(f\"DirectedNets/{name}.pkl\", 'rb') as f:\n",
    "#     G = pickle.load(f)\n",
    "    \n",
    "# largest = max(nx.connected_components(G), key=len)\n",
    "# G = nx.subgraph(G,largest)\n",
    "\n",
    "# print(len(G), len(G.edges), nx.is_directed(G))\n",
    "\n",
    "# G = nx.convert_node_labels_to_integers(G, ordering=\"sorted\")"
   ]
  },
  {
   "cell_type": "code",
   "execution_count": 44,
   "id": "32d9b323-eb6a-497f-93c0-d70d3fd2479d",
   "metadata": {
    "tags": []
   },
   "outputs": [
    {
     "data": {
      "text/plain": [
       "True"
      ]
     },
     "execution_count": 44,
     "metadata": {},
     "output_type": "execute_result"
    }
   ],
   "source": [
    "nx.is_strongly_connected(G)"
   ]
  },
  {
   "cell_type": "code",
   "execution_count": 45,
   "id": "8909a76a-8af1-4c24-95fd-3b99537197e6",
   "metadata": {
    "scrolled": true,
    "tags": []
   },
   "outputs": [],
   "source": [
    "T = to_step_tensor(G,3)"
   ]
  },
  {
   "cell_type": "code",
   "execution_count": 46,
   "id": "b41a8008-eae8-4de6-9593-7046d8d551bf",
   "metadata": {
    "tags": []
   },
   "outputs": [
    {
     "name": "stdout",
     "output_type": "stream",
     "text": [
      "Finished in 17 iterations.\n"
     ]
    },
    {
     "data": {
      "text/plain": [
       "True"
      ]
     },
     "execution_count": 46,
     "metadata": {},
     "output_type": "execute_result"
    }
   ],
   "source": [
    "cent3, converged = HEC_ours(T, m=3, niter=100000, tol=1e-6, verbose=True)\n",
    "\n",
    "HEC3 = {}\n",
    "for i, c in enumerate(cent3):\n",
    "    HEC3[i] = c \n",
    "    \n",
    "converged"
   ]
  },
  {
   "cell_type": "code",
   "execution_count": 47,
   "id": "04999784-0aef-4720-b086-b0c166d1d12b",
   "metadata": {
    "scrolled": true,
    "tags": []
   },
   "outputs": [],
   "source": [
    "T = to_step_tensor(G,4)"
   ]
  },
  {
   "cell_type": "code",
   "execution_count": 48,
   "id": "f792d7bb-8d0e-4bea-9b77-05eb2dde2f28",
   "metadata": {
    "tags": []
   },
   "outputs": [
    {
     "name": "stdout",
     "output_type": "stream",
     "text": [
      "Finished in 15 iterations.\n"
     ]
    },
    {
     "data": {
      "text/plain": [
       "True"
      ]
     },
     "execution_count": 48,
     "metadata": {},
     "output_type": "execute_result"
    }
   ],
   "source": [
    "cent4, converged = HEC_ours(T, m=4, niter=100000, tol=1e-6, verbose=True)\n",
    "\n",
    "HEC4 = {}\n",
    "for i, c in enumerate(cent4):\n",
    "    HEC4[i] = c \n",
    "    \n",
    "converged"
   ]
  },
  {
   "cell_type": "code",
   "execution_count": 49,
   "id": "dfa12a39-4bb0-4f02-be79-9aff66d9861d",
   "metadata": {
    "tags": []
   },
   "outputs": [
    {
     "data": {
      "text/plain": [
       "(0.9867675362102766, 0.9889159645992758)"
      ]
     },
     "execution_count": 49,
     "metadata": {},
     "output_type": "execute_result"
    }
   ],
   "source": [
    "EC = nx.eigenvector_centrality_numpy(G)\n",
    "correlation(list(EC.values()), list(HEC3.values())).statistic, correlation(list(EC.values()), list(HEC4.values())).statistic"
   ]
  },
  {
   "cell_type": "code",
   "execution_count": 50,
   "id": "b45d7376-a44a-4eb9-9447-c75dc5dd7155",
   "metadata": {
    "tags": []
   },
   "outputs": [],
   "source": [
    "KendalltopK_H3E = []\n",
    "for k in range(1, len(HEC3)):\n",
    "                        \n",
    "    topk1 = topN(HEC3, N=k)\n",
    "    centrals2 = [EC[node] for node in topk1.keys()]\n",
    "    \n",
    "    coeff = correlation(list(topk1.values()), centrals2).statistic\n",
    "    \n",
    "    KendalltopK_H3E.append(coeff)\n",
    "\n",
    "KendalltopK_EH3 = []\n",
    "for k in range(1, len(HEC3)):\n",
    "                        \n",
    "    topk1 = topN(EC, N=k)\n",
    "    centrals2 = [HEC3[node] for node in topk1.keys()]\n",
    "    \n",
    "    coeff = correlation(list(topk1.values()), centrals2).statistic\n",
    "    \n",
    "    KendalltopK_EH3.append(coeff)\n",
    "\n",
    "KendalltopK_H4E = []\n",
    "for k in range(1, len(HEC4)):\n",
    "                        \n",
    "    topk1 = topN(HEC4, N=k)\n",
    "    centrals2 = [EC[node] for node in topk1.keys()]\n",
    "    \n",
    "    coeff = correlation(list(topk1.values()), centrals2).statistic\n",
    "    \n",
    "    KendalltopK_H4E.append(coeff)\n",
    "    \n",
    "\n",
    "KendalltopK_EH4 = []\n",
    "for k in range(1, len(HEC4)):\n",
    "                        \n",
    "    topk1 = topN(EC, N=k)\n",
    "    centrals2 = [HEC4[node] for node in topk1.keys()]\n",
    "    \n",
    "    coeff = correlation(list(topk1.values()), centrals2).statistic\n",
    "    \n",
    "    KendalltopK_EH4.append(coeff)\n"
   ]
  },
  {
   "cell_type": "code",
   "execution_count": 51,
   "id": "bd82e27a-5fef-4378-8018-b78c7952f48c",
   "metadata": {
    "tags": []
   },
   "outputs": [
    {
     "data": {
      "image/png": "[encoded data removed]",
      "text/plain": [
       "<Figure size 350x262.5 with 1 Axes>"
      ]
     },
     "metadata": {},
     "output_type": "display_data"
    }
   ],
   "source": [
    "plt.plot(KendalltopK_H3E, label=\"H3-E\")\n",
    "plt.plot(KendalltopK_EH3, label=\"E-H3\")\n",
    "plt.plot(KendalltopK_H4E, label=\"H4-E\")\n",
    "plt.plot(KendalltopK_EH4, label=\"E-H4\")\n",
    "\n",
    "plt.legend()\n",
    "\n",
    "plt.savefig(\"Figures/k-step-comparison.png\")"
   ]
  },
  {
   "cell_type": "code",
   "execution_count": 52,
   "id": "59fb13bf-4103-45e9-ad10-484897b31cc1",
   "metadata": {},
   "outputs": [],
   "source": [
    "KendalltopK_H43 = []\n",
    "for k in range(1, len(HEC4)):\n",
    "                        \n",
    "    topk1 = topN(HEC4, N=k)\n",
    "    centrals2 = [HEC3[node] for node in topk1.keys()]\n",
    "    \n",
    "    coeff = correlation(list(topk1.values()), centrals2).statistic\n",
    "    \n",
    "    KendalltopK_H43.append(coeff)\n",
    "    \n",
    "\n",
    "KendalltopK_H34 = []\n",
    "for k in range(1, len(HEC4)):\n",
    "                        \n",
    "    topk1 = topN(HEC3, N=k)\n",
    "    centrals2 = [HEC4[node] for node in topk1.keys()]\n",
    "    \n",
    "    coeff = correlation(list(topk1.values()), centrals2).statistic\n",
    "    \n",
    "    KendalltopK_H34.append(coeff)"
   ]
  },
  {
   "cell_type": "code",
   "execution_count": 53,
   "id": "34bd7bf9-2678-445d-ba26-8e775259887f",
   "metadata": {
    "tags": []
   },
   "outputs": [
    {
     "data": {
      "text/plain": [
       "<matplotlib.legend.Legend at 0x7d940c4ee2f0>"
      ]
     },
     "execution_count": 53,
     "metadata": {},
     "output_type": "execute_result"
    },
    {
     "data": {
      "image/png": "[encoded data removed]",
      "text/plain": [
       "<Figure size 350x262.5 with 1 Axes>"
      ]
     },
     "metadata": {},
     "output_type": "display_data"
    }
   ],
   "source": [
    "plt.plot(KendalltopK_H34, label=\"H3E\")\n",
    "plt.plot(KendalltopK_H43, label=\"HE4\")\n",
    "\n",
    "plt.legend()"
   ]
  },
  {
   "cell_type": "code",
   "execution_count": null,
   "id": "6b0a9c62-001d-4e40-842c-9c37ffc512e1",
   "metadata": {},
   "outputs": [],
   "source": [
    "print(name)\n",
    "ranking = {'HEC3':HEC3, 'HEC4':HEC4, 'EC':EC}\n",
    "\n",
    "with open(f'CentralityData/Directed/cent_{name}.pkl', 'wb') as f:\n",
    "    #pickle.dump(ranking, f)"
   ]
  },
  {
   "cell_type": "markdown",
   "id": "6ea786fb-76ea-4862-9be0-b6f44aca95fb",
   "metadata": {},
   "source": [
    "## Final figures"
   ]
  },
  {
   "cell_type": "markdown",
   "id": "a08ec297-c335-48ad-81ea-cc40923031bd",
   "metadata": {},
   "source": [
    "### Load and recompute correlations"
   ]
  },
  {
   "cell_type": "code",
   "execution_count": 73,
   "id": "e9ce3345-4a75-4457-bd35-4c61c427aa80",
   "metadata": {
    "tags": []
   },
   "outputs": [],
   "source": [
    "name1 = \"tntp-ChicagoRegional\"\n",
    "with open(f'CentralityData/Directed/cent_{name}.pkl', 'rb') as f:\n",
    "    ranking = pickle.load(f)\n",
    "    \n",
    "    HEC3_1 = ranking[\"HEC3\"]\n",
    "    HEC4_1 = ranking[\"HEC4\"]\n",
    "    EC_1 = ranking[\"EC\"]\n",
    "    \n",
    "name2 = \"subelj_euroroad\"\n",
    "with open(f'CentralityData/Directed/cent_{name}.pkl', 'rb') as f:\n",
    "    ranking = pickle.load(f)\n",
    "    \n",
    "    HEC3_2 = ranking[\"HEC3\"]\n",
    "    HEC4_2 = ranking[\"HEC4\"]\n",
    "    EC_2 = ranking[\"EC\"]\n",
    "    \n",
    "name3 = \"opsahl-openflights\"\n",
    "with open(f'CentralityData/Directed/cent_{name}.pkl', 'rb') as f:\n",
    "    ranking = pickle.load(f)\n",
    "    \n",
    "    HEC3_3 = ranking[\"HEC3\"]\n",
    "    HEC4_3 = ranking[\"HEC4\"]\n",
    "    EC_3 = ranking[\"EC\"]\n",
    "    "
   ]
  },
  {
   "cell_type": "code",
   "execution_count": 65,
   "id": "9d1e2798-9250-42f3-aa29-e6af98499f75",
   "metadata": {
    "tags": []
   },
   "outputs": [],
   "source": [
    "def compute_correlations(rank1, rank2, correlation=correlation):\n",
    "    \n",
    "    corr12 = []\n",
    "    corr21 = []\n",
    "    \n",
    "    for k in range(1, len(rank1)):\n",
    "\n",
    "        # 1->2\n",
    "        topk1 = topN(rank1, N=k)\n",
    "        centrals2 = [rank2[node] for node in topk1.keys()]\n",
    "\n",
    "        coeff = correlation(list(topk1.values()), centrals2).statistic\n",
    "\n",
    "        corr12.append(coeff)\n",
    "        \n",
    "        # 2->1        \n",
    "        topk2 = topN(rank2, N=k)\n",
    "        centrals1 = [rank1[node] for node in topk2.keys()]\n",
    "\n",
    "        coeff = correlation(list(topk2.values()), centrals1).statistic\n",
    "\n",
    "        corr21.append(coeff)\n",
    "        \n",
    "    return corr12, corr21"
   ]
  },
  {
   "cell_type": "code",
   "execution_count": 68,
   "id": "062170fe-bb8c-408e-9315-f18253a2f6df",
   "metadata": {
    "tags": []
   },
   "outputs": [],
   "source": [
    "corrEH3_1, corrH3E_1 = compute_correlations(EC_1, HEC3_1)\n",
    "corrEH4_1, corrH4E_1 = compute_correlations(EC_1, HEC4_1)\n",
    "corrH3H4_1, corrH4H3_1 = compute_correlations(HEC3_1, HEC4_1)\n",
    "\n",
    "corrEH3_2, corrH3E_2 = compute_correlations(EC_2, HEC3_2)\n",
    "corrEH4_2, corrH4E_2 = compute_correlations(EC_2, HEC4_2)\n",
    "corrH3H4_2, corrH4H3_2 = compute_correlations(HEC3_2, HEC4_2)\n",
    "\n",
    "corrEH3_3, corrH3E_3 = compute_correlations(EC_3, HEC3_3)\n",
    "corrEH4_3, corrH4E_3 = compute_correlations(EC_3, HEC4_3)\n",
    "corrH3H4_3, corrH4H3_3 = compute_correlations(HEC3_3, HEC4_3)"
   ]
  },
  {
   "cell_type": "code",
   "execution_count": 74,
   "id": "b8781d71-db15-4ef6-aa10-cb0915426eb3",
   "metadata": {
    "tags": []
   },
   "outputs": [],
   "source": [
    "all_corrs = {'names': {1:name1, 2:name2, 3:name3},\n",
    "            'corrEH3_1':corrEH3_1, 'corrH3E_1':corrH3E_1, 'corrEH4_1':corrEH4_1,\n",
    "            'corrH4E_1':corrH4E_1, 'corrH3H4_1':corrH3H4_1, 'corrH4H3_1':corrH4H3_1,\n",
    "            'corrEH3_2':corrEH3_2, 'corrH3E_2':corrH3E_2, 'corrEH4_2':corrEH4_2,\n",
    "            'corrH4E_2':corrH4E_2, 'corrH3H4_2':corrH3H4_2, 'corrH4H3_2':corrH4H3_2,\n",
    "            'corrEH3_3':corrEH3_3, 'corrH3E_3':corrH3E_3, 'corrEH4_3':corrEH4_3,\n",
    "            'corrH4E_3':corrH4E_3, 'corrH3H4_3':corrH3H4_3, 'corrH4H3_3':corrH4H3_3}\n",
    "\n",
    "with open(f'CentralityData/Directed/all_correlations.pkl', 'wb') as f:\n",
    "    #pickle.dump(all_corrs, f)"
   ]
  },
  {
   "cell_type": "markdown",
   "id": "b388e2ca-6981-492d-8837-cd278d31a8bb",
   "metadata": {},
   "source": [
    "### Plot correlations"
   ]
  },
  {
   "cell_type": "code",
   "execution_count": 76,
   "id": "2464861c-516d-4639-a88e-f445f44e3840",
   "metadata": {
    "tags": []
   },
   "outputs": [
    {
     "data": {
      "image/png": "[encoded data removed]",
      "text/plain": [
       "<Figure size 1100x300 with 3 Axes>"
      ]
     },
     "metadata": {},
     "output_type": "display_data"
    }
   ],
   "source": [
    "fig, ax = plt.subplots(1,3, figsize=(11,3), sharey=True)\n",
    "\n",
    "fig.supylabel(r\"$ \\rho $\")\n",
    "\n",
    "ax[0].plot(corrH3H4_1, label=\"H3-H4\", linewidth=1.5)\n",
    "ax[0].plot(corrH4H3_1, label=\"H4-H3\", linewidth=1.5)\n",
    "ax[0].plot(corrH3E_1, label=\"H3-E\", linewidth=1.5)\n",
    "ax[0].plot(corrEH3_1, label=\"E-H3\", linewidth=1.5)\n",
    "ax[0].plot(corrH4E_1, label=\"H4-E\", linewidth=1.5)\n",
    "ax[0].plot(corrEH4_1, label=\"E-H4\", linewidth=1.5)\n",
    "\n",
    "ax[0].set_xlabel(\"Top K\", fontsize=11)\n",
    "\n",
    "ax[1].plot(corrH3H4_2, label=\"H3-H4\", linewidth=1.5)\n",
    "ax[1].plot(corrH4H3_2, label=\"H4-H3\", linewidth=1.5)\n",
    "ax[1].plot(corrH3E_2, label=\"H3-E\", linewidth=1.5)\n",
    "ax[1].plot(corrEH3_2, label=\"E-H3\", linewidth=1.5)\n",
    "ax[1].plot(corrH4E_2, label=\"H4-E\", linewidth=1.5)\n",
    "ax[1].plot(corrEH4_2, label=\"E-H4\", linewidth=1.5)\n",
    "\n",
    "ax[1].set_xlabel(\"Top K\", fontsize=11)\n",
    "\n",
    "ax[2].plot(corrH3H4_3, label=\"H3-H4\", linewidth=1.5)\n",
    "ax[2].plot(corrH4H3_3, label=\"H4-H3\", linewidth=1.5)\n",
    "ax[2].plot(corrH3E_3, label=\"H3-E\", linewidth=1.5)\n",
    "ax[2].plot(corrEH3_3, label=\"E-H3\", linewidth=1.5)\n",
    "ax[2].plot(corrH4E_3, label=\"H4-E\", linewidth=1.5)\n",
    "ax[2].plot(corrEH4_3, label=\"E-H4\", linewidth=1.5)\n",
    "\n",
    "ax[2].set_xlabel(\"Top K\", fontsize=11)\n",
    "\n",
    "plt.tight_layout()\n",
    "\n",
    "ax[1].legend(loc='upper center', bbox_to_anchor=(0.5, 1.15),fancybox=False, shadow=False, ncol=6)\n",
    "\n",
    "\n",
    "plt.savefig(\"Figures/k-step-comparison.png\")"
   ]
  },
  {
   "cell_type": "code",
   "execution_count": 55,
   "id": "e4b45bb7-46d8-4112-8279-5efa4e795b22",
   "metadata": {
    "tags": []
   },
   "outputs": [],
   "source": []
  },
  {
   "cell_type": "code",
   "execution_count": 56,
   "id": "fb5a7729-e4db-4ded-ba5c-cf5e1b534d45",
   "metadata": {
    "tags": []
   },
   "outputs": [
    {
     "data": {
      "text/plain": [
       "'opsahl-openflights'"
      ]
     },
     "execution_count": 56,
     "metadata": {},
     "output_type": "execute_result"
    }
   ],
   "source": [
    "name"
   ]
  },
  {
   "cell_type": "markdown",
   "id": "16778c21-6af4-4a86-902e-2120908063dd",
   "metadata": {},
   "source": [
    "### "
   ]
  },
  {
   "cell_type": "code",
   "execution_count": null,
   "id": "a2a423e5-ce1a-46ff-a2fa-fcc7eb420fdf",
   "metadata": {},
   "outputs": [],
   "source": []
  },
  {
   "cell_type": "code",
   "execution_count": null,
   "id": "b1d4a702-9277-408a-8d79-180ac75fc97a",
   "metadata": {},
   "outputs": [],
   "source": []
  },
  {
   "cell_type": "code",
   "execution_count": null,
   "id": "7179c85b-65a6-497a-8b9a-9b83f9362fe2",
   "metadata": {},
   "outputs": [],
   "source": []
  },
  {
   "cell_type": "code",
   "execution_count": 25,
   "id": "9e255c1b-78bc-4730-ab2c-cbc3bbd37ef8",
   "metadata": {
    "tags": []
   },
   "outputs": [],
   "source": [
    "G = nx.read_edgelist(\"DirectedNets/subelj_euroroad/out.subelj_euroroad_euroroad\", comments=\"%\")\n",
    "with open(\"DirectedNets/subelj_euroroad.pkl\", \"wb\") as f:\n",
    "    pickle.dump(G,f)"
   ]
  },
  {
   "cell_type": "code",
   "execution_count": null,
   "id": "38607f3e-78d5-4945-a1ee-3a7f4169188e",
   "metadata": {},
   "outputs": [],
   "source": []
  },
  {
   "cell_type": "code",
   "execution_count": 17,
   "id": "2d1afd8b-386d-42e1-84f7-b4016602ddb0",
   "metadata": {
    "scrolled": true,
    "tags": []
   },
   "outputs": [
    {
     "data": {
      "text/plain": [
       "({(0, 1): 1,\n",
       "  (0, 2): 1,\n",
       "  (0, 3): 1,\n",
       "  (0, 4): 1,\n",
       "  (0, 5): 1,\n",
       "  (0, 6): 1,\n",
       "  (0, 7): 1,\n",
       "  (0, 8): 1,\n",
       "  (0, 9): 1,\n",
       "  (0, 10): 1,\n",
       "  (0, 11): 1,\n",
       "  (0, 12): 1,\n",
       "  (0, 13): 1,\n",
       "  (0, 14): 1,\n",
       "  (1, 17): 1,\n",
       "  (1, 115): 1,\n",
       "  (1, 2): 1,\n",
       "  (1, 162): 1,\n",
       "  (1, 4): 1,\n",
       "  (1, 163): 1,\n",
       "  (1, 23): 1,\n",
       "  (1, 29): 1,\n",
       "  (1, 164): 1,\n",
       "  (1, 6): 1,\n",
       "  (1, 33): 1,\n",
       "  (1, 73): 1,\n",
       "  (1, 37): 1,\n",
       "  (1, 97): 1,\n",
       "  (1, 8): 1,\n",
       "  (1, 165): 1,\n",
       "  (1, 41): 1,\n",
       "  (1, 9): 1,\n",
       "  (1, 10): 1,\n",
       "  (1, 11): 1,\n",
       "  (1, 146): 1,\n",
       "  (1, 50): 1,\n",
       "  (1, 67): 1,\n",
       "  (2, 83): 1,\n",
       "  (2, 132): 1,\n",
       "  (2, 16): 1,\n",
       "  (2, 149): 1,\n",
       "  (2, 157): 1,\n",
       "  (2, 1): 1,\n",
       "  (2, 17): 1,\n",
       "  (2, 115): 1,\n",
       "  (2, 133): 1,\n",
       "  (2, 185): 1,\n",
       "  (2, 206): 1,\n",
       "  (2, 3): 1,\n",
       "  (2, 145): 1,\n",
       "  (2, 19): 1,\n",
       "  (2, 84): 1,\n",
       "  (2, 20): 1,\n",
       "  (2, 78): 1,\n",
       "  (2, 4): 1,\n",
       "  (2, 119): 1,\n",
       "  (2, 21): 1,\n",
       "  (2, 173): 1,\n",
       "  (2, 22): 1,\n",
       "  (2, 23): 1,\n",
       "  (2, 86): 1,\n",
       "  (2, 87): 1,\n",
       "  (2, 151): 1,\n",
       "  (2, 134): 1,\n",
       "  (2, 141): 1,\n",
       "  (2, 210): 1,\n",
       "  (2, 176): 1,\n",
       "  (2, 211): 1,\n",
       "  (2, 79): 1,\n",
       "  (2, 70): 1,\n",
       "  (2, 5): 1,\n",
       "  (2, 89): 1,\n",
       "  (2, 27): 1,\n",
       "  (2, 178): 1,\n",
       "  (2, 135): 1,\n",
       "  (2, 57): 1,\n",
       "  (2, 29): 1,\n",
       "  (2, 212): 1,\n",
       "  (2, 91): 1,\n",
       "  (2, 152): 1,\n",
       "  (2, 6): 1,\n",
       "  (2, 92): 1,\n",
       "  (2, 31): 1,\n",
       "  (2, 93): 1,\n",
       "  (2, 94): 1,\n",
       "  (2, 71): 1,\n",
       "  (2, 229): 1,\n",
       "  (2, 72): 1,\n",
       "  (2, 81): 1,\n",
       "  (2, 7): 1,\n",
       "  (2, 95): 1,\n",
       "  (2, 96): 1,\n",
       "  (2, 33): 1,\n",
       "  (2, 73): 1,\n",
       "  (2, 35): 1,\n",
       "  (2, 36): 1,\n",
       "  (2, 37): 1,\n",
       "  (2, 39): 1,\n",
       "  (2, 97): 1,\n",
       "  (2, 98): 1,\n",
       "  (2, 137): 1,\n",
       "  (2, 166): 1,\n",
       "  (2, 62): 1,\n",
       "  (2, 160): 1,\n",
       "  (2, 41): 1,\n",
       "  (2, 65): 1,\n",
       "  (2, 127): 1,\n",
       "  (2, 9): 1,\n",
       "  (2, 10): 1,\n",
       "  (2, 11): 1,\n",
       "  (2, 42): 1,\n",
       "  (2, 12): 1,\n",
       "  (2, 43): 1,\n",
       "  (2, 153): 1,\n",
       "  (2, 99): 1,\n",
       "  (2, 44): 1,\n",
       "  (2, 184): 1,\n",
       "  (2, 100): 1,\n",
       "  (2, 230): 1,\n",
       "  (2, 45): 1,\n",
       "  (2, 46): 1,\n",
       "  (3, 2): 1,\n",
       "  (3, 206): 1,\n",
       "  (3, 225): 1,\n",
       "  (3, 4): 1,\n",
       "  (3, 22): 1,\n",
       "  (3, 210): 1,\n",
       "  (3, 79): 1,\n",
       "  (3, 5): 1,\n",
       "  (3, 72): 1,\n",
       "  (3, 73): 1,\n",
       "  (3, 35): 1,\n",
       "  (3, 9): 1,\n",
       "  (4, 77): 1,\n",
       "  (4, 1): 1,\n",
       "  (4, 224): 1,\n",
       "  (4, 2): 1,\n",
       "  (4, 206): 1,\n",
       "  (4, 145): 1,\n",
       "  (4, 19): 1,\n",
       "  (4, 162): 1,\n",
       "  (4, 117): 1,\n",
       "  (4, 21): 1,\n",
       "  (4, 163): 1,\n",
       "  (4, 22): 1,\n",
       "  (4, 23): 1,\n",
       "  (4, 87): 1,\n",
       "  (4, 66): 1,\n",
       "  (4, 210): 1,\n",
       "  (4, 79): 1,\n",
       "  (4, 70): 1,\n",
       "  (4, 5): 1,\n",
       "  (4, 89): 1,\n",
       "  (4, 27): 1,\n",
       "  (4, 29): 1,\n",
       "  (4, 91): 1,\n",
       "  (4, 6): 1,\n",
       "  (4, 92): 1,\n",
       "  (4, 81): 1,\n",
       "  (4, 95): 1,\n",
       "  (4, 96): 1,\n",
       "  (4, 216): 1,\n",
       "  (4, 73): 1,\n",
       "  (4, 37): 1,\n",
       "  (4, 41): 1,\n",
       "  (4, 219): 1,\n",
       "  (4, 9): 1,\n",
       "  (4, 10): 1,\n",
       "  (4, 11): 1,\n",
       "  (4, 42): 1,\n",
       "  (4, 12): 1,\n",
       "  (4, 44): 1,\n",
       "  (4, 45): 1,\n",
       "  (5, 2): 1,\n",
       "  (5, 4): 1,\n",
       "  (5, 70): 1,\n",
       "  (5, 136): 1,\n",
       "  (5, 100): 1,\n",
       "  (5, 107): 1,\n",
       "  (5, 353): 1,\n",
       "  (6, 1): 1,\n",
       "  (6, 17): 1,\n",
       "  (6, 224): 1,\n",
       "  (6, 2): 1,\n",
       "  (6, 206): 1,\n",
       "  (6, 3): 1,\n",
       "  (6, 162): 1,\n",
       "  (6, 150): 1,\n",
       "  (6, 117): 1,\n",
       "  (6, 4): 1,\n",
       "  (6, 21): 1,\n",
       "  (6, 22): 1,\n",
       "  (6, 23): 1,\n",
       "  (6, 24): 1,\n",
       "  (6, 66): 1,\n",
       "  (6, 210): 1,\n",
       "  (6, 168): 1,\n",
       "  (6, 27): 1,\n",
       "  (6, 164): 1,\n",
       "  (6, 91): 1,\n",
       "  (6, 330): 1,\n",
       "  (6, 92): 1,\n",
       "  (6, 213): 1,\n",
       "  (6, 72): 1,\n",
       "  (6, 81): 1,\n",
       "  (6, 7): 1,\n",
       "  (6, 95): 1,\n",
       "  (6, 96): 1,\n",
       "  (6, 215): 1,\n",
       "  (6, 73): 1,\n",
       "  (6, 62): 1,\n",
       "  (6, 41): 1,\n",
       "  (6, 219): 1,\n",
       "  (6, 9): 1,\n",
       "  (6, 10): 1,\n",
       "  (6, 12): 1,\n",
       "  (6, 99): 1,\n",
       "  (6, 44): 1,\n",
       "  (6, 100): 1,\n",
       "  (6, 45): 1,\n",
       "  (6, 13): 1,\n",
       "  (6, 171): 1,\n",
       "  (7, 3): 1,\n",
       "  (7, 85): 1,\n",
       "  (7, 5): 1,\n",
       "  (7, 30): 1,\n",
       "  (7, 35): 1,\n",
       "  (7, 82): 1,\n",
       "  (7, 367): 1,\n",
       "  (7, 105): 1,\n",
       "  (7, 113): 1,\n",
       "  (8, 1): 1,\n",
       "  (8, 17): 1,\n",
       "  (8, 2): 1,\n",
       "  (8, 4): 1,\n",
       "  (8, 119): 1,\n",
       "  (8, 23): 1,\n",
       "  (8, 212): 1,\n",
       "  (8, 152): 1,\n",
       "  (8, 33): 1,\n",
       "  (8, 65): 1,\n",
       "  (8, 9): 1,\n",
       "  (8, 315): 1,\n",
       "  (8, 466): 1,\n",
       "  (8, 104): 1,\n",
       "  (9, 2): 1,\n",
       "  (9, 69): 1,\n",
       "  (9, 150): 1,\n",
       "  (9, 66): 1,\n",
       "  (9, 5): 1,\n",
       "  (9, 30): 1,\n",
       "  (9, 170): 1,\n",
       "  (9, 146): 1,\n",
       "  (9, 82): 1,\n",
       "  (9, 473): 1,\n",
       "  (10, 1): 1,\n",
       "  (10, 2): 1,\n",
       "  (10, 4): 1,\n",
       "  (10, 30): 1,\n",
       "  (10, 96): 1,\n",
       "  (10, 73): 1,\n",
       "  (10, 62): 1,\n",
       "  (10, 41): 1,\n",
       "  (10, 9): 1,\n",
       "  (10, 42): 1,\n",
       "  (10, 99): 1,\n",
       "  (10, 82): 1,\n",
       "  (10, 67): 1,\n",
       "  (10, 101): 1,\n",
       "  (10, 102): 1,\n",
       "  (10, 103): 1,\n",
       "  (10, 105): 1,\n",
       "  (10, 49): 1,\n",
       "  (10, 111): 1,\n",
       "  (10, 195): 1,\n",
       "  (11, 0): 1,\n",
       "  (11, 83): 1,\n",
       "  (11, 132): 1,\n",
       "  (11, 18): 1,\n",
       "  (11, 133): 1,\n",
       "  (11, 2): 1,\n",
       "  (11, 116): 1,\n",
       "  (11, 69): 1,\n",
       "  (11, 145): 1,\n",
       "  (11, 19): 1,\n",
       "  (11, 162): 1,\n",
       "  (11, 140): 1,\n",
       "  (11, 84): 1,\n",
       "  (11, 20): 1,\n",
       "  (11, 78): 1,\n",
       "  (11, 4): 1,\n",
       "  (11, 173): 1,\n",
       "  (11, 163): 1,\n",
       "  (11, 22): 1,\n",
       "  (11, 23): 1,\n",
       "  (11, 87): 1,\n",
       "  (11, 134): 1,\n",
       "  (11, 211): 1,\n",
       "  (11, 289): 1,\n",
       "  (11, 70): 1,\n",
       "  (11, 5): 1,\n",
       "  (11, 89): 1,\n",
       "  (11, 124): 1,\n",
       "  (11, 27): 1,\n",
       "  (11, 178): 1,\n",
       "  (11, 135): 1,\n",
       "  (11, 90): 1,\n",
       "  (11, 241): 1,\n",
       "  (11, 91): 1,\n",
       "  (11, 152): 1,\n",
       "  (11, 6): 1,\n",
       "  (11, 92): 1,\n",
       "  (11, 31): 1,\n",
       "  (11, 94): 1,\n",
       "  (11, 213): 1,\n",
       "  (11, 229): 1,\n",
       "  (11, 136): 1,\n",
       "  (11, 72): 1,\n",
       "  (11, 7): 1,\n",
       "  (11, 214): 1,\n",
       "  (11, 95): 1,\n",
       "  (11, 96): 1,\n",
       "  (11, 33): 1,\n",
       "  (11, 35): 1,\n",
       "  (11, 217): 1,\n",
       "  (11, 36): 1,\n",
       "  (11, 37): 1,\n",
       "  (11, 39): 1,\n",
       "  (11, 97): 1,\n",
       "  (11, 98): 1,\n",
       "  (11, 137): 1,\n",
       "  (11, 62): 1,\n",
       "  (11, 64): 1,\n",
       "  (11, 160): 1,\n",
       "  (11, 41): 1,\n",
       "  (11, 65): 1,\n",
       "  (11, 9): 1,\n",
       "  (11, 10): 1,\n",
       "  (11, 42): 1,\n",
       "  (11, 12): 1,\n",
       "  (11, 43): 1,\n",
       "  (11, 153): 1,\n",
       "  (11, 99): 1,\n",
       "  (11, 44): 1,\n",
       "  (11, 147): 1,\n",
       "  (11, 184): 1,\n",
       "  (11, 100): 1,\n",
       "  (11, 82): 1,\n",
       "  (11, 67): 1,\n",
       "  (11, 45): 1,\n",
       "  (11, 161): 1,\n",
       "  (11, 107): 1,\n",
       "  (11, 13): 1,\n",
       "  (12, 2): 1,\n",
       "  (12, 116): 1,\n",
       "  (12, 69): 1,\n",
       "  (12, 206): 1,\n",
       "  (12, 19): 1,\n",
       "  (12, 162): 1,\n",
       "  (12, 4): 1,\n",
       "  (12, 163): 1,\n",
       "  (12, 22): 1,\n",
       "  (12, 23): 1,\n",
       "  (12, 86): 1,\n",
       "  (12, 87): 1,\n",
       "  (12, 66): 1,\n",
       "  (12, 141): 1,\n",
       "  (12, 210): 1,\n",
       "  (12, 211): 1,\n",
       "  (12, 79): 1,\n",
       "  (12, 70): 1,\n",
       "  (12, 5): 1,\n",
       "  (12, 27): 1,\n",
       "  (12, 28): 1,\n",
       "  (12, 241): 1,\n",
       "  (12, 91): 1,\n",
       "  (12, 152): 1,\n",
       "  (12, 30): 1,\n",
       "  (12, 6): 1,\n",
       "  (12, 330): 1,\n",
       "  (12, 31): 1,\n",
       "  (12, 213): 1,\n",
       "  (12, 7): 1,\n",
       "  (12, 214): 1,\n",
       "  (12, 95): 1,\n",
       "  (12, 59): 1,\n",
       "  (12, 73): 1,\n",
       "  (12, 35): 1,\n",
       "  (12, 37): 1,\n",
       "  (12, 38): 1,\n",
       "  (12, 62): 1,\n",
       "  (12, 41): 1,\n",
       "  (12, 65): 1,\n",
       "  (12, 9): 1,\n",
       "  (12, 10): 1,\n",
       "  (12, 44): 1,\n",
       "  (12, 243): 1,\n",
       "  (12, 100): 1,\n",
       "  (12, 230): 1,\n",
       "  (12, 82): 1,\n",
       "  (13, 331): 1,\n",
       "  (13, 315): 1,\n",
       "  (13, 404): 1,\n",
       "  (13, 513): 1,\n",
       "  (13, 104): 1,\n",
       "  (13, 105): 1,\n",
       "  (13, 197): 1,\n",
       "  (13, 155): 1,\n",
       "  (13, 423): 1,\n",
       "  (13, 171): 1,\n",
       "  (13, 353): 1,\n",
       "  (13, 108): 1,\n",
       "  (13, 517): 1,\n",
       "  (14, 420): 1,\n",
       "  (14, 315): 1,\n",
       "  (14, 102): 1,\n",
       "  (14, 285): 1,\n",
       "  (14, 417): 1,\n",
       "  (14, 105): 1,\n",
       "  (14, 396): 1,\n",
       "  (14, 197): 1,\n",
       "  (14, 155): 1,\n",
       "  (14, 525): 1,\n",
       "  (14, 107): 1,\n",
       "  (14, 148): 1,\n",
       "  (14, 13): 1,\n",
       "  (14, 353): 1,\n",
       "  (14, 497): 1,\n",
       "  (14, 113): 1,\n",
       "  (15, 0): 1,\n",
       "  (15, 16): 1,\n",
       "  (15, 17): 1,\n",
       "  (15, 18): 1,\n",
       "  (15, 2): 1,\n",
       "  (15, 19): 1,\n",
       "  (15, 20): 1,\n",
       "  (15, 4): 1,\n",
       "  (15, 21): 1,\n",
       "  (15, 22): 1,\n",
       "  (15, 23): 1,\n",
       "  (15, 24): 1,\n",
       "  (15, 25): 1,\n",
       "  (15, 5): 1,\n",
       "  (15, 26): 1,\n",
       "  (15, 27): 1,\n",
       "  (15, 28): 1,\n",
       "  (15, 29): 1,\n",
       "  (15, 30): 1,\n",
       "  (15, 31): 1,\n",
       "  (15, 32): 1,\n",
       "  (15, 7): 1,\n",
       "  (15, 33): 1,\n",
       "  (15, 34): 1,\n",
       "  (15, 35): 1,\n",
       "  (15, 36): 1,\n",
       "  (15, 37): 1,\n",
       "  (15, 38): 1,\n",
       "  (15, 39): 1,\n",
       "  (15, 40): 1,\n",
       "  (15, 41): 1,\n",
       "  (15, 9): 1,\n",
       "  (15, 10): 1,\n",
       "  (15, 11): 1,\n",
       "  (15, 42): 1,\n",
       "  (15, 12): 1,\n",
       "  (15, 43): 1,\n",
       "  (15, 44): 1,\n",
       "  (15, 45): 1,\n",
       "  (15, 46): 1,\n",
       "  (16, 132): 1,\n",
       "  (16, 1): 1,\n",
       "  (16, 2): 1,\n",
       "  (16, 69): 1,\n",
       "  (16, 19): 1,\n",
       "  (16, 140): 1,\n",
       "  (16, 20): 1,\n",
       "  (16, 4): 1,\n",
       "  (16, 119): 1,\n",
       "  (16, 23): 1,\n",
       "  (16, 141): 1,\n",
       "  (16, 5): 1,\n",
       "  (16, 91): 1,\n",
       "  (16, 33): 1,\n",
       "  (16, 142): 1,\n",
       "  (16, 36): 1,\n",
       "  (16, 38): 1,\n",
       "  (16, 40): 1,\n",
       "  (16, 61): 1,\n",
       "  (16, 137): 1,\n",
       "  (16, 64): 1,\n",
       "  (16, 41): 1,\n",
       "  (16, 9): 1,\n",
       "  (16, 10): 1,\n",
       "  (16, 12): 1,\n",
       "  (16, 129): 1,\n",
       "  (16, 100): 1,\n",
       "  (16, 82): 1,\n",
       "  (16, 143): 1,\n",
       "  (17, 1): 1,\n",
       "  (17, 17): 1,\n",
       "  (17, 2): 1,\n",
       "  (17, 145): 1,\n",
       "  (17, 162): 1,\n",
       "  (17, 4): 1,\n",
       "  (17, 163): 1,\n",
       "  (17, 29): 1,\n",
       "  (17, 164): 1,\n",
       "  (17, 6): 1,\n",
       "  (17, 33): 1,\n",
       "  (17, 73): 1,\n",
       "  (17, 37): 1,\n",
       "  (17, 97): 1,\n",
       "  (17, 165): 1,\n",
       "  (17, 41): 1,\n",
       "  (17, 9): 1,\n",
       "  (17, 10): 1,\n",
       "  (17, 11): 1,\n",
       "  (17, 67): 1,\n",
       "  (17, 161): 1,\n",
       "  (18, 114): 1,\n",
       "  (18, 133): 1,\n",
       "  (18, 172): 1,\n",
       "  (18, 2): 1,\n",
       "  (18, 20): 1,\n",
       "  (18, 4): 1,\n",
       "  (18, 120): 1,\n",
       "  (18, 173): 1,\n",
       "  (18, 174): 1,\n",
       "  (18, 23): 1,\n",
       "  (18, 134): 1,\n",
       "  (18, 175): 1,\n",
       "  (18, 176): 1,\n",
       "  (18, 177): 1,\n",
       "  (18, 5): 1,\n",
       "  (18, 124): 1,\n",
       "  (18, 178): 1,\n",
       "  (18, 57): 1,\n",
       "  (18, 179): 1,\n",
       "  (18, 180): 1,\n",
       "  (18, 181): 1,\n",
       "  (18, 96): 1,\n",
       "  (18, 73): 1,\n",
       "  (18, 34): 1,\n",
       "  (18, 182): 1,\n",
       "  (18, 62): 1,\n",
       "  (18, 64): 1,\n",
       "  (18, 9): 1,\n",
       "  (18, 10): 1,\n",
       "  (18, 11): 1,\n",
       "  (18, 42): 1,\n",
       "  (18, 183): 1,\n",
       "  (18, 44): 1,\n",
       "  (18, 147): 1,\n",
       "  (18, 128): 1,\n",
       "  (18, 184): 1,\n",
       "  (18, 100): 1,\n",
       "  (19, 77): 1,\n",
       "  (19, 83): 1,\n",
       "  (19, 185): 1,\n",
       "  (19, 2): 1,\n",
       "  (19, 69): 1,\n",
       "  (19, 145): 1,\n",
       "  (19, 239): 1,\n",
       "  (19, 150): 1,\n",
       "  (19, 84): 1,\n",
       "  (19, 20): 1,\n",
       "  (19, 78): 1,\n",
       "  (19, 4): 1,\n",
       "  (19, 120): 1,\n",
       "  (19, 173): 1,\n",
       "  (19, 22): 1,\n",
       "  (19, 23): 1,\n",
       "  (19, 86): 1,\n",
       "  (19, 87): 1,\n",
       "  (19, 151): 1,\n",
       "  (19, 134): 1,\n",
       "  (19, 66): 1,\n",
       "  (19, 141): 1,\n",
       "  (19, 176): 1,\n",
       "  (19, 79): 1,\n",
       "  (19, 70): 1,\n",
       "  (19, 5): 1,\n",
       "  (19, 89): 1,\n",
       "  (19, 124): 1,\n",
       "  (19, 27): 1,\n",
       "  (19, 178): 1,\n",
       "  (19, 135): 1,\n",
       "  (19, 57): 1,\n",
       "  (19, 28): 1,\n",
       "  (19, 90): 1,\n",
       "  (19, 91): 1,\n",
       "  (19, 152): 1,\n",
       "  (19, 180): 1,\n",
       "  (19, 6): 1,\n",
       "  (19, 92): 1,\n",
       "  (19, 31): 1,\n",
       "  (19, 93): 1,\n",
       "  (19, 94): 1,\n",
       "  (19, 71): 1,\n",
       "  (19, 213): 1,\n",
       "  (19, 229): 1,\n",
       "  (19, 136): 1,\n",
       "  (19, 72): 1,\n",
       "  (19, 32): 1,\n",
       "  (19, 81): 1,\n",
       "  (19, 7): 1,\n",
       "  (19, 214): 1,\n",
       "  (19, 95): 1,\n",
       "  (19, 96): 1,\n",
       "  (19, 33): 1,\n",
       "  (19, 188): 1,\n",
       "  (19, 215): 1,\n",
       "  (19, 216): 1,\n",
       "  (19, 73): 1,\n",
       "  (19, 247): 1,\n",
       "  (19, 34): 1,\n",
       "  (19, 35): 1,\n",
       "  (19, 266): 1,\n",
       "  (19, 37): 1,\n",
       "  (19, 38): 1,\n",
       "  (19, 39): 1,\n",
       "  (19, 97): 1,\n",
       "  (19, 61): 1,\n",
       "  (19, 8): 1,\n",
       "  (19, 98): 1,\n",
       "  (19, 137): 1,\n",
       "  (19, 62): 1,\n",
       "  (19, 160): 1,\n",
       "  (19, 41): 1,\n",
       "  (19, 65): 1,\n",
       "  (19, 9): 1,\n",
       "  (19, 10): 1,\n",
       "  (19, 11): 1,\n",
       "  (19, 190): 1,\n",
       "  (19, 42): 1,\n",
       "  (19, 12): 1,\n",
       "  (19, 43): 1,\n",
       "  (19, 153): 1,\n",
       "  (19, 44): 1,\n",
       "  (19, 147): 1,\n",
       "  (19, 129): 1,\n",
       "  (19, 184): 1,\n",
       "  (19, 243): 1,\n",
       "  (19, 100): 1,\n",
       "  (19, 230): 1,\n",
       "  (19, 82): 1,\n",
       "  (19, 45): 1,\n",
       "  (19, 46): 1,\n",
       "  (20, 16): 1,\n",
       "  (20, 144): 1,\n",
       "  (20, 149): 1,\n",
       "  (20, 1): 1,\n",
       "  (20, 17): 1,\n",
       "  (20, 115): 1,\n",
       "  (20, 18): 1,\n",
       "  (20, 133): 1,\n",
       "  (20, 185): 1,\n",
       "  (20, 2): 1,\n",
       "  (20, 69): 1,\n",
       "  (20, 3): 1,\n",
       "  (20, 145): 1,\n",
       "  (20, 239): 1,\n",
       "  (20, 19): 1,\n",
       "  (20, 269): 1,\n",
       "  (20, 162): 1,\n",
       "  (20, 140): 1,\n",
       "  (20, 84): 1,\n",
       "  (20, 270): 1,\n",
       "  (20, 300): 1,\n",
       "  (20, 78): 1,\n",
       "  (20, 4): 1,\n",
       "  (20, 173): 1,\n",
       "  (20, 23): 1,\n",
       "  (20, 87): 1,\n",
       "  (20, 151): 1,\n",
       "  (20, 134): 1,\n",
       "  (20, 66): 1,\n",
       "  (20, 141): 1,\n",
       "  (20, 209): 1,\n",
       "  (20, 122): 1,\n",
       "  (20, 56): 1,\n",
       "  (20, 301): 1,\n",
       "  (20, 123): 1,\n",
       "  (20, 211): 1,\n",
       "  (20, 79): 1,\n",
       "  (20, 70): 1,\n",
       "  (20, 302): 1,\n",
       "  (20, 124): 1,\n",
       "  (20, 27): 1,\n",
       "  (20, 178): 1,\n",
       "  (20, 205): 1,\n",
       "  (20, 57): 1,\n",
       "  (20, 90): 1,\n",
       "  (20, 212): 1,\n",
       "  (20, 152): 1,\n",
       "  (20, 180): 1,\n",
       "  (20, 92): 1,\n",
       "  (20, 94): 1,\n",
       "  (20, 213): 1,\n",
       "  (20, 229): 1,\n",
       "  (20, 136): 1,\n",
       "  (20, 72): 1,\n",
       "  (20, 7): 1,\n",
       "  (20, 251): 1,\n",
       "  (20, 214): 1,\n",
       "  (20, 95): 1,\n",
       "  (20, 96): 1,\n",
       "  (20, 33): 1,\n",
       "  (20, 73): 1,\n",
       "  (20, 35): 1,\n",
       "  (20, 36): 1,\n",
       "  (20, 37): 1,\n",
       "  (20, 38): 1,\n",
       "  (20, 39): 1,\n",
       "  (20, 97): 1,\n",
       "  (20, 40): 1,\n",
       "  (20, 8): 1,\n",
       "  (20, 98): 1,\n",
       "  (20, 137): 1,\n",
       "  (20, 166): 1,\n",
       "  (20, 182): 1,\n",
       "  (20, 62): 1,\n",
       "  (20, 64): 1,\n",
       "  (20, 41): 1,\n",
       "  (20, 65): 1,\n",
       "  (20, 9): 1,\n",
       "  (20, 10): 1,\n",
       "  (20, 11): 1,\n",
       "  (20, 303): 1,\n",
       "  (20, 42): 1,\n",
       "  (20, 253): 1,\n",
       "  (20, 183): 1,\n",
       "  (20, 12): 1,\n",
       "  (20, 43): 1,\n",
       "  (20, 99): 1,\n",
       "  (20, 44): 1,\n",
       "  (20, 304): 1,\n",
       "  (20, 129): 1,\n",
       "  (20, 184): 1,\n",
       "  (20, 100): 1,\n",
       "  (20, 82): 1,\n",
       "  (20, 67): 1,\n",
       "  (20, 244): 1,\n",
       "  (20, 45): 1,\n",
       "  (20, 46): 1,\n",
       "  (21, 2): 1,\n",
       "  (21, 4): 1,\n",
       "  (21, 82): 1,\n",
       "  (22, 2): 1,\n",
       "  (22, 69): 1,\n",
       "  (22, 206): 1,\n",
       "  (22, 19): 1,\n",
       "  (22, 225): 1,\n",
       "  (22, 78): 1,\n",
       "  (22, 4): 1,\n",
       "  (22, 87): 1,\n",
       "  (22, 210): 1,\n",
       "  (22, 79): 1,\n",
       "  (22, 5): 1,\n",
       "  (22, 27): 1,\n",
       "  (22, 178): 1,\n",
       "  (22, 91): 1,\n",
       "  (22, 30): 1,\n",
       "  (22, 92): 1,\n",
       "  (22, 72): 1,\n",
       "  (22, 81): 1,\n",
       "  (22, 7): 1,\n",
       "  (22, 214): 1,\n",
       "  (22, 96): 1,\n",
       "  (22, 73): 1,\n",
       "  (22, 97): 1,\n",
       "  (22, 98): 1,\n",
       "  (22, 65): 1,\n",
       "  (22, 9): 1,\n",
       "  (22, 10): 1,\n",
       "  (22, 11): 1,\n",
       "  (22, 42): 1,\n",
       "  (22, 153): 1,\n",
       "  (22, 44): 1,\n",
       "  (22, 184): 1,\n",
       "  (22, 100): 1,\n",
       "  (22, 82): 1,\n",
       "  (23, 77): 1,\n",
       "  (23, 83): 1,\n",
       "  (23, 115): 1,\n",
       "  (23, 133): 1,\n",
       "  (23, 185): 1,\n",
       "  (23, 2): 1,\n",
       "  (23, 116): 1,\n",
       "  (23, 69): 1,\n",
       "  (23, 84): 1,\n",
       "  (23, 20): 1,\n",
       "  (23, 78): 1,\n",
       "  (23, 4): 1,\n",
       "  (23, 86): 1,\n",
       "  (23, 87): 1,\n",
       "  (23, 134): 1,\n",
       "  (23, 235): 1,\n",
       "  (23, 66): 1,\n",
       "  (23, 211): 1,\n",
       "  (23, 79): 1,\n",
       "  (23, 89): 1,\n",
       "  (23, 27): 1,\n",
       "  (23, 178): 1,\n",
       "  (23, 135): 1,\n",
       "  (23, 57): 1,\n",
       "  (23, 90): 1,\n",
       "  (23, 91): 1,\n",
       "  (23, 30): 1,\n",
       "  (23, 6): 1,\n",
       "  (23, 330): 1,\n",
       "  (23, 92): 1,\n",
       "  (23, 93): 1,\n",
       "  (23, 94): 1,\n",
       "  (23, 72): 1,\n",
       "  (23, 7): 1,\n",
       "  (23, 214): 1,\n",
       "  (23, 95): 1,\n",
       "  (23, 96): 1,\n",
       "  (23, 59): 1,\n",
       "  (23, 35): 1,\n",
       "  (23, 36): 1,\n",
       "  (23, 37): 1,\n",
       "  (23, 39): 1,\n",
       "  (23, 97): 1,\n",
       "  (23, 98): 1,\n",
       "  (23, 166): 1,\n",
       "  (23, 62): 1,\n",
       "  (23, 160): 1,\n",
       "  (23, 41): 1,\n",
       "  (23, 65): 1,\n",
       "  (23, 127): 1,\n",
       "  (23, 9): 1,\n",
       "  (23, 10): 1,\n",
       "  (23, 11): 1,\n",
       "  (23, 42): 1,\n",
       "  (23, 12): 1,\n",
       "  (23, 43): 1,\n",
       "  (23, 99): 1,\n",
       "  (23, 44): 1,\n",
       "  (23, 129): 1,\n",
       "  (23, 184): 1,\n",
       "  (23, 100): 1,\n",
       "  (23, 82): 1,\n",
       "  (23, 45): 1,\n",
       "  (23, 46): 1,\n",
       "  (23, 331): 1,\n",
       "  (23, 105): 1,\n",
       "  (23, 13): 1,\n",
       "  (24, 77): 1,\n",
       "  (24, 2): 1,\n",
       "  (24, 238): 1,\n",
       "  (24, 3): 1,\n",
       "  (24, 162): 1,\n",
       "  (24, 117): 1,\n",
       "  (24, 85): 1,\n",
       "  (24, 4): 1,\n",
       "  (24, 23): 1,\n",
       "  (24, 164): 1,\n",
       "  (24, 6): 1,\n",
       "  (24, 260): 1,\n",
       "  (24, 95): 1,\n",
       "  (24, 96): 1,\n",
       "  (24, 73): 1,\n",
       "  (24, 35): 1,\n",
       "  (24, 9): 1,\n",
       "  (24, 10): 1,\n",
       "  (24, 147): 1,\n",
       "  (24, 82): 1,\n",
       "  (24, 67): 1,\n",
       "  (24, 104): 1,\n",
       "  (24, 346): 1,\n",
       "  (25, 15): 1,\n",
       "  (25, 185): 1,\n",
       "  (25, 2): 1,\n",
       "  (25, 116): 1,\n",
       "  (25, 69): 1,\n",
       "  (25, 19): 1,\n",
       "  (25, 162): 1,\n",
       "  (25, 85): 1,\n",
       "  (25, 4): 1,\n",
       "  (25, 23): 1,\n",
       "  (25, 87): 1,\n",
       "  (25, 66): 1,\n",
       "  (25, 56): 1,\n",
       "  (25, 70): 1,\n",
       "  (25, 357): 1,\n",
       "  (25, 5): 1,\n",
       "  (25, 57): 1,\n",
       "  (25, 28): 1,\n",
       "  (25, 29): 1,\n",
       "  (25, 91): 1,\n",
       "  (25, 358): 1,\n",
       "  (25, 30): 1,\n",
       "  (25, 6): 1,\n",
       "  (25, 31): 1,\n",
       "  (25, 7): 1,\n",
       "  (25, 260): 1,\n",
       "  (25, 73): 1,\n",
       "  (25, 35): 1,\n",
       "  (25, 40): 1,\n",
       "  (25, 61): 1,\n",
       "  (25, 64): 1,\n",
       "  (25, 41): 1,\n",
       "  (25, 65): 1,\n",
       "  (25, 9): 1,\n",
       "  (25, 10): 1,\n",
       "  (25, 11): 1,\n",
       "  (25, 42): 1,\n",
       "  (25, 12): 1,\n",
       "  (25, 359): 1,\n",
       "  (25, 44): 1,\n",
       "  (25, 100): 1,\n",
       "  (25, 82): 1,\n",
       "  (25, 67): 1,\n",
       "  (25, 45): 1,\n",
       "  (25, 360): 1,\n",
       "  (25, 49): 1,\n",
       "  (26, 15): 1,\n",
       "  (26, 2): 1,\n",
       "  (26, 4): 1,\n",
       "  (26, 119): 1,\n",
       "  (26, 86): 1,\n",
       "  (26, 70): 1,\n",
       "  (26, 27): 1,\n",
       "  (26, 390): 1,\n",
       "  (26, 6): 1,\n",
       "  (26, 260): 1,\n",
       "  (26, 391): 1,\n",
       "  (26, 9): 1,\n",
       "  (26, 82): 1,\n",
       "  (26, 46): 1,\n",
       "  (26, 294): 1,\n",
       "  (26, 257): 1,\n",
       "  (26, 392): 1,\n",
       "  (26, 393): 1,\n",
       "  (26, 394): 1,\n",
       "  (26, 395): 1,\n",
       "  (26, 396): 1,\n",
       "  (26, 397): 1,\n",
       "  (27, 77): 1,\n",
       "  (27, 83): 1,\n",
       "  (27, 132): 1,\n",
       "  (27, 16): 1,\n",
       "  (27, 1): 1,\n",
       "  (27, 17): 1,\n",
       "  (27, 133): 1,\n",
       "  (27, 185): 1,\n",
       "  (27, 52): 1,\n",
       "  (27, 227): 1,\n",
       "  (27, 2): 1,\n",
       "  (27, 116): 1,\n",
       "  (27, 206): 1,\n",
       "  (27, 264): 1,\n",
       "  (27, 186): 1,\n",
       "  (27, 19): 1,\n",
       "  (27, 269): 1,\n",
       "  (27, 162): 1,\n",
       "  (27, 117): 1,\n",
       "  (27, 20): 1,\n",
       "  (27, 78): 1,\n",
       "  (27, 4): 1,\n",
       "  (27, 21): 1,\n",
       "  (27, 120): 1,\n",
       "  (27, 173): 1,\n",
       "  (27, 163): 1,\n",
       "  (27, 22): 1,\n",
       "  (27, 23): 1,\n",
       "  (27, 86): 1,\n",
       "  (27, 87): 1,\n",
       "  (27, 134): 1,\n",
       "  (27, 235): 1,\n",
       "  (27, 66): 1,\n",
       "  (27, 210): 1,\n",
       "  (27, 236): 1,\n",
       "  (27, 123): 1,\n",
       "  (27, 324): 1,\n",
       "  (27, 211): 1,\n",
       "  (27, 79): 1,\n",
       "  (27, 70): 1,\n",
       "  (27, 5): 1,\n",
       "  (27, 302): 1,\n",
       "  (27, 168): 1,\n",
       "  (27, 89): 1,\n",
       "  (27, 402): 1,\n",
       "  (27, 178): 1,\n",
       "  (27, 135): 1,\n",
       "  (27, 28): 1,\n",
       "  (27, 29): 1,\n",
       "  (27, 90): 1,\n",
       "  (27, 241): 1,\n",
       "  (27, 164): 1,\n",
       "  (27, 91): 1,\n",
       "  (27, 180): 1,\n",
       "  (27, 6): 1,\n",
       "  (27, 92): 1,\n",
       "  (27, 93): 1,\n",
       "  (27, 94): 1,\n",
       "  (27, 71): 1,\n",
       "  (27, 213): 1,\n",
       "  ...},\n",
       " (793, 793))"
      ]
     },
     "execution_count": 17,
     "metadata": {},
     "output_type": "execute_result"
    }
   ],
   "source": [
    "T = to_step_tensor(G,2)\n",
    "T"
   ]
  },
  {
   "cell_type": "code",
   "execution_count": 70,
   "id": "470da8a7-8235-41a2-aea1-ec6175b372d9",
   "metadata": {
    "tags": []
   },
   "outputs": [
    {
     "name": "stdout",
     "output_type": "stream",
     "text": [
      "Finished in 15 iterations.\n"
     ]
    },
    {
     "data": {
      "text/plain": [
       "True"
      ]
     },
     "execution_count": 70,
     "metadata": {},
     "output_type": "execute_result"
    }
   ],
   "source": [
    "cent2, converged = HEC_ours(T, m=2, niter=100000, tol=1e-6, verbose=True)\n",
    "\n",
    "HEC2 = {}\n",
    "for i, c in enumerate(cent2):\n",
    "    HEC2[i] = c \n",
    "    \n",
    "converged"
   ]
  },
  {
   "cell_type": "code",
   "execution_count": 71,
   "id": "9fb46a1c-21ce-4ae8-9873-ed028406080c",
   "metadata": {
    "tags": []
   },
   "outputs": [
    {
     "data": {
      "text/plain": [
       "0.32767321823705214"
      ]
     },
     "execution_count": 71,
     "metadata": {},
     "output_type": "execute_result"
    }
   ],
   "source": [
    "EC = nx.eigenvector_centrality_numpy(G)\n",
    "correlation(list(EC.values()), list(HEC2.values())).statistic"
   ]
  },
  {
   "cell_type": "code",
   "execution_count": null,
   "id": "31cf5469-9086-497d-b0e8-eb766fd0a9d5",
   "metadata": {},
   "outputs": [],
   "source": []
  }
 ],
 "metadata": {
  "kernelspec": {
   "display_name": "Python 3 (ipykernel)",
   "language": "python",
   "name": "python3"
  },
  "language_info": {
   "codemirror_mode": {
    "name": "ipython",
    "version": 3
   },
   "file_extension": ".py",
   "mimetype": "text/x-python",
   "name": "python",
   "nbconvert_exporter": "python",
   "pygments_lexer": "ipython3",
   "version": "3.10.12"
  }
 },
 "nbformat": 4,
 "nbformat_minor": 5
}
